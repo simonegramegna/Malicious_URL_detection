{
 "cells": [
  {
   "attachments": {},
   "cell_type": "markdown",
   "metadata": {
    "id": "FQ6dOsrRyGHf"
   },
   "source": [
    "#**1) PRE-PROCESSING**\n",
    "\n",
    "---\n",
    "\n"
   ]
  },
  {
   "cell_type": "code",
   "execution_count": 26,
   "metadata": {
    "colab": {
     "base_uri": "https://localhost:8080/"
    },
    "id": "j0THoGrCjX9O",
    "outputId": "e0a37e93-b404-4f7f-8266-f6a6beeb40a7"
   },
   "outputs": [
    {
     "name": "stdout",
     "output_type": "stream",
     "text": [
      "Requirement already satisfied: tldextract in /Users/albertogvalerio/opt/anaconda3/lib/python3.9/site-packages (3.4.1)\n",
      "Requirement already satisfied: idna in /Users/albertogvalerio/opt/anaconda3/lib/python3.9/site-packages (from tldextract) (3.2)\n",
      "Requirement already satisfied: requests>=2.1.0 in /Users/albertogvalerio/opt/anaconda3/lib/python3.9/site-packages (from tldextract) (2.26.0)\n",
      "Requirement already satisfied: requests-file>=1.4 in /Users/albertogvalerio/opt/anaconda3/lib/python3.9/site-packages (from tldextract) (1.5.1)\n",
      "Requirement already satisfied: filelock>=3.0.8 in /Users/albertogvalerio/opt/anaconda3/lib/python3.9/site-packages (from tldextract) (3.3.1)\n",
      "Requirement already satisfied: urllib3<1.27,>=1.21.1 in /Users/albertogvalerio/opt/anaconda3/lib/python3.9/site-packages (from requests>=2.1.0->tldextract) (1.26.7)\n",
      "Requirement already satisfied: certifi>=2017.4.17 in /Users/albertogvalerio/opt/anaconda3/lib/python3.9/site-packages (from requests>=2.1.0->tldextract) (2021.10.8)\n",
      "Requirement already satisfied: charset-normalizer~=2.0.0 in /Users/albertogvalerio/opt/anaconda3/lib/python3.9/site-packages (from requests>=2.1.0->tldextract) (2.0.4)\n",
      "Requirement already satisfied: six in /Users/albertogvalerio/opt/anaconda3/lib/python3.9/site-packages (from requests-file>=1.4->tldextract) (1.16.0)\n"
     ]
    }
   ],
   "source": [
    "!pip install tldextract"
   ]
  },
  {
   "cell_type": "code",
   "execution_count": 27,
   "metadata": {
    "id": "hMK3m2yNwxbV"
   },
   "outputs": [],
   "source": [
    "import warnings\n",
    "warnings.filterwarnings('ignore')\n",
    "import pandas as pd\n",
    "import numpy as np\n",
    "import random\n",
    "\n",
    "# Graphics Libs\n",
    "import matplotlib.pyplot as plt\n",
    "%matplotlib inline\n",
    "plt.rcParams['figure.figsize'] = 18, 8\n",
    "import seaborn as sns\n",
    "\n",
    "# Feature extraction Libs\n",
    "import requests\n",
    "from urllib.parse import urlparse, urlsplit\n",
    "import tldextract\n",
    "from sklearn.preprocessing import MinMaxScaler\n",
    "from sklearn.decomposition import PCA\n",
    "\n",
    "# Models and utils\n",
    "from sklearn.model_selection import train_test_split\n",
    "from sklearn.ensemble import AdaBoostClassifier, RandomForestClassifier\n",
    "from sklearn.svm import SVC\n",
    "from sklearn.metrics import accuracy_score, classification_report, confusion_matrix\n",
    "from sklearn.model_selection import RandomizedSearchCV\n",
    "from sklearn.model_selection import GridSearchCV\n",
    "\n",
    "# Keras library for autoencoder\n",
    "from keras.models import Model\n",
    "from keras.layers import Input, Dense\n",
    "\n",
    "# Pytorch library for neural network\n",
    "import torch\n",
    "from torch import nn, optim\n",
    "import torch.nn.functional as F\n",
    "device = \"cuda\" if torch.cuda.is_available() else \"cpu\""
   ]
  },
  {
   "cell_type": "code",
   "execution_count": 28,
   "metadata": {
    "colab": {
     "base_uri": "https://localhost:8080/",
     "height": 175
    },
    "id": "8_Qf72WjyVUa",
    "outputId": "41634563-cc82-465c-ff19-8ce216e71b47"
   },
   "outputs": [
    {
     "data": {
      "text/html": [
       "<div>\n",
       "<style scoped>\n",
       "    .dataframe tbody tr th:only-of-type {\n",
       "        vertical-align: middle;\n",
       "    }\n",
       "\n",
       "    .dataframe tbody tr th {\n",
       "        vertical-align: top;\n",
       "    }\n",
       "\n",
       "    .dataframe thead th {\n",
       "        text-align: right;\n",
       "    }\n",
       "</style>\n",
       "<table border=\"1\" class=\"dataframe\">\n",
       "  <thead>\n",
       "    <tr style=\"text-align: right;\">\n",
       "      <th></th>\n",
       "      <th>url</th>\n",
       "      <th>type</th>\n",
       "    </tr>\n",
       "  </thead>\n",
       "  <tbody>\n",
       "    <tr>\n",
       "      <th>count</th>\n",
       "      <td>663191</td>\n",
       "      <td>663191</td>\n",
       "    </tr>\n",
       "    <tr>\n",
       "      <th>unique</th>\n",
       "      <td>653040</td>\n",
       "      <td>5</td>\n",
       "    </tr>\n",
       "    <tr>\n",
       "      <th>top</th>\n",
       "      <td>http://style.org.hc360.com/css/detail/mysite/s...</td>\n",
       "      <td>benign</td>\n",
       "    </tr>\n",
       "    <tr>\n",
       "      <th>freq</th>\n",
       "      <td>180</td>\n",
       "      <td>428103</td>\n",
       "    </tr>\n",
       "  </tbody>\n",
       "</table>\n",
       "</div>"
      ],
      "text/plain": [
       "                                                      url    type\n",
       "count                                              663191  663191\n",
       "unique                                             653040       5\n",
       "top     http://style.org.hc360.com/css/detail/mysite/s...  benign\n",
       "freq                                                  180  428103"
      ]
     },
     "execution_count": 28,
     "metadata": {},
     "output_type": "execute_result"
    }
   ],
   "source": [
    "DATA_PATH = 'datasets/malicious_urls.csv'\n",
    "data = pd.read_csv(DATA_PATH)\n",
    "data.describe()"
   ]
  },
  {
   "cell_type": "code",
   "execution_count": 29,
   "metadata": {
    "colab": {
     "base_uri": "https://localhost:8080/",
     "height": 175
    },
    "id": "zg3xznubK_Ag",
    "outputId": "ca6ed818-14f1-4768-c095-353e02162903"
   },
   "outputs": [
    {
     "data": {
      "text/html": [
       "<div>\n",
       "<style scoped>\n",
       "    .dataframe tbody tr th:only-of-type {\n",
       "        vertical-align: middle;\n",
       "    }\n",
       "\n",
       "    .dataframe tbody tr th {\n",
       "        vertical-align: top;\n",
       "    }\n",
       "\n",
       "    .dataframe thead th {\n",
       "        text-align: right;\n",
       "    }\n",
       "</style>\n",
       "<table border=\"1\" class=\"dataframe\">\n",
       "  <thead>\n",
       "    <tr style=\"text-align: right;\">\n",
       "      <th></th>\n",
       "      <th>url</th>\n",
       "      <th>type</th>\n",
       "    </tr>\n",
       "  </thead>\n",
       "  <tbody>\n",
       "    <tr>\n",
       "      <th>count</th>\n",
       "      <td>653040</td>\n",
       "      <td>653040</td>\n",
       "    </tr>\n",
       "    <tr>\n",
       "      <th>unique</th>\n",
       "      <td>653040</td>\n",
       "      <td>5</td>\n",
       "    </tr>\n",
       "    <tr>\n",
       "      <th>top</th>\n",
       "      <td>br-icloud.com.br</td>\n",
       "      <td>benign</td>\n",
       "    </tr>\n",
       "    <tr>\n",
       "      <th>freq</th>\n",
       "      <td>1</td>\n",
       "      <td>428080</td>\n",
       "    </tr>\n",
       "  </tbody>\n",
       "</table>\n",
       "</div>"
      ],
      "text/plain": [
       "                     url    type\n",
       "count             653040  653040\n",
       "unique            653040       5\n",
       "top     br-icloud.com.br  benign\n",
       "freq                   1  428080"
      ]
     },
     "execution_count": 29,
     "metadata": {},
     "output_type": "execute_result"
    }
   ],
   "source": [
    "# Removing duplicates\n",
    "data = data.drop_duplicates(subset='url')\n",
    "data.describe()"
   ]
  },
  {
   "cell_type": "code",
   "execution_count": 30,
   "metadata": {
    "colab": {
     "base_uri": "https://localhost:8080/",
     "height": 424
    },
    "id": "dyb-StbL0PmM",
    "outputId": "fae91bc7-87d3-4bde-8947-7790ed44fd2a"
   },
   "outputs": [
    {
     "data": {
      "text/html": [
       "<div>\n",
       "<style scoped>\n",
       "    .dataframe tbody tr th:only-of-type {\n",
       "        vertical-align: middle;\n",
       "    }\n",
       "\n",
       "    .dataframe tbody tr th {\n",
       "        vertical-align: top;\n",
       "    }\n",
       "\n",
       "    .dataframe thead th {\n",
       "        text-align: right;\n",
       "    }\n",
       "</style>\n",
       "<table border=\"1\" class=\"dataframe\">\n",
       "  <thead>\n",
       "    <tr style=\"text-align: right;\">\n",
       "      <th></th>\n",
       "      <th>url</th>\n",
       "      <th>type</th>\n",
       "    </tr>\n",
       "  </thead>\n",
       "  <tbody>\n",
       "    <tr>\n",
       "      <th>0</th>\n",
       "      <td>br-icloud.com.br</td>\n",
       "      <td>phishing</td>\n",
       "    </tr>\n",
       "    <tr>\n",
       "      <th>1</th>\n",
       "      <td>mp3raid.com/music/krizz_kaliko.html</td>\n",
       "      <td>benign</td>\n",
       "    </tr>\n",
       "    <tr>\n",
       "      <th>2</th>\n",
       "      <td>bopsecrets.org/rexroth/cr/1.htm</td>\n",
       "      <td>benign</td>\n",
       "    </tr>\n",
       "    <tr>\n",
       "      <th>3</th>\n",
       "      <td>http://www.garage-pirenne.be/index.php?option=...</td>\n",
       "      <td>defacement</td>\n",
       "    </tr>\n",
       "    <tr>\n",
       "      <th>4</th>\n",
       "      <td>http://adventure-nicaragua.net/index.php?optio...</td>\n",
       "      <td>defacement</td>\n",
       "    </tr>\n",
       "    <tr>\n",
       "      <th>...</th>\n",
       "      <td>...</td>\n",
       "      <td>...</td>\n",
       "    </tr>\n",
       "    <tr>\n",
       "      <th>663186</th>\n",
       "      <td>http://archive.salisburyjournal.co.uk/2001/3/7/</td>\n",
       "      <td>spam</td>\n",
       "    </tr>\n",
       "    <tr>\n",
       "      <th>663187</th>\n",
       "      <td>http://astore.amazon.co.uk/allezvinsfrenchr/de...</td>\n",
       "      <td>spam</td>\n",
       "    </tr>\n",
       "    <tr>\n",
       "      <th>663188</th>\n",
       "      <td>http://archive.thisischeshire.co.uk/2000/1/14/...</td>\n",
       "      <td>spam</td>\n",
       "    </tr>\n",
       "    <tr>\n",
       "      <th>663189</th>\n",
       "      <td>http://applerugs.co.uk/rugs/product_info.php?p...</td>\n",
       "      <td>spam</td>\n",
       "    </tr>\n",
       "    <tr>\n",
       "      <th>663190</th>\n",
       "      <td>http://allgirltogaparty.co.uk/gallery2/main.ph...</td>\n",
       "      <td>spam</td>\n",
       "    </tr>\n",
       "  </tbody>\n",
       "</table>\n",
       "<p>653040 rows × 2 columns</p>\n",
       "</div>"
      ],
      "text/plain": [
       "                                                      url        type\n",
       "0                                        br-icloud.com.br    phishing\n",
       "1                     mp3raid.com/music/krizz_kaliko.html      benign\n",
       "2                         bopsecrets.org/rexroth/cr/1.htm      benign\n",
       "3       http://www.garage-pirenne.be/index.php?option=...  defacement\n",
       "4       http://adventure-nicaragua.net/index.php?optio...  defacement\n",
       "...                                                   ...         ...\n",
       "663186    http://archive.salisburyjournal.co.uk/2001/3/7/        spam\n",
       "663187  http://astore.amazon.co.uk/allezvinsfrenchr/de...        spam\n",
       "663188  http://archive.thisischeshire.co.uk/2000/1/14/...        spam\n",
       "663189  http://applerugs.co.uk/rugs/product_info.php?p...        spam\n",
       "663190  http://allgirltogaparty.co.uk/gallery2/main.ph...        spam\n",
       "\n",
       "[653040 rows x 2 columns]"
      ]
     },
     "execution_count": 30,
     "metadata": {},
     "output_type": "execute_result"
    }
   ],
   "source": [
    "data"
   ]
  },
  {
   "cell_type": "code",
   "execution_count": 31,
   "metadata": {
    "colab": {
     "base_uri": "https://localhost:8080/",
     "height": 615
    },
    "id": "SOV-NQ-X7GHv",
    "outputId": "0c2a50f6-0f6f-49ef-a1f9-56d4864a2da0"
   },
   "outputs": [
    {
     "data": {
      "image/png": "[encoded data removed]",
      "text/plain": [
       "<Figure size 1296x576 with 1 Axes>"
      ]
     },
     "metadata": {
      "needs_background": "light"
     },
     "output_type": "display_data"
    }
   ],
   "source": [
    "count = data.type.value_counts()\n",
    "bar_labels = [count.index[i].capitalize()+' (n. ' + str(count[i]) + ')' for i in range(len(count.index))]\n",
    "bars = plt.bar(count.index, height=count, label=bar_labels, color=['#8fce00', '#0092ff', '#ff8200', '#ff1100', '#ffcd34'])\n",
    "\n",
    "for rect in bars:\n",
    "    height = rect.get_height()\n",
    "    plt.text(rect.get_x() + rect.get_width() / 2.0, height, f'{height:.0f} ({height/len(data)*100:.2f}%)', ha='center', va='bottom')\n",
    "\n",
    "plt.xlabel('LABELS', labelpad=20)\n",
    "plt.ylabel('COUNT', labelpad=20)\n",
    "plt.title('EXPLORING DATASET')\n",
    "plt.legend()\n",
    "plt.show()"
   ]
  },
  {
   "cell_type": "code",
   "execution_count": 32,
   "metadata": {
    "colab": {
     "base_uri": "https://localhost:8080/",
     "height": 615
    },
    "id": "AahlIETemeYj",
    "outputId": "4d4c3b49-0a79-4842-ec66-7b0ba011edeb"
   },
   "outputs": [
    {
     "data": {
      "image/png": "[encoded data removed]",
      "text/plain": [
       "<Figure size 1296x576 with 1 Axes>"
      ]
     },
     "metadata": {
      "needs_background": "light"
     },
     "output_type": "display_data"
    }
   ],
   "source": [
    "benign = count[0]\n",
    "malicious = len(data) - benign\n",
    "bar_labels = ['Benign (n.'+str(benign)+')', 'Malicious (n.'+str(malicious)+')']\n",
    "bars = plt.bar(['benign', 'malicious'], height=[benign, malicious], label=bar_labels, color=['#8fce00', '#ff1100'])\n",
    "\n",
    "for rect in bars:\n",
    "    height = rect.get_height()\n",
    "    plt.text(rect.get_x() + rect.get_width() / 2.0, height, f'{height:.0f} ({height/len(data)*100:.2f}%)', ha='center', va='bottom')\n",
    "\n",
    "plt.xlabel('CLASSES', labelpad=20)\n",
    "plt.ylabel('COUNT', labelpad=20)\n",
    "plt.title('EXPLORING DATASET')\n",
    "plt.legend()\n",
    "plt.show()"
   ]
  },
  {
   "cell_type": "code",
   "execution_count": 33,
   "metadata": {
    "id": "fl_80_0WSv4m"
   },
   "outputs": [],
   "source": [
    "benign_urls = data[data['type'] == 'benign']\n",
    "defacement_urls = data[data['type'] == 'defacement']\n",
    "phishing_urls = data[data['type'] == 'phishing']\n",
    "malware_urls = data[data['type'] == 'malware']\n",
    "spam_urls = data[data['type'] == 'spam']\n",
    "\n",
    "benign_urls_sample = random.sample(list(benign_urls.index), 10000)\n",
    "defacement_urls_sample = random.sample(list(defacement_urls.index), 2500)\n",
    "phishing_urls_sample = random.sample(list(phishing_urls.index), 2500)\n",
    "malware_urls_sample = random.sample(list(malware_urls.index), 2500)\n",
    "spam_urls_sample = random.sample(list(spam_urls.index), 2500)\n",
    "\n",
    "selected_indexes = benign_urls_sample + defacement_urls_sample + phishing_urls_sample + malware_urls_sample + spam_urls_sample\n",
    "random.shuffle(selected_indexes)\n",
    "data_sampled = data.loc[selected_indexes]\n",
    "data_sampled = data_sampled.reset_index(drop=True)"
   ]
  },
  {
   "cell_type": "code",
   "execution_count": 34,
   "metadata": {
    "colab": {
     "base_uri": "https://localhost:8080/",
     "height": 175
    },
    "id": "XNkRP4x9RR_r",
    "outputId": "ef0c21e9-b451-4a66-c2b6-efee5b2c8531"
   },
   "outputs": [
    {
     "data": {
      "text/html": [
       "<div>\n",
       "<style scoped>\n",
       "    .dataframe tbody tr th:only-of-type {\n",
       "        vertical-align: middle;\n",
       "    }\n",
       "\n",
       "    .dataframe tbody tr th {\n",
       "        vertical-align: top;\n",
       "    }\n",
       "\n",
       "    .dataframe thead th {\n",
       "        text-align: right;\n",
       "    }\n",
       "</style>\n",
       "<table border=\"1\" class=\"dataframe\">\n",
       "  <thead>\n",
       "    <tr style=\"text-align: right;\">\n",
       "      <th></th>\n",
       "      <th>url</th>\n",
       "      <th>type</th>\n",
       "    </tr>\n",
       "  </thead>\n",
       "  <tbody>\n",
       "    <tr>\n",
       "      <th>count</th>\n",
       "      <td>20000</td>\n",
       "      <td>20000</td>\n",
       "    </tr>\n",
       "    <tr>\n",
       "      <th>unique</th>\n",
       "      <td>20000</td>\n",
       "      <td>5</td>\n",
       "    </tr>\n",
       "    <tr>\n",
       "      <th>top</th>\n",
       "      <td>http://konsult-v.com/index.php?option=com_cont...</td>\n",
       "      <td>benign</td>\n",
       "    </tr>\n",
       "    <tr>\n",
       "      <th>freq</th>\n",
       "      <td>1</td>\n",
       "      <td>10000</td>\n",
       "    </tr>\n",
       "  </tbody>\n",
       "</table>\n",
       "</div>"
      ],
      "text/plain": [
       "                                                      url    type\n",
       "count                                               20000   20000\n",
       "unique                                              20000       5\n",
       "top     http://konsult-v.com/index.php?option=com_cont...  benign\n",
       "freq                                                    1   10000"
      ]
     },
     "execution_count": 34,
     "metadata": {},
     "output_type": "execute_result"
    }
   ],
   "source": [
    "data_sampled.describe()"
   ]
  },
  {
   "cell_type": "code",
   "execution_count": 35,
   "metadata": {
    "colab": {
     "base_uri": "https://localhost:8080/",
     "height": 619
    },
    "id": "K1uV6jZMRzvb",
    "outputId": "a9ecc938-aae8-441d-a1eb-491c8cf52cae"
   },
   "outputs": [
    {
     "data": {
      "image/png": "[encoded data removed]",
      "text/plain": [
       "<Figure size 1296x576 with 1 Axes>"
      ]
     },
     "metadata": {
      "needs_background": "light"
     },
     "output_type": "display_data"
    }
   ],
   "source": [
    "count = data_sampled.type.value_counts()\n",
    "bar_labels = [count.index[i].capitalize()+' (n. ' + str(count[i]) + ')' for i in range(len(count.index))]\n",
    "bars = plt.bar(count.index, height=count, label=bar_labels, color=['#8fce00', '#0092ff', '#ff8200', '#ff1100', '#ffcd34'])\n",
    "\n",
    "for rect in bars:\n",
    "    height = rect.get_height()\n",
    "    plt.text(rect.get_x() + rect.get_width() / 2.0, height, f'{height:.0f} ({height/len(data_sampled)*100:.2f}%)', ha='center', va='bottom')\n",
    "\n",
    "plt.xlabel('LABELS', labelpad=20)\n",
    "plt.ylabel('COUNT', labelpad=20)\n",
    "plt.title('EXPLORING BALANCED DATASET')\n",
    "plt.legend()\n",
    "plt.show()"
   ]
  },
  {
   "cell_type": "code",
   "execution_count": 36,
   "metadata": {
    "colab": {
     "base_uri": "https://localhost:8080/",
     "height": 619
    },
    "id": "31titqmmR_on",
    "outputId": "76dde962-ddb5-4a58-d73a-e1bc60d4e755"
   },
   "outputs": [
    {
     "data": {
      "image/png": "[encoded data removed]",
      "text/plain": [
       "<Figure size 1296x576 with 1 Axes>"
      ]
     },
     "metadata": {
      "needs_background": "light"
     },
     "output_type": "display_data"
    }
   ],
   "source": [
    "benign = count[0]\n",
    "malicious = len(data_sampled) - benign\n",
    "bar_labels = ['Benign (n.'+str(benign)+')', 'Malicious (n.'+str(malicious)+')']\n",
    "bars = plt.bar(['benign', 'malicious'], height=[benign, malicious], label=bar_labels, color=['#8fce00', '#ff1100'])\n",
    "\n",
    "for rect in bars:\n",
    "    height = rect.get_height()\n",
    "    plt.text(rect.get_x() + rect.get_width() / 2.0, height, f'{height:.0f} ({height/len(data_sampled)*100:.2f}%)', ha='center', va='bottom')\n",
    "\n",
    "plt.xlabel('CLASSES', labelpad=20)\n",
    "plt.ylabel('COUNT', labelpad=20)\n",
    "plt.title('EXPLORING DATASET')\n",
    "plt.show()"
   ]
  },
  {
   "cell_type": "code",
   "execution_count": 37,
   "metadata": {
    "colab": {
     "base_uri": "https://localhost:8080/",
     "height": 175
    },
    "id": "MMsgSS9ySY-I",
    "outputId": "27e8b1f0-d16b-45de-e4a4-478624044959"
   },
   "outputs": [
    {
     "data": {
      "text/html": [
       "<div>\n",
       "<style scoped>\n",
       "    .dataframe tbody tr th:only-of-type {\n",
       "        vertical-align: middle;\n",
       "    }\n",
       "\n",
       "    .dataframe tbody tr th {\n",
       "        vertical-align: top;\n",
       "    }\n",
       "\n",
       "    .dataframe thead th {\n",
       "        text-align: right;\n",
       "    }\n",
       "</style>\n",
       "<table border=\"1\" class=\"dataframe\">\n",
       "  <thead>\n",
       "    <tr style=\"text-align: right;\">\n",
       "      <th></th>\n",
       "      <th>url</th>\n",
       "      <th>type</th>\n",
       "    </tr>\n",
       "  </thead>\n",
       "  <tbody>\n",
       "    <tr>\n",
       "      <th>count</th>\n",
       "      <td>20000</td>\n",
       "      <td>20000</td>\n",
       "    </tr>\n",
       "    <tr>\n",
       "      <th>unique</th>\n",
       "      <td>20000</td>\n",
       "      <td>5</td>\n",
       "    </tr>\n",
       "    <tr>\n",
       "      <th>top</th>\n",
       "      <td>http://173.15.162.156:4755/Mozi.m</td>\n",
       "      <td>benign</td>\n",
       "    </tr>\n",
       "    <tr>\n",
       "      <th>freq</th>\n",
       "      <td>1</td>\n",
       "      <td>10000</td>\n",
       "    </tr>\n",
       "  </tbody>\n",
       "</table>\n",
       "</div>"
      ],
      "text/plain": [
       "                                      url    type\n",
       "count                               20000   20000\n",
       "unique                              20000       5\n",
       "top     http://173.15.162.156:4755/Mozi.m  benign\n",
       "freq                                    1   10000"
      ]
     },
     "execution_count": 37,
     "metadata": {},
     "output_type": "execute_result"
    }
   ],
   "source": [
    "#file_path = '/content/urls_sampled.csv'\n",
    "#data_sampled.to_csv(file_path, index=False)\n",
    "data = pd.read_csv('datasets/urls_sampled.csv')\n",
    "data.describe()"
   ]
  },
  {
   "attachments": {},
   "cell_type": "markdown",
   "metadata": {
    "id": "9_IJyGOCyWMV"
   },
   "source": [
    "#**2) FEATURES ENGINEERING**\n",
    "\n",
    "---\n",
    "\n"
   ]
  },
  {
   "cell_type": "code",
   "execution_count": 38,
   "metadata": {
    "id": "nTe2PME4ycoF"
   },
   "outputs": [],
   "source": [
    "#\n",
    "# Number of character '.' in URL\n",
    "# Return: numeric\n",
    "#\n",
    "def count_dots(url: str):\n",
    "    return url.count('.')\n",
    "\n",
    "\n",
    "#\n",
    "# Number of subdomain levels\n",
    "# Return: numeric\n",
    "#\n",
    "def count_subdomains(url: str):\n",
    "    subdomain = tldextract.extract(url).subdomain\n",
    "    return len(subdomain.split('.')) if len(subdomain) != 0 else 0\n",
    "\n",
    "\n",
    "#\n",
    "# The depth of URL\n",
    "# Return: numeric\n",
    "#\n",
    "def get_path_level(url: str):\n",
    "    path = urlsplit(url).path\n",
    "    path = path[1:] if len(path) > 0 and path[0] == '/' else path\n",
    "    path = path[:-1] if len(path) > 0 and path[-1] == '/' else path\n",
    "    return len(path.split('/')) if len(path) > 0 else 0\n",
    "\n",
    "\n",
    "#\n",
    "# The length of URL\n",
    "# Return: numeric\n",
    "#\n",
    "def get_len(url: str):\n",
    "    return len(url)\n",
    "\n",
    "\n",
    "#\n",
    "# Number of the dash character '-' in URL\n",
    "# Return: numeric\n",
    "#\n",
    "def count_dash(url: str):\n",
    "    return url.count('-')\n",
    "\n",
    "\n",
    "#\n",
    "# There exists a character '@' in URL\n",
    "# Return: boolean\n",
    "#\n",
    "def check_at_symbol(url: str):\n",
    "    return '@' in url\n",
    "\n",
    "\n",
    "#\n",
    "# There exists a character '~' in URL\n",
    "# Return: boolean\n",
    "#\n",
    "def check_tilde_symbol(url: str):\n",
    "    return '~' in url\n",
    "\n",
    "\n",
    "#\n",
    "# Number of the underscore character '_' in URL\n",
    "# Return: numeric\n",
    "#\n",
    "def count_underscore(url: str):\n",
    "    return url.count('_')\n",
    "\n",
    "\n",
    "#\n",
    "# Number of the percent character '%' in URL\n",
    "# Return: numeric\n",
    "#\n",
    "def count_percent(url: str):\n",
    "    return url.count('%')\n",
    "\n",
    "\n",
    "#\n",
    "# Number of the query components\n",
    "# Return: numeric\n",
    "#\n",
    "def count_query_components(url: str):\n",
    "    query_components = urlparse(url).query.split(\"&\") if len(urlparse(url).query) > 0 else ''\n",
    "    return len(query_components)\n",
    "\n",
    "\n",
    "#\n",
    "# Number of the ampersand character '&' in URL\n",
    "# Return: numeric\n",
    "#\n",
    "def count_ampersand(url: str):\n",
    "    return url.count('&')\n",
    "\n",
    "\n",
    "#\n",
    "# Number of the hash character '#' in URL\n",
    "# Return: numeric\n",
    "#\n",
    "def count_hash(url: str):\n",
    "    return url.count('#')\n",
    "\n",
    "\n",
    "#\n",
    "# Number of the numeric character\n",
    "# Return: numeric\n",
    "#\n",
    "def count_digits(url: str):\n",
    "    return sum(c.isdigit() for c in url)\n",
    "\n",
    "\n",
    "#\n",
    "# Check if there exists a HTTPS in website URL\n",
    "# Return: boolean\n",
    "#\n",
    "def check_Https(url: str):\n",
    "    try:\n",
    "        req = requests.get(url, timeout=1).url\n",
    "        return req.startswith('https')\n",
    "    except Exception as e:\n",
    "        return False\n",
    "\n",
    "\n",
    "#\n",
    "# Check if the IP address is used in the hostname of the website URL\n",
    "# Return: boolean\n",
    "#\n",
    "def check_IP_address(url: str):\n",
    "    return not bool(sum(not c.isdigit() and c != '.' for c in tldextract.extract(url).domain))\n",
    "\n",
    "\n",
    "#\n",
    "# Check if TLD is used as a part of the subdomain in website URL\n",
    "# Return: boolean\n",
    "#\n",
    "def check_tld_in_subdomain(url: str):\n",
    "    res = tldextract.extract(url)\n",
    "    return res.domain in res.subdomain\n",
    "\n",
    "\n",
    "#\n",
    "# Check if TLD is used in the link of website URL\n",
    "# Return: boolean\n",
    "#\n",
    "def check_tld_in_path(url: str):\n",
    "    return tldextract.extract(url).domain in urlsplit(url).path\n",
    "\n",
    "\n",
    "#\n",
    "# Check if HTTPS is disordered in the hostname of website URL\n",
    "# Return: boolean\n",
    "#\n",
    "def check_https_in_hostname(url: str):\n",
    "    return 'https' in urlsplit(url).netloc\n",
    "\n",
    "\n",
    "#\n",
    "# Length of hostname\n",
    "# Return: numeric\n",
    "#\n",
    "def get_hostname_length(url: str):\n",
    "    return len(urlsplit(url).netloc)\n",
    "\n",
    "\n",
    "#\n",
    "# Length of the link path\n",
    "# Return: numeric\n",
    "#\n",
    "def get_path_length(url: str):\n",
    "    return len(urlparse(url).path)\n",
    "\n",
    "\n",
    "#\n",
    "# Length of the query string\n",
    "# Return: numeric\n",
    "#\n",
    "def get_query_length(url):\n",
    "    return len(urlparse(url).query)\n",
    "\n",
    "\n",
    "#\n",
    "# There exists a slash '//' in the link path\n",
    "# Return: boolean\n",
    "#\n",
    "def check_double_slash_in_path(url: str):\n",
    "    return '//' in urlparse(url).path\n",
    "\n",
    "\n",
    "#\n",
    "# Compute the lexical features by URL\n",
    "# Return: Pandas.Series\n",
    "#\n",
    "def get_lexical_features(url, label):\n",
    "    if not url.startswith(('http://', 'https://', 'ftp://')):\n",
    "        url = 'http://' + url\n",
    "    return [\n",
    "        url,\n",
    "        count_dots(url),\n",
    "        count_subdomains(url),\n",
    "        get_path_level(url),\n",
    "        get_len(url),\n",
    "        count_dash(url),\n",
    "        check_at_symbol(url),\n",
    "        check_tilde_symbol(url),\n",
    "        count_underscore(url),\n",
    "        count_percent(url),\n",
    "        count_query_components(url),\n",
    "        count_ampersand(url),\n",
    "        count_hash(url),\n",
    "        count_digits(url),\n",
    "        check_Https(url),\n",
    "        check_IP_address(url),\n",
    "        check_tld_in_subdomain(url),\n",
    "        check_tld_in_path(url),\n",
    "        check_https_in_hostname(url),\n",
    "        get_hostname_length(url),\n",
    "        get_path_length(url),\n",
    "        get_query_length(url),\n",
    "        check_double_slash_in_path(url),\n",
    "        label\n",
    "    ]"
   ]
  },
  {
   "cell_type": "code",
   "execution_count": 39,
   "metadata": {
    "id": "PNBiTDPpdYe9"
   },
   "outputs": [],
   "source": [
    "data_features = pd.DataFrame({\n",
    "    'url':[],\n",
    "    'numDots':[],\n",
    "    'subdomainLevel':[],\n",
    "    'pathLevel':[],\n",
    "    'urlLength':[],\n",
    "    'numDash':[], \n",
    "    'atSymbol':[],\n",
    "    'tildeSymbol':[],\n",
    "    'numUnderscore':[],\n",
    "    'numPercent':[],\n",
    "    'numQueryComponents':[],\n",
    "    'numApersand':[],          \n",
    "    'numHash':[],\n",
    "    'numDigits':[],\n",
    "    'https':[],\n",
    "    'ipAddress':[], \n",
    "    'domainInSubdomains':[],\n",
    "    'domainInPaths':[],\n",
    "    'httpsInHostname':[],\n",
    "    'hostnameLength':[],\n",
    "    'pathLength':[],\n",
    "    'queryLength':[],\n",
    "    'doubleSlash':[],\n",
    "    'type': []\n",
    "})"
   ]
  },
  {
   "cell_type": "code",
   "execution_count": 40,
   "metadata": {
    "id": "T2dB_V8QkVot"
   },
   "outputs": [],
   "source": [
    "# for i in range(len(data)):\n",
    "#     url = data.loc[i, 'url']\n",
    "#     label = data.loc[i, 'type']\n",
    "#     if (i % 1000 == 0):\n",
    "#         print('Rows processed: ',i)\n",
    "#     try:\n",
    "#         data_features.loc[i] = get_lexical_features(url, label)\n",
    "#     except Exception as e:\n",
    "#         print('\\n')\n",
    "#         print(e)\n",
    "#         print('url: ',url)\n",
    "#         print('index: ',i)\n",
    "#         continue\n",
    "# data_features.to_csv('/content/urls_with_features.csv', index = False)"
   ]
  },
  {
   "attachments": {},
   "cell_type": "markdown",
   "metadata": {
    "id": "bsNop2ZoydGH"
   },
   "source": [
    "#**3) EXPLORATIVE DATA ANALYSIS**\n",
    "\n",
    "---\n",
    "\n"
   ]
  },
  {
   "cell_type": "code",
   "execution_count": 41,
   "metadata": {
    "colab": {
     "base_uri": "https://localhost:8080/",
     "height": 364
    },
    "id": "fSLAyKr2k9kp",
    "outputId": "d5ae4cb1-7f70-4675-b9c7-dc320f67a6f3"
   },
   "outputs": [
    {
     "data": {
      "text/html": [
       "<div>\n",
       "<style scoped>\n",
       "    .dataframe tbody tr th:only-of-type {\n",
       "        vertical-align: middle;\n",
       "    }\n",
       "\n",
       "    .dataframe tbody tr th {\n",
       "        vertical-align: top;\n",
       "    }\n",
       "\n",
       "    .dataframe thead th {\n",
       "        text-align: right;\n",
       "    }\n",
       "</style>\n",
       "<table border=\"1\" class=\"dataframe\">\n",
       "  <thead>\n",
       "    <tr style=\"text-align: right;\">\n",
       "      <th></th>\n",
       "      <th>numDots</th>\n",
       "      <th>subdomainLevel</th>\n",
       "      <th>pathLevel</th>\n",
       "      <th>urlLength</th>\n",
       "      <th>numDash</th>\n",
       "      <th>numUnderscore</th>\n",
       "      <th>numPercent</th>\n",
       "      <th>numQueryComponents</th>\n",
       "      <th>numApersand</th>\n",
       "      <th>numHash</th>\n",
       "      <th>numDigits</th>\n",
       "      <th>hostnameLength</th>\n",
       "      <th>pathLength</th>\n",
       "      <th>queryLength</th>\n",
       "    </tr>\n",
       "  </thead>\n",
       "  <tbody>\n",
       "    <tr>\n",
       "      <th>count</th>\n",
       "      <td>20000.000000</td>\n",
       "      <td>20000.000000</td>\n",
       "      <td>20000.000000</td>\n",
       "      <td>20000.000000</td>\n",
       "      <td>20000.000000</td>\n",
       "      <td>20000.00000</td>\n",
       "      <td>20000.000000</td>\n",
       "      <td>20000.000000</td>\n",
       "      <td>20000.00000</td>\n",
       "      <td>20000.000000</td>\n",
       "      <td>20000.000000</td>\n",
       "      <td>20000.000000</td>\n",
       "      <td>20000.000000</td>\n",
       "      <td>20000.000000</td>\n",
       "    </tr>\n",
       "    <tr>\n",
       "      <th>mean</th>\n",
       "      <td>2.482300</td>\n",
       "      <td>0.491650</td>\n",
       "      <td>2.169350</td>\n",
       "      <td>70.553750</td>\n",
       "      <td>1.289450</td>\n",
       "      <td>0.48425</td>\n",
       "      <td>0.365150</td>\n",
       "      <td>0.668000</td>\n",
       "      <td>0.45590</td>\n",
       "      <td>0.000650</td>\n",
       "      <td>7.918400</td>\n",
       "      <td>17.517150</td>\n",
       "      <td>27.930800</td>\n",
       "      <td>17.603400</td>\n",
       "    </tr>\n",
       "    <tr>\n",
       "      <th>std</th>\n",
       "      <td>1.498532</td>\n",
       "      <td>0.908775</td>\n",
       "      <td>1.548383</td>\n",
       "      <td>71.897412</td>\n",
       "      <td>2.689336</td>\n",
       "      <td>1.51399</td>\n",
       "      <td>3.837832</td>\n",
       "      <td>1.563745</td>\n",
       "      <td>1.32153</td>\n",
       "      <td>0.029148</td>\n",
       "      <td>15.195482</td>\n",
       "      <td>10.205705</td>\n",
       "      <td>26.701628</td>\n",
       "      <td>67.855277</td>\n",
       "    </tr>\n",
       "    <tr>\n",
       "      <th>min</th>\n",
       "      <td>0.000000</td>\n",
       "      <td>0.000000</td>\n",
       "      <td>0.000000</td>\n",
       "      <td>13.000000</td>\n",
       "      <td>0.000000</td>\n",
       "      <td>0.00000</td>\n",
       "      <td>0.000000</td>\n",
       "      <td>0.000000</td>\n",
       "      <td>0.00000</td>\n",
       "      <td>0.000000</td>\n",
       "      <td>0.000000</td>\n",
       "      <td>4.000000</td>\n",
       "      <td>0.000000</td>\n",
       "      <td>0.000000</td>\n",
       "    </tr>\n",
       "    <tr>\n",
       "      <th>25%</th>\n",
       "      <td>1.000000</td>\n",
       "      <td>0.000000</td>\n",
       "      <td>1.000000</td>\n",
       "      <td>38.000000</td>\n",
       "      <td>0.000000</td>\n",
       "      <td>0.00000</td>\n",
       "      <td>0.000000</td>\n",
       "      <td>0.000000</td>\n",
       "      <td>0.00000</td>\n",
       "      <td>0.000000</td>\n",
       "      <td>0.000000</td>\n",
       "      <td>12.000000</td>\n",
       "      <td>10.000000</td>\n",
       "      <td>0.000000</td>\n",
       "    </tr>\n",
       "    <tr>\n",
       "      <th>50%</th>\n",
       "      <td>2.000000</td>\n",
       "      <td>0.000000</td>\n",
       "      <td>2.000000</td>\n",
       "      <td>53.000000</td>\n",
       "      <td>0.000000</td>\n",
       "      <td>0.00000</td>\n",
       "      <td>0.000000</td>\n",
       "      <td>0.000000</td>\n",
       "      <td>0.00000</td>\n",
       "      <td>0.000000</td>\n",
       "      <td>4.000000</td>\n",
       "      <td>16.000000</td>\n",
       "      <td>21.000000</td>\n",
       "      <td>0.000000</td>\n",
       "    </tr>\n",
       "    <tr>\n",
       "      <th>75%</th>\n",
       "      <td>3.000000</td>\n",
       "      <td>1.000000</td>\n",
       "      <td>3.000000</td>\n",
       "      <td>83.000000</td>\n",
       "      <td>1.000000</td>\n",
       "      <td>0.00000</td>\n",
       "      <td>0.000000</td>\n",
       "      <td>0.000000</td>\n",
       "      <td>0.00000</td>\n",
       "      <td>0.000000</td>\n",
       "      <td>10.000000</td>\n",
       "      <td>20.000000</td>\n",
       "      <td>37.000000</td>\n",
       "      <td>0.000000</td>\n",
       "    </tr>\n",
       "    <tr>\n",
       "      <th>max</th>\n",
       "      <td>25.000000</td>\n",
       "      <td>18.000000</td>\n",
       "      <td>18.000000</td>\n",
       "      <td>1424.000000</td>\n",
       "      <td>39.000000</td>\n",
       "      <td>20.00000</td>\n",
       "      <td>147.000000</td>\n",
       "      <td>28.000000</td>\n",
       "      <td>27.00000</td>\n",
       "      <td>2.000000</td>\n",
       "      <td>332.000000</td>\n",
       "      <td>244.000000</td>\n",
       "      <td>755.000000</td>\n",
       "      <td>1388.000000</td>\n",
       "    </tr>\n",
       "  </tbody>\n",
       "</table>\n",
       "</div>"
      ],
      "text/plain": [
       "            numDots  subdomainLevel     pathLevel     urlLength       numDash  \\\n",
       "count  20000.000000    20000.000000  20000.000000  20000.000000  20000.000000   \n",
       "mean       2.482300        0.491650      2.169350     70.553750      1.289450   \n",
       "std        1.498532        0.908775      1.548383     71.897412      2.689336   \n",
       "min        0.000000        0.000000      0.000000     13.000000      0.000000   \n",
       "25%        1.000000        0.000000      1.000000     38.000000      0.000000   \n",
       "50%        2.000000        0.000000      2.000000     53.000000      0.000000   \n",
       "75%        3.000000        1.000000      3.000000     83.000000      1.000000   \n",
       "max       25.000000       18.000000     18.000000   1424.000000     39.000000   \n",
       "\n",
       "       numUnderscore    numPercent  numQueryComponents  numApersand  \\\n",
       "count    20000.00000  20000.000000        20000.000000  20000.00000   \n",
       "mean         0.48425      0.365150            0.668000      0.45590   \n",
       "std          1.51399      3.837832            1.563745      1.32153   \n",
       "min          0.00000      0.000000            0.000000      0.00000   \n",
       "25%          0.00000      0.000000            0.000000      0.00000   \n",
       "50%          0.00000      0.000000            0.000000      0.00000   \n",
       "75%          0.00000      0.000000            0.000000      0.00000   \n",
       "max         20.00000    147.000000           28.000000     27.00000   \n",
       "\n",
       "            numHash     numDigits  hostnameLength    pathLength   queryLength  \n",
       "count  20000.000000  20000.000000    20000.000000  20000.000000  20000.000000  \n",
       "mean       0.000650      7.918400       17.517150     27.930800     17.603400  \n",
       "std        0.029148     15.195482       10.205705     26.701628     67.855277  \n",
       "min        0.000000      0.000000        4.000000      0.000000      0.000000  \n",
       "25%        0.000000      0.000000       12.000000     10.000000      0.000000  \n",
       "50%        0.000000      4.000000       16.000000     21.000000      0.000000  \n",
       "75%        0.000000     10.000000       20.000000     37.000000      0.000000  \n",
       "max        2.000000    332.000000      244.000000    755.000000   1388.000000  "
      ]
     },
     "execution_count": 41,
     "metadata": {},
     "output_type": "execute_result"
    }
   ],
   "source": [
    "DATA_PATH = 'datasets/urls_with_features.csv'\n",
    "data = pd.read_csv(DATA_PATH)\n",
    "data.describe()"
   ]
  },
  {
   "cell_type": "code",
   "execution_count": 42,
   "metadata": {
    "colab": {
     "base_uri": "https://localhost:8080/"
    },
    "id": "OgJFYS8Wyw3l",
    "outputId": "b25798ea-b472-467c-df4c-3bc2dcbdc562"
   },
   "outputs": [
    {
     "data": {
      "text/plain": [
       "url                   False\n",
       "numDots               False\n",
       "subdomainLevel        False\n",
       "pathLevel             False\n",
       "urlLength             False\n",
       "numDash               False\n",
       "atSymbol              False\n",
       "tildeSymbol           False\n",
       "numUnderscore         False\n",
       "numPercent            False\n",
       "numQueryComponents    False\n",
       "numApersand           False\n",
       "numHash               False\n",
       "numDigits             False\n",
       "https                 False\n",
       "ipAddress             False\n",
       "domainInSubdomains    False\n",
       "domainInPaths         False\n",
       "httpsInHostname       False\n",
       "hostnameLength        False\n",
       "pathLength            False\n",
       "queryLength           False\n",
       "doubleSlash           False\n",
       "type                  False\n",
       "dtype: bool"
      ]
     },
     "execution_count": 42,
     "metadata": {},
     "output_type": "execute_result"
    }
   ],
   "source": [
    "# Null values check\n",
    "data.isnull().any()"
   ]
  },
  {
   "cell_type": "code",
   "execution_count": 43,
   "metadata": {
    "colab": {
     "base_uri": "https://localhost:8080/",
     "height": 1000
    },
    "id": "bwZRU2xvkM2g",
    "outputId": "a7da6730-f9b3-4d9e-ea26-2882229ed578"
   },
   "outputs": [
    {
     "data": {
      "image/png": "[encoded data removed]",
      "text/plain": [
       "<Figure size 1296x1512 with 3 Axes>"
      ]
     },
     "metadata": {
      "needs_background": "light"
     },
     "output_type": "display_data"
    }
   ],
   "source": [
    "safe = data[data['type'] == 'benign']\n",
    "unsafe = data[data['type'] != 'benign']\n",
    "\n",
    "# Numerical features\n",
    "labels_x1 = ['numDots', 'subdomainLevel', 'pathLevel', 'numDash', 'numUnderscore', 'numPercent', 'numQueryComponents', 'numApersand', 'numHash']\n",
    "labels_x2 = ['urlLength', 'numDigits', 'hostnameLength', 'pathLength', 'queryLength']\n",
    "# Boolean features\n",
    "labels_x3 = ['atSymbol', 'tildeSymbol', 'https', 'ipAddress', 'domainInSubdomains', 'domainInPaths', 'httpsInHostname', 'doubleSlash']\n",
    "\n",
    "features_to_plot1 = {'Safe': [], 'Unsafe': []}\n",
    "features_to_plot2 = {'Safe': [], 'Unsafe': []}\n",
    "features_to_plot3 = {'Safe': [], 'Unsafe': []}\n",
    "\n",
    "for i in labels_x1:\n",
    "    features_to_plot1['Safe'].append(safe.loc[:, i].mean())\n",
    "    features_to_plot1['Unsafe'].append(unsafe.loc[:, i].mean())\n",
    "\n",
    "for i in labels_x2:\n",
    "    features_to_plot2['Safe'].append(safe.loc[:, i].mean())\n",
    "    features_to_plot2['Unsafe'].append(unsafe.loc[:, i].mean())\n",
    "\n",
    "for i in labels_x3:\n",
    "    features_to_plot3['Safe'].append(safe.loc[:, i].sum())\n",
    "    features_to_plot3['Unsafe'].append(unsafe.loc[:, i].sum())\n",
    "\n",
    "x1 = np.arange(len(labels_x1))  # the label locations\n",
    "x2 = np.arange(len(labels_x2))  # the label locations\n",
    "x3 = np.arange(len(labels_x3))  # the label locations\n",
    "width = 0.25  # the width of the bars\n",
    "multiplier = 0\n",
    "\n",
    "fig, ((ax1), (ax2), (ax3)) = plt.subplots(3, 1, figsize=(18, 21))\n",
    "\n",
    "for attribute, measurement in features_to_plot1.items():\n",
    "    offset = width * multiplier\n",
    "    rects = ax1.bar(x1 + offset, [round(i,3) for i in measurement], width, label = attribute, color = ['#8fce00' if attribute == 'Safe' else '#ff1100'])\n",
    "    ax1.bar_label(rects, padding = 3)\n",
    "    multiplier += 1\n",
    "ax1.set_ylabel('Mean values')\n",
    "ax1.set_title('Numerical features')\n",
    "ax1.set_xticks(x1 + (width/2), labels_x1)\n",
    "ax1.legend(loc = 'upper right', ncol = 2)\n",
    "\n",
    "for attribute, measurement in features_to_plot2.items():\n",
    "    offset = width * multiplier\n",
    "    rects = ax2.bar(x2 + offset, [round(i,3) for i in measurement], width, label = attribute, color = ['#8fce00' if attribute == 'Safe' else '#ff1100'])\n",
    "    ax2.bar_label(rects, padding = 3)\n",
    "    multiplier += 1\n",
    "ax2.set_ylabel('Mean values')\n",
    "ax2.set_title('Numerical features')\n",
    "ax2.set_xticks(x2 + (width*2.5), labels_x2)\n",
    "ax2.legend(loc = 'upper right', ncol = 2)\n",
    "\n",
    "for attribute, measurement in features_to_plot3.items():\n",
    "    offset = width * multiplier\n",
    "    rects = ax3.bar(x3 + offset, [round(i,3) for i in measurement], width, label = attribute, color = ['#8fce00' if attribute == 'Safe' else '#ff1100'])\n",
    "    ax3.bar_label(rects, padding = 3)\n",
    "    multiplier += 1\n",
    "ax3.set_ylabel('Number of True values')\n",
    "ax3.set_title('Boolean features')\n",
    "ax3.set_xticks(x3 + (width*4.5), labels_x3)\n",
    "ax3.legend(loc = 'upper right', ncol = 2)\n",
    "\n",
    "plt.tight_layout()\n",
    "plt.show()"
   ]
  },
  {
   "cell_type": "code",
   "execution_count": 44,
   "metadata": {
    "colab": {
     "base_uri": "https://localhost:8080/",
     "height": 738
    },
    "id": "Yiq8afENy0qi",
    "outputId": "2fe1bbc4-6e18-4b83-979c-175babea26ff"
   },
   "outputs": [
    {
     "data": {
      "image/png": "[encoded data removed]",
      "text/plain": [
       "<Figure size 1296x576 with 2 Axes>"
      ]
     },
     "metadata": {
      "needs_background": "light"
     },
     "output_type": "display_data"
    }
   ],
   "source": [
    "plt.figure()\n",
    "sns.heatmap(data.corr(), linewidths=.5)\n",
    "plt.show()"
   ]
  },
  {
   "attachments": {},
   "cell_type": "markdown",
   "metadata": {
    "id": "H5lOkjI6gz1I"
   },
   "source": [
    "#**4) FEATURES SELECTION**\n",
    "\n",
    "---\n",
    "\n"
   ]
  },
  {
   "cell_type": "code",
   "execution_count": 45,
   "metadata": {
    "id": "IFOpx5cjg3ri"
   },
   "outputs": [],
   "source": [
    "selected_features = ['numDots', 'subdomainLevel', 'pathLevel', 'urlLength', 'numDash',\n",
    "       'numUnderscore', 'numPercent', 'numQueryComponents', 'numApersand', 'numDigits', 'https',\n",
    "       'ipAddress', 'hostnameLength', 'pathLength', 'queryLength']\n",
    "\n",
    "X = data[selected_features]\n",
    "X.https = X.https.replace({True: 1, False: 0})\n",
    "X.ipAddress = X.ipAddress.replace({True: 1, False: 0})\n",
    "\n",
    "y = data[['type']]\n",
    "y.loc[y['type'] != 'benign', 'type'] = 1\n",
    "y.loc[y['type'] == 'benign', 'type'] = 0"
   ]
  },
  {
   "attachments": {},
   "cell_type": "markdown",
   "metadata": {},
   "source": [
    "#**4.1) PRINCIPAL COMPONENT ANALYSIS (PCA)**\n",
    "\n",
    "---"
   ]
  },
  {
   "cell_type": "code",
   "execution_count": 46,
   "metadata": {},
   "outputs": [
    {
     "data": {
      "image/png": "[encoded data removed]",
      "text/plain": [
       "<Figure size 1296x576 with 1 Axes>"
      ]
     },
     "metadata": {
      "needs_background": "light"
     },
     "output_type": "display_data"
    }
   ],
   "source": [
    "# Create a PCA object and fit the data\n",
    "pca = PCA()\n",
    "pca.fit(X)\n",
    "\n",
    "# Plot the explained variance ratio for each component\n",
    "plt.plot(pca.explained_variance_ratio_)\n",
    "plt.xlabel('Number of components')\n",
    "plt.ylabel('Explained variance ratio')\n",
    "plt.show()"
   ]
  },
  {
   "cell_type": "code",
   "execution_count": 47,
   "metadata": {},
   "outputs": [],
   "source": [
    "def get_pca_features(components: int):\n",
    "    pca = PCA(n_components = components)\n",
    "    return pca.fit_transform(X.values)"
   ]
  },
  {
   "attachments": {},
   "cell_type": "markdown",
   "metadata": {},
   "source": [
    "#**4.2) AUTOENCODER**\n",
    "\n",
    "---"
   ]
  },
  {
   "cell_type": "code",
   "execution_count": 29,
   "metadata": {},
   "outputs": [],
   "source": [
    "# Generate noisy data from original data\n",
    "corruption_level = 0.3\n",
    "\n",
    "X1 = np.delete(X.values, [10,11], axis=1)\n",
    "X_noisy = X1 + corruption_level * np.random.normal(loc=0.0, scale=1.0, size=X1.shape)\n",
    "X_noisy = np.clip(X1, 0., 1.)\n",
    "\n",
    "X_noisy = np.append(X_noisy, X.values[:,10:12], axis=1)"
   ]
  },
  {
   "cell_type": "code",
   "execution_count": 30,
   "metadata": {},
   "outputs": [
    {
     "name": "stdout",
     "output_type": "stream",
     "text": [
      "Model: \"model\"\n",
      "_________________________________________________________________\n",
      " Layer (type)                Output Shape              Param #   \n",
      "=================================================================\n",
      " input_1 (InputLayer)        [(None, 15)]              0         \n",
      "                                                                 \n",
      " dense (Dense)               (None, 7)                 112       \n",
      "                                                                 \n",
      " dense_1 (Dense)             (None, 15)                120       \n",
      "                                                                 \n",
      "=================================================================\n",
      "Total params: 232\n",
      "Trainable params: 232\n",
      "Non-trainable params: 0\n",
      "_________________________________________________________________\n"
     ]
    }
   ],
   "source": [
    "# Define autoencoder\n",
    "columns = 15\n",
    "encoding_dim = 7\n",
    "\n",
    "# Hyper parameters\n",
    "batch_size = 128\n",
    "nb_epoch = 500\n",
    "\n",
    "input_x = Input(shape=(columns,))\n",
    "encoded = Dense(encoding_dim, activation='relu')(input_x)\n",
    "decoded = Dense(columns, activation='sigmoid')(encoded)\n",
    "\n",
    "autoencoder = Model(inputs=input_x, outputs=decoded)\n",
    "autoencoder.compile(optimizer='adadelta', loss='binary_crossentropy')\n",
    "autoencoder.summary()"
   ]
  },
  {
   "cell_type": "code",
   "execution_count": 31,
   "metadata": {},
   "outputs": [
    {
     "name": "stdout",
     "output_type": "stream",
     "text": [
      "Epoch 1/100\n",
      "125/125 [==============================] - 1s 2ms/step - loss: 1.2642 - val_loss: 1.2809\n",
      "Epoch 2/100\n",
      "125/125 [==============================] - 0s 1ms/step - loss: 1.2534 - val_loss: 1.2695\n",
      "Epoch 3/100\n",
      "125/125 [==============================] - 0s 2ms/step - loss: 1.2417 - val_loss: 1.2573\n",
      "Epoch 4/100\n",
      "125/125 [==============================] - 0s 1ms/step - loss: 1.2292 - val_loss: 1.2444\n",
      "Epoch 5/100\n",
      "125/125 [==============================] - 0s 1ms/step - loss: 1.2160 - val_loss: 1.2309\n",
      "Epoch 6/100\n",
      "125/125 [==============================] - 0s 1ms/step - loss: 1.2023 - val_loss: 1.2168\n",
      "Epoch 7/100\n",
      "125/125 [==============================] - 0s 1ms/step - loss: 1.1881 - val_loss: 1.2026\n",
      "Epoch 8/100\n",
      "125/125 [==============================] - 0s 1ms/step - loss: 1.1737 - val_loss: 1.1880\n",
      "Epoch 9/100\n",
      "125/125 [==============================] - 0s 1ms/step - loss: 1.1590 - val_loss: 1.1730\n",
      "Epoch 10/100\n",
      "125/125 [==============================] - 0s 1ms/step - loss: 1.1438 - val_loss: 1.1576\n",
      "Epoch 11/100\n",
      "125/125 [==============================] - 0s 1ms/step - loss: 1.1282 - val_loss: 1.1418\n",
      "Epoch 12/100\n",
      "125/125 [==============================] - 0s 1ms/step - loss: 1.1123 - val_loss: 1.1258\n",
      "Epoch 13/100\n",
      "125/125 [==============================] - 0s 1ms/step - loss: 1.0962 - val_loss: 1.1095\n",
      "Epoch 14/100\n",
      "125/125 [==============================] - 0s 1ms/step - loss: 1.0799 - val_loss: 1.0930\n",
      "Epoch 15/100\n",
      "125/125 [==============================] - 0s 1ms/step - loss: 1.0631 - val_loss: 1.0761\n",
      "Epoch 16/100\n",
      "125/125 [==============================] - 0s 1ms/step - loss: 1.0461 - val_loss: 1.0589\n",
      "Epoch 17/100\n",
      "125/125 [==============================] - 0s 1ms/step - loss: 1.0288 - val_loss: 1.0414\n",
      "Epoch 18/100\n",
      "125/125 [==============================] - 0s 1ms/step - loss: 1.0112 - val_loss: 1.0236\n",
      "Epoch 19/100\n",
      "125/125 [==============================] - 0s 1ms/step - loss: 0.9933 - val_loss: 1.0056\n",
      "Epoch 20/100\n",
      "125/125 [==============================] - 0s 1ms/step - loss: 0.9751 - val_loss: 0.9874\n",
      "Epoch 21/100\n",
      "125/125 [==============================] - 0s 1ms/step - loss: 0.9569 - val_loss: 0.9691\n",
      "Epoch 22/100\n",
      "125/125 [==============================] - 0s 1ms/step - loss: 0.9384 - val_loss: 0.9505\n",
      "Epoch 23/100\n",
      "125/125 [==============================] - 0s 1ms/step - loss: 0.9198 - val_loss: 0.9319\n",
      "Epoch 24/100\n",
      "125/125 [==============================] - 0s 1ms/step - loss: 0.9010 - val_loss: 0.9129\n",
      "Epoch 25/100\n",
      "125/125 [==============================] - 0s 2ms/step - loss: 0.8820 - val_loss: 0.8938\n",
      "Epoch 26/100\n",
      "125/125 [==============================] - 0s 2ms/step - loss: 0.8629 - val_loss: 0.8747\n",
      "Epoch 27/100\n",
      "125/125 [==============================] - 0s 2ms/step - loss: 0.8437 - val_loss: 0.8553\n",
      "Epoch 28/100\n",
      "125/125 [==============================] - 0s 1ms/step - loss: 0.8243 - val_loss: 0.8359\n",
      "Epoch 29/100\n",
      "125/125 [==============================] - 0s 1ms/step - loss: 0.8048 - val_loss: 0.8163\n",
      "Epoch 30/100\n",
      "125/125 [==============================] - 0s 2ms/step - loss: 0.7852 - val_loss: 0.7967\n",
      "Epoch 31/100\n",
      "125/125 [==============================] - 0s 2ms/step - loss: 0.7655 - val_loss: 0.7768\n",
      "Epoch 32/100\n",
      "125/125 [==============================] - 0s 2ms/step - loss: 0.7455 - val_loss: 0.7567\n",
      "Epoch 33/100\n",
      "125/125 [==============================] - 0s 1ms/step - loss: 0.7253 - val_loss: 0.7364\n",
      "Epoch 34/100\n",
      "125/125 [==============================] - 0s 1ms/step - loss: 0.7049 - val_loss: 0.7158\n",
      "Epoch 35/100\n",
      "125/125 [==============================] - 0s 1ms/step - loss: 0.6842 - val_loss: 0.6951\n",
      "Epoch 36/100\n",
      "125/125 [==============================] - 0s 1ms/step - loss: 0.6634 - val_loss: 0.6742\n",
      "Epoch 37/100\n",
      "125/125 [==============================] - 0s 1ms/step - loss: 0.6424 - val_loss: 0.6531\n",
      "Epoch 38/100\n",
      "125/125 [==============================] - 0s 1ms/step - loss: 0.6213 - val_loss: 0.6319\n",
      "Epoch 39/100\n",
      "125/125 [==============================] - 0s 1ms/step - loss: 0.6000 - val_loss: 0.6105\n",
      "Epoch 40/100\n",
      "125/125 [==============================] - 0s 1ms/step - loss: 0.5785 - val_loss: 0.5889\n",
      "Epoch 41/100\n",
      "125/125 [==============================] - 0s 1ms/step - loss: 0.5567 - val_loss: 0.5670\n",
      "Epoch 42/100\n",
      "125/125 [==============================] - 0s 2ms/step - loss: 0.5348 - val_loss: 0.5450\n",
      "Epoch 43/100\n",
      "125/125 [==============================] - 0s 1ms/step - loss: 0.5126 - val_loss: 0.5228\n",
      "Epoch 44/100\n",
      "125/125 [==============================] - 0s 2ms/step - loss: 0.4903 - val_loss: 0.5004\n",
      "Epoch 45/100\n",
      "125/125 [==============================] - 0s 2ms/step - loss: 0.4680 - val_loss: 0.4784\n",
      "Epoch 46/100\n",
      "125/125 [==============================] - 0s 2ms/step - loss: 0.4461 - val_loss: 0.4563\n",
      "Epoch 47/100\n",
      "125/125 [==============================] - 0s 2ms/step - loss: 0.4240 - val_loss: 0.4342\n",
      "Epoch 48/100\n",
      "125/125 [==============================] - 0s 2ms/step - loss: 0.4018 - val_loss: 0.4118\n",
      "Epoch 49/100\n",
      "125/125 [==============================] - 0s 2ms/step - loss: 0.3794 - val_loss: 0.3892\n",
      "Epoch 50/100\n",
      "125/125 [==============================] - 0s 2ms/step - loss: 0.3567 - val_loss: 0.3664\n",
      "Epoch 51/100\n",
      "125/125 [==============================] - 0s 2ms/step - loss: 0.3339 - val_loss: 0.3435\n",
      "Epoch 52/100\n",
      "125/125 [==============================] - 0s 2ms/step - loss: 0.3109 - val_loss: 0.3204\n",
      "Epoch 53/100\n",
      "125/125 [==============================] - 0s 2ms/step - loss: 0.2877 - val_loss: 0.2971\n",
      "Epoch 54/100\n",
      "125/125 [==============================] - 0s 2ms/step - loss: 0.2643 - val_loss: 0.2736\n",
      "Epoch 55/100\n",
      "125/125 [==============================] - 0s 1ms/step - loss: 0.2407 - val_loss: 0.2499\n",
      "Epoch 56/100\n",
      "125/125 [==============================] - 0s 1ms/step - loss: 0.2169 - val_loss: 0.2260\n",
      "Epoch 57/100\n",
      "125/125 [==============================] - 0s 2ms/step - loss: 0.1930 - val_loss: 0.2020\n",
      "Epoch 58/100\n",
      "125/125 [==============================] - 0s 1ms/step - loss: 0.1688 - val_loss: 0.1778\n",
      "Epoch 59/100\n",
      "125/125 [==============================] - 0s 2ms/step - loss: 0.1447 - val_loss: 0.1536\n",
      "Epoch 60/100\n",
      "125/125 [==============================] - 0s 1ms/step - loss: 0.1204 - val_loss: 0.1292\n",
      "Epoch 61/100\n",
      "125/125 [==============================] - 0s 1ms/step - loss: 0.0959 - val_loss: 0.1047\n",
      "Epoch 62/100\n",
      "125/125 [==============================] - 0s 1ms/step - loss: 0.0713 - val_loss: 0.0800\n",
      "Epoch 63/100\n",
      "125/125 [==============================] - 0s 1ms/step - loss: 0.0464 - val_loss: 0.0551\n",
      "Epoch 64/100\n",
      "125/125 [==============================] - 0s 1ms/step - loss: 0.0213 - val_loss: 0.0299\n",
      "Epoch 65/100\n",
      "125/125 [==============================] - 0s 1ms/step - loss: -0.0040 - val_loss: 0.0045\n",
      "Epoch 66/100\n",
      "125/125 [==============================] - 0s 1ms/step - loss: -0.0295 - val_loss: -0.0211\n",
      "Epoch 67/100\n",
      "125/125 [==============================] - 0s 1ms/step - loss: -0.0552 - val_loss: -0.0468\n",
      "Epoch 68/100\n",
      "125/125 [==============================] - 0s 1ms/step - loss: -0.0811 - val_loss: -0.0727\n",
      "Epoch 69/100\n",
      "125/125 [==============================] - 0s 2ms/step - loss: -0.1071 - val_loss: -0.0988\n",
      "Epoch 70/100\n",
      "125/125 [==============================] - 0s 1ms/step - loss: -0.1333 - val_loss: -0.1252\n",
      "Epoch 71/100\n",
      "125/125 [==============================] - 0s 2ms/step - loss: -0.1598 - val_loss: -0.1517\n",
      "Epoch 72/100\n",
      "125/125 [==============================] - 0s 1ms/step - loss: -0.1866 - val_loss: -0.1786\n",
      "Epoch 73/100\n",
      "125/125 [==============================] - 0s 1ms/step - loss: -0.2136 - val_loss: -0.2058\n",
      "Epoch 74/100\n",
      "125/125 [==============================] - 0s 1ms/step - loss: -0.2409 - val_loss: -0.2331\n",
      "Epoch 75/100\n",
      "125/125 [==============================] - 0s 1ms/step - loss: -0.2684 - val_loss: -0.2607\n",
      "Epoch 76/100\n",
      "125/125 [==============================] - 0s 1ms/step - loss: -0.2962 - val_loss: -0.2886\n",
      "Epoch 77/100\n",
      "125/125 [==============================] - 0s 1ms/step - loss: -0.3242 - val_loss: -0.3167\n",
      "Epoch 78/100\n",
      "125/125 [==============================] - 0s 2ms/step - loss: -0.3525 - val_loss: -0.3450\n",
      "Epoch 79/100\n",
      "125/125 [==============================] - 0s 1ms/step - loss: -0.3810 - val_loss: -0.3736\n",
      "Epoch 80/100\n",
      "125/125 [==============================] - 0s 1ms/step - loss: -0.4097 - val_loss: -0.4024\n",
      "Epoch 81/100\n"
     ]
    },
    {
     "name": "stdout",
     "output_type": "stream",
     "text": [
      "125/125 [==============================] - 0s 2ms/step - loss: -0.4387 - val_loss: -0.4314\n",
      "Epoch 82/100\n",
      "125/125 [==============================] - 0s 1ms/step - loss: -0.4678 - val_loss: -0.4606\n",
      "Epoch 83/100\n",
      "125/125 [==============================] - 0s 1ms/step - loss: -0.4972 - val_loss: -0.4900\n",
      "Epoch 84/100\n",
      "125/125 [==============================] - 0s 1ms/step - loss: -0.5268 - val_loss: -0.5196\n",
      "Epoch 85/100\n",
      "125/125 [==============================] - 0s 1ms/step - loss: -0.5564 - val_loss: -0.5493\n",
      "Epoch 86/100\n",
      "125/125 [==============================] - 0s 1ms/step - loss: -0.5863 - val_loss: -0.5792\n",
      "Epoch 87/100\n",
      "125/125 [==============================] - 0s 1ms/step - loss: -0.6164 - val_loss: -0.6094\n",
      "Epoch 88/100\n",
      "125/125 [==============================] - 0s 1ms/step - loss: -0.6468 - val_loss: -0.6398\n",
      "Epoch 89/100\n",
      "125/125 [==============================] - 0s 1ms/step - loss: -0.6774 - val_loss: -0.6706\n",
      "Epoch 90/100\n",
      "125/125 [==============================] - 0s 1ms/step - loss: -0.7084 - val_loss: -0.7016\n",
      "Epoch 91/100\n",
      "125/125 [==============================] - 0s 2ms/step - loss: -0.7396 - val_loss: -0.7330\n",
      "Epoch 92/100\n",
      "125/125 [==============================] - 0s 1ms/step - loss: -0.7712 - val_loss: -0.7646\n",
      "Epoch 93/100\n",
      "125/125 [==============================] - 0s 2ms/step - loss: -0.8030 - val_loss: -0.7965\n",
      "Epoch 94/100\n",
      "125/125 [==============================] - 0s 1ms/step - loss: -0.8350 - val_loss: -0.8286\n",
      "Epoch 95/100\n",
      "125/125 [==============================] - 0s 1ms/step - loss: -0.8673 - val_loss: -0.8610\n",
      "Epoch 96/100\n",
      "125/125 [==============================] - 0s 1ms/step - loss: -0.8999 - val_loss: -0.8937\n",
      "Epoch 97/100\n",
      "125/125 [==============================] - 0s 1ms/step - loss: -0.9328 - val_loss: -0.9266\n",
      "Epoch 98/100\n",
      "125/125 [==============================] - 0s 2ms/step - loss: -0.9659 - val_loss: -0.9597\n",
      "Epoch 99/100\n",
      "125/125 [==============================] - 0s 1ms/step - loss: -0.9992 - val_loss: -0.9931\n",
      "Epoch 100/100\n",
      "125/125 [==============================] - 0s 1ms/step - loss: -1.0327 - val_loss: -1.0268\n"
     ]
    },
    {
     "data": {
      "text/plain": [
       "<keras.callbacks.History at 0x2a8f6f42a70>"
      ]
     },
     "execution_count": 31,
     "metadata": {},
     "output_type": "execute_result"
    }
   ],
   "source": [
    "scaler = MinMaxScaler()\n",
    "\n",
    "# Training autoencoder\n",
    "X_train = scaler.fit_transform(X.values[0:16000, :])\n",
    "X_train_noisy = scaler.fit_transform(X_noisy[0:16000, :])\n",
    "\n",
    "X_test = scaler.fit_transform(X.values[16000:, :])\n",
    "X_test_noisy = scaler.fit_transform(X_noisy[16000:, :])\n",
    "\n",
    "# fit the autoencoder\n",
    "autoencoder.fit(X_train_noisy, X_train,\n",
    "                epochs=nb_epoch, batch_size=batch_size, shuffle=True, verbose=1,\n",
    "                validation_data=(X_test_noisy, X_test))\n"
   ]
  },
  {
   "cell_type": "code",
   "execution_count": 32,
   "metadata": {},
   "outputs": [
    {
     "name": "stdout",
     "output_type": "stream",
     "text": [
      "32/32 [==============================] - 0s 2ms/step - loss: -1.0268\n",
      "\n",
      "Summary: Loss over the test dataset: -1.03\n"
     ]
    }
   ],
   "source": [
    "evaluation = autoencoder.evaluate(X_test_noisy, X_test, batch_size=batch_size, verbose=1)\n",
    "print('\\nSummary: Loss over the test dataset: %.2f' % (evaluation))"
   ]
  },
  {
   "attachments": {},
   "cell_type": "markdown",
   "metadata": {
    "id": "8d_EaYrnyxKh"
   },
   "source": [
    "#**5) MODELS DEFINITION**\n",
    "\n",
    "---\n",
    "\n"
   ]
  },
  {
   "cell_type": "code",
   "execution_count": 33,
   "metadata": {
    "id": "k5unpyqrl1zD"
   },
   "outputs": [],
   "source": [
    "def get_data_split(X, y, isScaled=False, isTensor=False, fSelection=[]):\n",
    "\n",
    "    if len(fSelection) > 0:\n",
    "        X = X[fSelection]\n",
    "    \n",
    "    if isScaled:\n",
    "        scaler = MinMaxScaler()\n",
    "        X_scal = X\n",
    "        for c in X_scal:\n",
    "            if c != 'ipAddress' or c != 'https':\n",
    "                X_scal[[c]] = scaler.fit_transform(X_scal[[c]])\n",
    "        X = X_scal\n",
    "\n",
    "    X_train, X_test, y_train, y_test = train_test_split(\n",
    "                                            X.values.astype('float64'),\n",
    "                                            y.values.astype('float64'),\n",
    "                                            train_size = .8,\n",
    "                                            test_size = .2,\n",
    "                                            random_state = 2,\n",
    "                                            shuffle = True,\n",
    "                                            stratify = y)\n",
    "\n",
    "    if isTensor:\n",
    "        X_train = torch.tensor(data = X_train, dtype=torch.float32)\n",
    "        X_test = torch.tensor(data = X_test, dtype=torch.float32)\n",
    "        y_train = torch.tensor(data = y_train.squeeze(), dtype=torch.float32)\n",
    "        y_test = torch.tensor(data = y_test.squeeze(), dtype=torch.float32)\n",
    "        if torch.cuda.is_available():\n",
    "            X_train = X_train.cuda()\n",
    "            X_test = X_test.cuda()\n",
    "            y_train = y_train.cuda()\n",
    "            y_test = y_test.cuda()\n",
    "\n",
    "    return X_train, X_test, y_train, y_test"
   ]
  },
  {
   "attachments": {},
   "cell_type": "markdown",
   "metadata": {
    "id": "iAoQpoqm0jew"
   },
   "source": [
    "## **Modello 1 | Support Vector Machine**"
   ]
  },
  {
   "cell_type": "code",
   "execution_count": 34,
   "metadata": {
    "id": "TLxN_C3X0qw7"
   },
   "outputs": [],
   "source": [
    "X_train, X_test, y_train, y_test = get_data_split(X, y)\n",
    "svc = SVC(kernel='rbf')\n",
    "svc.fit(X_train, y_train)\n",
    "pred = svc.predict(X_test)\n",
    "acc = accuracy_score(pred, y_test)"
   ]
  },
  {
   "cell_type": "code",
   "execution_count": 35,
   "metadata": {},
   "outputs": [
    {
     "name": "stdout",
     "output_type": "stream",
     "text": [
      "Test Accuracy :\u001b[32m \u001b[01m 73.80% \u001b[30m \u001b[0m \n",
      "\n",
      "              precision    recall  f1-score   support\n",
      "\n",
      "    safe_URL       0.69      0.87      0.77      2000\n",
      "  unsafe_URL       0.83      0.60      0.70      2000\n",
      "\n",
      "    accuracy                           0.74      4000\n",
      "   macro avg       0.76      0.74      0.73      4000\n",
      "weighted avg       0.76      0.74      0.73      4000\n",
      "\n"
     ]
    }
   ],
   "source": [
    "print(f'Test Accuracy :\\033[32m \\033[01m {acc*100:.2f}% \\033[30m \\033[0m \\n')\n",
    "print(classification_report(y_test, pred, target_names=['safe_URL', 'unsafe_URL']))"
   ]
  },
  {
   "attachments": {},
   "cell_type": "markdown",
   "metadata": {
    "id": "e4umtvME0rEq"
   },
   "source": [
    "## **Modello 2 | AdaBoost**"
   ]
  },
  {
   "cell_type": "code",
   "execution_count": 36,
   "metadata": {
    "id": "jd9ATCgw0xHi"
   },
   "outputs": [],
   "source": [
    "X_train, X_test, y_train, y_test = get_data_split(X, y)\n",
    "adaboost = AdaBoostClassifier()\n",
    "adaboost.fit(X_train, y_train)\n",
    "pred = adaboost.predict(X_test)\n",
    "acc = accuracy_score(pred, y_test)"
   ]
  },
  {
   "cell_type": "code",
   "execution_count": 37,
   "metadata": {},
   "outputs": [
    {
     "name": "stdout",
     "output_type": "stream",
     "text": [
      "Test Accuracy :\u001b[32m \u001b[01m 83.20% \u001b[30m \u001b[0m \n",
      "\n",
      "              precision    recall  f1-score   support\n",
      "\n",
      "    safe_URL       0.82      0.85      0.84      2000\n",
      "  unsafe_URL       0.85      0.81      0.83      2000\n",
      "\n",
      "    accuracy                           0.83      4000\n",
      "   macro avg       0.83      0.83      0.83      4000\n",
      "weighted avg       0.83      0.83      0.83      4000\n",
      "\n"
     ]
    }
   ],
   "source": [
    "print(f'Test Accuracy :\\033[32m \\033[01m {acc*100:.2f}% \\033[30m \\033[0m \\n')\n",
    "print(classification_report(y_test, pred, target_names=['safe_URL', 'unsafe_URL']))"
   ]
  },
  {
   "cell_type": "code",
   "execution_count": 38,
   "metadata": {},
   "outputs": [
    {
     "data": {
      "image/png": "[encoded data removed]",
      "text/plain": [
       "<Figure size 1296x576 with 1 Axes>"
      ]
     },
     "metadata": {
      "needs_background": "light"
     },
     "output_type": "display_data"
    }
   ],
   "source": [
    "feat_importances = pd.Series(adaboost.feature_importances_, index=X.columns)\n",
    "feat_importances.sort_values().plot(kind='barh')\n",
    "plt.show()"
   ]
  },
  {
   "cell_type": "code",
   "execution_count": 39,
   "metadata": {},
   "outputs": [
    {
     "name": "stdout",
     "output_type": "stream",
     "text": [
      "Test Accuracy :\u001b[32m \u001b[01m 82.03% \u001b[30m \u001b[0m \n",
      "\n",
      "              precision    recall  f1-score   support\n",
      "\n",
      "    safe_URL       0.81      0.83      0.82      2000\n",
      "  unsafe_URL       0.83      0.81      0.82      2000\n",
      "\n",
      "    accuracy                           0.82      4000\n",
      "   macro avg       0.82      0.82      0.82      4000\n",
      "weighted avg       0.82      0.82      0.82      4000\n",
      "\n"
     ]
    }
   ],
   "source": [
    "fSelection_adaboost = ['pathLength', 'hostnameLength', 'numDigits', 'urlLength', 'numDots']\n",
    "X_train_short, X_test_short, _, _ = get_data_split(X, y, fSelection=fSelection_adaboost)\n",
    "\n",
    "adaboost = AdaBoostClassifier()\n",
    "adaboost.fit(X_train_short, y_train)\n",
    "pred = adaboost.predict(X_test_short)\n",
    "acc = accuracy_score(pred, y_test)\n",
    "\n",
    "print(f'Test Accuracy :\\033[32m \\033[01m {acc*100:.2f}% \\033[30m \\033[0m \\n')\n",
    "print(classification_report(y_test, pred, target_names=['safe_URL', 'unsafe_URL']))"
   ]
  },
  {
   "attachments": {},
   "cell_type": "markdown",
   "metadata": {
    "id": "hNrnsFxo0zK0"
   },
   "source": [
    "## **Modello 3 | Random Forest**"
   ]
  },
  {
   "cell_type": "code",
   "execution_count": 40,
   "metadata": {
    "id": "pxd2aPmGnJbb"
   },
   "outputs": [],
   "source": [
    "X_train, X_test, y_train, y_test = get_data_split(X, y)\n",
    "rf = RandomForestClassifier(random_state=3)\n",
    "rf.fit(X_train, y_train)\n",
    "pred = rf.predict(X_test)\n",
    "acc = accuracy_score(pred, y_test)"
   ]
  },
  {
   "cell_type": "code",
   "execution_count": 41,
   "metadata": {
    "colab": {
     "base_uri": "https://localhost:8080/"
    },
    "id": "DYdbDGsoqC__",
    "outputId": "c94d8e58-fc3e-417c-ba5e-f497ba138b77"
   },
   "outputs": [
    {
     "name": "stdout",
     "output_type": "stream",
     "text": [
      "Test Accuracy :\u001b[32m \u001b[01m 89.08% \u001b[30m \u001b[0m \n",
      "\n",
      "              precision    recall  f1-score   support\n",
      "\n",
      "    safe_URL       0.88      0.90      0.89      2000\n",
      "  unsafe_URL       0.90      0.88      0.89      2000\n",
      "\n",
      "    accuracy                           0.89      4000\n",
      "   macro avg       0.89      0.89      0.89      4000\n",
      "weighted avg       0.89      0.89      0.89      4000\n",
      "\n"
     ]
    }
   ],
   "source": [
    "print(f'Test Accuracy :\\033[32m \\033[01m {acc*100:.2f}% \\033[30m \\033[0m \\n')\n",
    "print(classification_report(y_test, pred, target_names=['safe_URL', 'unsafe_URL']))\n",
    "\n",
    "# cf_matrix = confusion_matrix(y_test, pred)\n",
    "# plot = sns.heatmap(cf_matrix/np.sum(cf_matrix), annot=True, fmt= '0.2%')\n",
    "# plt.show()"
   ]
  },
  {
   "cell_type": "code",
   "execution_count": 42,
   "metadata": {
    "colab": {
     "base_uri": "https://localhost:8080/"
    },
    "id": "TQc-nO3QyXHr",
    "outputId": "624aa7eb-3ace-49f9-9abb-0f44a539f8b6"
   },
   "outputs": [
    {
     "data": {
      "image/png": "[encoded data removed]",
      "text/plain": [
       "<Figure size 1296x576 with 1 Axes>"
      ]
     },
     "metadata": {
      "needs_background": "light"
     },
     "output_type": "display_data"
    }
   ],
   "source": [
    "feat_importances = pd.Series(rf.feature_importances_, index=X.columns)\n",
    "feat_importances.sort_values().plot(kind='barh')\n",
    "plt.show()"
   ]
  },
  {
   "cell_type": "code",
   "execution_count": 43,
   "metadata": {
    "colab": {
     "base_uri": "https://localhost:8080/"
    },
    "id": "z2cYKfwgFDQk",
    "outputId": "e44f0bea-dd85-4329-8740-f7f469393e45"
   },
   "outputs": [
    {
     "name": "stdout",
     "output_type": "stream",
     "text": [
      "Test Accuracy :\u001b[32m \u001b[01m 84.28% \u001b[30m \u001b[0m \n",
      "\n",
      "              precision    recall  f1-score   support\n",
      "\n",
      "    safe_URL       0.83      0.86      0.85      2000\n",
      "  unsafe_URL       0.86      0.82      0.84      2000\n",
      "\n",
      "    accuracy                           0.84      4000\n",
      "   macro avg       0.84      0.84      0.84      4000\n",
      "weighted avg       0.84      0.84      0.84      4000\n",
      "\n"
     ]
    }
   ],
   "source": [
    "fSelection = ['numDots', 'pathLength', 'urlLength', 'hostnameLength']\n",
    "X_train_short, X_test_short, _, _ = get_data_split(X, y, fSelection=fSelection)\n",
    "\n",
    "rf = RandomForestClassifier(random_state=3)\n",
    "rf.fit(X_train_short, y_train)\n",
    "pred_short = rf.predict(X_test_short)\n",
    "acc_short = accuracy_score(pred_short, y_test)\n",
    "\n",
    "print(f'Test Accuracy :\\033[32m \\033[01m {acc_short*100:.2f}% \\033[30m \\033[0m \\n')\n",
    "print(classification_report(y_test, pred_short, target_names=['safe_URL', 'unsafe_URL']))"
   ]
  },
  {
   "attachments": {},
   "cell_type": "markdown",
   "metadata": {
    "id": "xDkSWFEqpPDg"
   },
   "source": [
    "## **Modello 4 | Neural Network**"
   ]
  },
  {
   "cell_type": "code",
   "execution_count": 44,
   "metadata": {
    "id": "-JDMoKiNpUQ5"
   },
   "outputs": [],
   "source": [
    "class SimpleNetwork(nn.Module):\n",
    "\n",
    "    def __init__(self):\n",
    "        super().__init__()\n",
    "        self.layer_1 = nn.Linear(in_features=15, out_features=100)\n",
    "        self.layer_2 = nn.Linear(in_features=100, out_features=1)\n",
    "        self.layer_3 = nn.Tanh()\n",
    "\n",
    "    def forward(self, x):\n",
    "        return self.layer_3(self.layer_2(self.layer_1(x)))\n",
    "\n",
    "# Calculate accuracy (a classification metric)\n",
    "def accuracy_fn(y_true, y_pred):\n",
    "    correct = torch.eq(y_true, y_pred).sum().item() # torch.eq() calculates where two tensors are equal\n",
    "    acc = (correct / len(y_pred)) * 100 \n",
    "    return acc\n",
    "\n",
    "class WideNetwork(nn.Module):\n",
    "    def __init__(self):\n",
    "        super().__init__()\n",
    "        self.layer1 = nn.Linear(15, 60)\n",
    "        self.act1 = nn.ReLU()\n",
    "        self.layer2 = nn.Linear(60, 60)\n",
    "        self.act2 = nn.ReLU()\n",
    "        self.layer3 = nn.Linear(60, 60)\n",
    "        self.act3 = nn.ReLU()\n",
    "        self.output = nn.Linear(60, 1)\n",
    "        self.tanh = nn.Tanh()\n",
    " \n",
    "    def forward(self, x):\n",
    "        x = self.act1(self.layer1(x))\n",
    "        x = self.act2(self.layer2(x))\n",
    "        x = self.act3(self.layer3(x))\n",
    "        x = self.tanh(self.output(x))\n",
    "        return x"
   ]
  },
  {
   "cell_type": "code",
   "execution_count": 45,
   "metadata": {
    "id": "VXw99WeGZ6Ad"
   },
   "outputs": [],
   "source": [
    "def train_NN(net, X_train_net, X_test_net, y_train_net, y_test_net, n_epochs, verbose=True):\n",
    "\n",
    "    torch.manual_seed(42)\n",
    "    loss_fn = nn.BCEWithLogitsLoss()\n",
    "    optimizer = torch.optim.SGD(params=net.parameters(), lr=0.1)\n",
    "\n",
    "    # Build training and evaluation loop\n",
    "    for epoch in range(n_epochs):\n",
    "        ### Training\n",
    "        net.train()\n",
    "\n",
    "        # 1. Forward pass (model outputs raw logits)\n",
    "        y_logits = net(X_train_net).squeeze() # squeeze to remove extra `1` dimensions, this won't work unless model and data are on same device \n",
    "        y_pred = torch.round(torch.sigmoid(y_logits)) # turn logits -> pred probs -> pred labls\n",
    "    \n",
    "        # 2. Calculate loss/accuracy\n",
    "        # loss = loss_fn(torch.sigmoid(y_logits), # Using nn.BCELoss you need torch.sigmoid()\n",
    "        #                y_train) \n",
    "\n",
    "        loss = loss_fn(y_logits, y_train_net) # Using nn.BCEWithLogitsLoss works with raw logits\n",
    "        acc = accuracy_fn(y_true=y_train_net, y_pred=y_pred) \n",
    "\n",
    "        # 3. Optimizer zero grad\n",
    "        optimizer.zero_grad()\n",
    "\n",
    "        # 4. Loss backwards\n",
    "        loss.backward()\n",
    "\n",
    "        # 5. Optimizer step\n",
    "        optimizer.step()\n",
    "\n",
    "        ### Testing\n",
    "        net.eval()\n",
    "        with torch.inference_mode():\n",
    "            # 1. Forward pass\n",
    "            test_logits = net(X_test_net).squeeze() \n",
    "            test_pred = torch.round(torch.sigmoid(test_logits))\n",
    "            # 2. Caculate loss/accuracy\n",
    "            test_loss = loss_fn(test_logits, y_test_net)\n",
    "            test_acc = accuracy_fn(y_true=y_test_net, y_pred=test_pred)\n",
    "\n",
    "        # Print out what's happening every 10 epochs\n",
    "        if epoch % 100 == 0 and verbose == True:\n",
    "            print(f\"Epoch: {epoch} | Loss: {loss:.5f}, Accuracy: {acc:.2f}% | Test loss: {test_loss:.5f}, Test acc: {test_acc:.2f}%\")"
   ]
  },
  {
   "cell_type": "code",
   "execution_count": 46,
   "metadata": {
    "colab": {
     "base_uri": "https://localhost:8080/"
    },
    "id": "fWDz1hvphJZr",
    "outputId": "a0294d46-2570-48a4-c790-510555f0eabe"
   },
   "outputs": [
    {
     "name": "stdout",
     "output_type": "stream",
     "text": [
      "> > > > > > > > > > > > > > > > > > > > > > > > > > > > > > > > > > > > > > > > \n",
      "\n",
      "SIMPLE NETWORK ON ORIGINAL DATA\n",
      "\n",
      "> > > > > > > > > > > > > > > > > > > > > > > > > > > > > > > > > > > > > > > > \n",
      "Epoch: 0 | Loss: 0.77035, Accuracy: 40.64% | Test loss: 9.87568, Test acc: 58.40%\n",
      "Epoch: 100 | Loss: nan, Accuracy: 0.00% | Test loss: nan, Test acc: 0.00%\n",
      "Epoch: 200 | Loss: nan, Accuracy: 0.00% | Test loss: nan, Test acc: 0.00%\n",
      "Epoch: 300 | Loss: nan, Accuracy: 0.00% | Test loss: nan, Test acc: 0.00%\n",
      "Epoch: 400 | Loss: nan, Accuracy: 0.00% | Test loss: nan, Test acc: 0.00%\n",
      "Epoch: 500 | Loss: nan, Accuracy: 0.00% | Test loss: nan, Test acc: 0.00%\n",
      "Epoch: 600 | Loss: nan, Accuracy: 0.00% | Test loss: nan, Test acc: 0.00%\n",
      "Epoch: 700 | Loss: nan, Accuracy: 0.00% | Test loss: nan, Test acc: 0.00%\n",
      "Epoch: 800 | Loss: nan, Accuracy: 0.00% | Test loss: nan, Test acc: 0.00%\n",
      "Epoch: 900 | Loss: nan, Accuracy: 0.00% | Test loss: nan, Test acc: 0.00%\n",
      "> > > > > > > > > > > > > > > > > > > > > > > > > > > > > > > > > > > > > > > > \n",
      "\n",
      "SIMPLE NETWORK ON SCALED DATA\n",
      "\n",
      "> > > > > > > > > > > > > > > > > > > > > > > > > > > > > > > > > > > > > > > > \n",
      "Epoch: 0 | Loss: 0.80809, Accuracy: 61.80% | Test loss: 32.77697, Test acc: 50.00%\n",
      "Epoch: 100 | Loss: nan, Accuracy: 0.00% | Test loss: nan, Test acc: 0.00%\n",
      "Epoch: 200 | Loss: nan, Accuracy: 0.00% | Test loss: nan, Test acc: 0.00%\n",
      "Epoch: 300 | Loss: nan, Accuracy: 0.00% | Test loss: nan, Test acc: 0.00%\n",
      "Epoch: 400 | Loss: nan, Accuracy: 0.00% | Test loss: nan, Test acc: 0.00%\n",
      "Epoch: 500 | Loss: nan, Accuracy: 0.00% | Test loss: nan, Test acc: 0.00%\n",
      "Epoch: 600 | Loss: nan, Accuracy: 0.00% | Test loss: nan, Test acc: 0.00%\n",
      "Epoch: 700 | Loss: nan, Accuracy: 0.00% | Test loss: nan, Test acc: 0.00%\n",
      "Epoch: 800 | Loss: nan, Accuracy: 0.00% | Test loss: nan, Test acc: 0.00%\n",
      "Epoch: 900 | Loss: nan, Accuracy: 0.00% | Test loss: nan, Test acc: 0.00%\n"
     ]
    }
   ],
   "source": [
    "X_train_net, X_test_net, y_train_net, y_test_net = get_data_split(X, y, isTensor=True)\n",
    "X_train_scal, X_test_scal, _, _ = get_data_split(X, y, isScaled=True, isTensor=True)\n",
    "\n",
    "net1 = SimpleNetwork().to(device)\n",
    "print(''.join(['> ' for i in range(40)]))\n",
    "print(f'\\n{\"SIMPLE NETWORK ON ORIGINAL DATA\":<25}\\n')\n",
    "print(''.join(['> ' for i in range(40)]))\n",
    "train_NN(net1, X_train_net, X_test_net, y_train_net, y_test_net, n_epochs=1000, verbose=True)\n",
    "\n",
    "net2 = SimpleNetwork().to(device)\n",
    "print(''.join(['> ' for i in range(40)]))\n",
    "print(f'\\n{\"SIMPLE NETWORK ON SCALED DATA\":<25}\\n')\n",
    "print(''.join(['> ' for i in range(40)]))\n",
    "train_NN(net2, X_train_net, X_test_net, y_train_net, y_test_net, n_epochs=1000, verbose=True)"
   ]
  },
  {
   "cell_type": "code",
   "execution_count": 47,
   "metadata": {
    "colab": {
     "base_uri": "https://localhost:8080/"
    },
    "id": "uUq9idHNvElc",
    "outputId": "038ab47a-ef5c-42f1-b059-ea24164fe0f2"
   },
   "outputs": [
    {
     "name": "stdout",
     "output_type": "stream",
     "text": [
      "> > > > > > > > > > > > > > > > > > > > > > > > > > > > > > > > > > > > > > > > \n",
      "\n",
      "WIDE NETWORK ON ORIGINAL DATA\n",
      "\n",
      "> > > > > > > > > > > > > > > > > > > > > > > > > > > > > > > > > > > > > > > > \n",
      "Epoch: 0 | Loss: 0.73657, Accuracy: 44.84% | Test loss: 0.69313, Test acc: 56.53%\n",
      "Epoch: 100 | Loss: 0.61308, Accuracy: 67.41% | Test loss: 0.60907, Test acc: 67.15%\n",
      "Epoch: 200 | Loss: 0.60340, Accuracy: 68.12% | Test loss: 0.59877, Test acc: 69.77%\n",
      "Epoch: 300 | Loss: 0.59851, Accuracy: 68.62% | Test loss: 0.59385, Test acc: 70.30%\n",
      "Epoch: 400 | Loss: 0.59026, Accuracy: 70.10% | Test loss: 0.58644, Test acc: 70.93%\n",
      "Epoch: 500 | Loss: 0.58707, Accuracy: 70.42% | Test loss: 0.58252, Test acc: 71.20%\n",
      "Epoch: 600 | Loss: 0.58378, Accuracy: 71.33% | Test loss: 0.57683, Test acc: 71.62%\n",
      "Epoch: 700 | Loss: 0.57819, Accuracy: 71.91% | Test loss: 0.57362, Test acc: 72.47%\n",
      "Epoch: 800 | Loss: 0.62667, Accuracy: 66.64% | Test loss: 0.58645, Test acc: 72.22%\n",
      "Epoch: 900 | Loss: 0.57241, Accuracy: 72.58% | Test loss: 0.63358, Test acc: 66.42%\n",
      "> > > > > > > > > > > > > > > > > > > > > > > > > > > > > > > > > > > > > > > > \n",
      "\n",
      "WIDE NETWORK ON SCALED DATA\n",
      "\n",
      "> > > > > > > > > > > > > > > > > > > > > > > > > > > > > > > > > > > > > > > > \n",
      "Epoch: 0 | Loss: 0.73657, Accuracy: 44.84% | Test loss: 0.69313, Test acc: 56.53%\n",
      "Epoch: 100 | Loss: 0.61308, Accuracy: 67.41% | Test loss: 0.60907, Test acc: 67.15%\n",
      "Epoch: 200 | Loss: 0.60340, Accuracy: 68.12% | Test loss: 0.59877, Test acc: 69.77%\n",
      "Epoch: 300 | Loss: 0.59851, Accuracy: 68.62% | Test loss: 0.59385, Test acc: 70.30%\n",
      "Epoch: 400 | Loss: 0.59026, Accuracy: 70.10% | Test loss: 0.58644, Test acc: 70.93%\n",
      "Epoch: 500 | Loss: 0.58707, Accuracy: 70.42% | Test loss: 0.58252, Test acc: 71.20%\n",
      "Epoch: 600 | Loss: 0.58378, Accuracy: 71.33% | Test loss: 0.57683, Test acc: 71.62%\n",
      "Epoch: 700 | Loss: 0.57819, Accuracy: 71.91% | Test loss: 0.57362, Test acc: 72.47%\n",
      "Epoch: 800 | Loss: 0.62667, Accuracy: 66.64% | Test loss: 0.58645, Test acc: 72.22%\n",
      "Epoch: 900 | Loss: 0.57241, Accuracy: 72.58% | Test loss: 0.63358, Test acc: 66.42%\n"
     ]
    }
   ],
   "source": [
    "net3 = WideNetwork().to(device)\n",
    "print(''.join(['> ' for i in range(40)]))\n",
    "print(f'\\n{\"WIDE NETWORK ON ORIGINAL DATA\":<25}\\n')\n",
    "print(''.join(['> ' for i in range(40)]))\n",
    "train_NN(net3, X_train_net, X_test_net, y_train_net, y_test_net, n_epochs=1000, verbose=True)\n",
    "\n",
    "net4 = WideNetwork().to(device)\n",
    "print(''.join(['> ' for i in range(40)]))\n",
    "print(f'\\n{\"WIDE NETWORK ON SCALED DATA\":<25}\\n')\n",
    "print(''.join(['> ' for i in range(40)]))\n",
    "train_NN(net4, X_train_net, X_test_net, y_train_net, y_test_net, n_epochs=1000, verbose=True)"
   ]
  },
  {
   "attachments": {},
   "cell_type": "markdown",
   "metadata": {
    "id": "tyI2qhQIy0_U"
   },
   "source": [
    "#**6) EXPERIMENTAL PLAYGROUND**\n",
    "\n",
    "---\n",
    "\n"
   ]
  },
  {
   "attachments": {},
   "cell_type": "markdown",
   "metadata": {},
   "source": [
    "## **SVM | PCA Features**"
   ]
  },
  {
   "cell_type": "code",
   "execution_count": 48,
   "metadata": {},
   "outputs": [],
   "source": [
    "features_PCA = {}\n",
    "\n",
    "for i in range(2,10,2):\n",
    "    X_pca_i = get_pca_features(i)\n",
    "    \n",
    "    # Split dataset\n",
    "    X_train_pca, X_test_pca, y_train, y_test = train_test_split(\n",
    "        X_pca_i.astype('float64'), \n",
    "        y.values.astype('float64'),\n",
    "        train_size = .8,\n",
    "        test_size = .2,\n",
    "        random_state = 2,\n",
    "        shuffle = True,\n",
    "        stratify = y)\n",
    "    \n",
    "    key_i = str(i)\n",
    "    features_PCA[key_i] = {}\n",
    "    features_PCA[key_i]['X_train'] = X_train_pca\n",
    "    features_PCA[key_i]['X_test'] = X_test_pca\n",
    "    features_PCA[key_i]['y_train'] = y_train\n",
    "    features_PCA[key_i]['y_test'] = y_test"
   ]
  },
  {
   "cell_type": "code",
   "execution_count": 52,
   "metadata": {},
   "outputs": [
    {
     "name": "stdout",
     "output_type": "stream",
     "text": [
      "Number of components: \u001b[34m 2 \u001b[0m\n",
      "Test Accuracy :\u001b[32m \u001b[01m 61.42% \u001b[30m \u001b[0m \n",
      "\n",
      "              precision    recall  f1-score   support\n",
      "\n",
      "    safe_URL       0.65      0.51      0.57      2000\n",
      "  unsafe_URL       0.59      0.72      0.65      2000\n",
      "\n",
      "    accuracy                           0.61      4000\n",
      "   macro avg       0.62      0.61      0.61      4000\n",
      "weighted avg       0.62      0.61      0.61      4000\n",
      "\n",
      "Number of components: \u001b[34m 4 \u001b[0m\n",
      "Test Accuracy :\u001b[32m \u001b[01m 67.65% \u001b[30m \u001b[0m \n",
      "\n",
      "              precision    recall  f1-score   support\n",
      "\n",
      "    safe_URL       0.63      0.88      0.73      2000\n",
      "  unsafe_URL       0.80      0.47      0.59      2000\n",
      "\n",
      "    accuracy                           0.68      4000\n",
      "   macro avg       0.71      0.68      0.66      4000\n",
      "weighted avg       0.71      0.68      0.66      4000\n",
      "\n",
      "Number of components: \u001b[34m 6 \u001b[0m\n",
      "Test Accuracy :\u001b[32m \u001b[01m 78.20% \u001b[30m \u001b[0m \n",
      "\n",
      "              precision    recall  f1-score   support\n",
      "\n",
      "    safe_URL       0.79      0.77      0.78      2000\n",
      "  unsafe_URL       0.77      0.80      0.78      2000\n",
      "\n",
      "    accuracy                           0.78      4000\n",
      "   macro avg       0.78      0.78      0.78      4000\n",
      "weighted avg       0.78      0.78      0.78      4000\n",
      "\n",
      "Number of components: \u001b[34m 8 \u001b[0m\n",
      "Test Accuracy :\u001b[32m \u001b[01m 78.70% \u001b[30m \u001b[0m \n",
      "\n",
      "              precision    recall  f1-score   support\n",
      "\n",
      "    safe_URL       0.80      0.77      0.78      2000\n",
      "  unsafe_URL       0.78      0.81      0.79      2000\n",
      "\n",
      "    accuracy                           0.79      4000\n",
      "   macro avg       0.79      0.79      0.79      4000\n",
      "weighted avg       0.79      0.79      0.79      4000\n",
      "\n"
     ]
    }
   ],
   "source": [
    "# Training and evaluate SVM on different number of components\n",
    "for k in features_PCA.keys():\n",
    "    X_train = features_PCA[k]['X_train']\n",
    "    X_test = features_PCA[k]['X_test']\n",
    "    y_train = features_PCA[k]['y_train']\n",
    "    y_test = features_PCA[k]['y_test']\n",
    "    \n",
    "     \n",
    "    # Model training\n",
    "    svc_i = SVC(kernel='rbf')\n",
    "    svc_i.fit(X_train, y_train)\n",
    "    pred_i = svc_i.predict(X_test)\n",
    "    acc_i = accuracy_score(pred_i, y_test)\n",
    "    \n",
    "    print(\"Number of components: \\033[34m %s \\033[0m\"%k)\n",
    "    print(f'Test Accuracy :\\033[32m \\033[01m {acc_i*100:.2f}% \\033[30m \\033[0m \\n')\n",
    "    print(classification_report(y_test, pred_i, target_names=['safe_URL', 'unsafe_URL']))"
   ]
  },
  {
   "attachments": {},
   "cell_type": "markdown",
   "metadata": {},
   "source": [
    "## **SVM | Autoencoder Features**"
   ]
  },
  {
   "cell_type": "code",
   "execution_count": null,
   "metadata": {},
   "outputs": [],
   "source": []
  },
  {
   "attachments": {},
   "cell_type": "markdown",
   "metadata": {},
   "source": [
    "## **SVM | Different kernels**"
   ]
  },
  {
   "cell_type": "code",
   "execution_count": 53,
   "metadata": {},
   "outputs": [
    {
     "name": "stdout",
     "output_type": "stream",
     "text": [
      "Kernel: \u001b[34mlinear \u001b[0m\n",
      "Test Accuracy :\u001b[32m \u001b[01m 77.72% \u001b[30m \u001b[0m \n",
      "\n",
      "              precision    recall  f1-score   support\n",
      "\n",
      "    safe_URL       0.74      0.85      0.79      2000\n",
      "  unsafe_URL       0.82      0.71      0.76      2000\n",
      "\n",
      "    accuracy                           0.78      4000\n",
      "   macro avg       0.78      0.78      0.78      4000\n",
      "weighted avg       0.78      0.78      0.78      4000\n",
      "\n",
      "Kernel: \u001b[34mpoly \u001b[0m\n",
      "Test Accuracy :\u001b[32m \u001b[01m 70.53% \u001b[30m \u001b[0m \n",
      "\n",
      "              precision    recall  f1-score   support\n",
      "\n",
      "    safe_URL       0.85      0.50      0.63      2000\n",
      "  unsafe_URL       0.65      0.91      0.76      2000\n",
      "\n",
      "    accuracy                           0.71      4000\n",
      "   macro avg       0.75      0.71      0.69      4000\n",
      "weighted avg       0.75      0.71      0.69      4000\n",
      "\n",
      "Kernel: \u001b[34mrbf \u001b[0m\n",
      "Test Accuracy :\u001b[32m \u001b[01m 79.17% \u001b[30m \u001b[0m \n",
      "\n",
      "              precision    recall  f1-score   support\n",
      "\n",
      "    safe_URL       0.80      0.78      0.79      2000\n",
      "  unsafe_URL       0.79      0.80      0.79      2000\n",
      "\n",
      "    accuracy                           0.79      4000\n",
      "   macro avg       0.79      0.79      0.79      4000\n",
      "weighted avg       0.79      0.79      0.79      4000\n",
      "\n",
      "Kernel: \u001b[34msigmoid \u001b[0m\n",
      "Test Accuracy :\u001b[32m \u001b[01m 62.62% \u001b[30m \u001b[0m \n",
      "\n",
      "              precision    recall  f1-score   support\n",
      "\n",
      "    safe_URL       0.62      0.63      0.63      2000\n",
      "  unsafe_URL       0.63      0.62      0.62      2000\n",
      "\n",
      "    accuracy                           0.63      4000\n",
      "   macro avg       0.63      0.63      0.63      4000\n",
      "weighted avg       0.63      0.63      0.63      4000\n",
      "\n"
     ]
    }
   ],
   "source": [
    "kernels = ['linear', 'poly', 'rbf', 'sigmoid']\n",
    "\n",
    "for k in kernels:\n",
    "    X_train, X_test, y_train, y_test = get_data_split(X, y)\n",
    "    svc = SVC(kernel=k)\n",
    "    svc.fit(X_train, y_train)\n",
    "    pred = svc.predict(X_test)\n",
    "    acc = accuracy_score(pred, y_test)\n",
    "    \n",
    "    print(\"Kernel: \\033[34m%s \\033[0m\"%k)\n",
    "    print(f'Test Accuracy :\\033[32m \\033[01m {acc*100:.2f}% \\033[30m \\033[0m \\n')\n",
    "    print(classification_report(y_test, pred, target_names=['safe_URL', 'unsafe_URL']))"
   ]
  },
  {
   "attachments": {},
   "cell_type": "markdown",
   "metadata": {},
   "source": [
    "## **ADABoost | PCA Features**"
   ]
  },
  {
   "cell_type": "code",
   "execution_count": 54,
   "metadata": {},
   "outputs": [
    {
     "name": "stdout",
     "output_type": "stream",
     "text": [
      "Number of components: \u001b[34m 2 \u001b[0m\n",
      "Test Accuracy :\u001b[32m \u001b[01m 74.15% \u001b[30m \u001b[0m \n",
      "\n",
      "              precision    recall  f1-score   support\n",
      "\n",
      "    safe_URL       0.73      0.78      0.75      2000\n",
      "  unsafe_URL       0.76      0.71      0.73      2000\n",
      "\n",
      "    accuracy                           0.74      4000\n",
      "   macro avg       0.74      0.74      0.74      4000\n",
      "weighted avg       0.74      0.74      0.74      4000\n",
      "\n",
      "Number of components: \u001b[34m 4 \u001b[0m\n",
      "Test Accuracy :\u001b[32m \u001b[01m 76.85% \u001b[30m \u001b[0m \n",
      "\n",
      "              precision    recall  f1-score   support\n",
      "\n",
      "    safe_URL       0.75      0.81      0.78      2000\n",
      "  unsafe_URL       0.79      0.73      0.76      2000\n",
      "\n",
      "    accuracy                           0.77      4000\n",
      "   macro avg       0.77      0.77      0.77      4000\n",
      "weighted avg       0.77      0.77      0.77      4000\n",
      "\n",
      "Number of components: \u001b[34m 6 \u001b[0m\n",
      "Test Accuracy :\u001b[32m \u001b[01m 78.17% \u001b[30m \u001b[0m \n",
      "\n",
      "              precision    recall  f1-score   support\n",
      "\n",
      "    safe_URL       0.78      0.78      0.78      2000\n",
      "  unsafe_URL       0.78      0.78      0.78      2000\n",
      "\n",
      "    accuracy                           0.78      4000\n",
      "   macro avg       0.78      0.78      0.78      4000\n",
      "weighted avg       0.78      0.78      0.78      4000\n",
      "\n",
      "Number of components: \u001b[34m 8 \u001b[0m\n",
      "Test Accuracy :\u001b[32m \u001b[01m 78.42% \u001b[30m \u001b[0m \n",
      "\n",
      "              precision    recall  f1-score   support\n",
      "\n",
      "    safe_URL       0.76      0.82      0.79      2000\n",
      "  unsafe_URL       0.81      0.75      0.78      2000\n",
      "\n",
      "    accuracy                           0.78      4000\n",
      "   macro avg       0.79      0.78      0.78      4000\n",
      "weighted avg       0.79      0.78      0.78      4000\n",
      "\n"
     ]
    }
   ],
   "source": [
    "# Training and evaluate ADABoost on different number of components\n",
    "for k in features_PCA.keys():\n",
    "    X_train = features_PCA[k]['X_train']\n",
    "    X_test = features_PCA[k]['X_test']\n",
    "    y_train = features_PCA[k]['y_train']\n",
    "    y_test = features_PCA[k]['y_test']\n",
    "    \n",
    "    adaboost = AdaBoostClassifier()\n",
    "    adaboost.fit(X_train, y_train)\n",
    "    pred = adaboost.predict(X_test)\n",
    "    acc = accuracy_score(pred, y_test)\n",
    "    \n",
    "    print(\"Number of components: \\033[34m %s \\033[0m\"%k)\n",
    "    print(f'Test Accuracy :\\033[32m \\033[01m {acc*100:.2f}% \\033[30m \\033[0m \\n')\n",
    "    print(classification_report(y_test, pred, target_names=['safe_URL', 'unsafe_URL']))"
   ]
  },
  {
   "attachments": {},
   "cell_type": "markdown",
   "metadata": {},
   "source": [
    "## **ADABoost | Autoencoder Features**"
   ]
  },
  {
   "cell_type": "code",
   "execution_count": null,
   "metadata": {},
   "outputs": [],
   "source": []
  },
  {
   "attachments": {},
   "cell_type": "markdown",
   "metadata": {
    "id": "Hbmtb8OQHCem"
   },
   "source": [
    "## **Random Forest | Hyperpar. Tuning**"
   ]
  },
  {
   "cell_type": "code",
   "execution_count": null,
   "metadata": {
    "colab": {
     "base_uri": "https://localhost:8080/",
     "height": 381
    },
    "id": "Ht-95SAH7FFg",
    "outputId": "066fff9b-2f7b-4e61-a732-90f0cf355f82"
   },
   "outputs": [],
   "source": [
    "acc_gini = []\n",
    "acc_entropy = []\n",
    "acc_log = []\n",
    "max_iter = 100\n",
    "\n",
    "for i in range(max_iter):\n",
    "    rf_gini = RandomForestClassifier(criterion='gini', random_state=i)\n",
    "    rf_gini.fit(X_train, y_train)\n",
    "    pred = rf_gini.predict(X_test)\n",
    "    acc_gini.append(accuracy_score(pred, y_test))\n",
    "\n",
    "    rf_entropy = RandomForestClassifier(criterion='entropy', random_state=i)\n",
    "    rf_entropy.fit(X_train, y_train)\n",
    "    pred = rf_entropy.predict(X_test)\n",
    "    acc_entropy.append(accuracy_score(pred, y_test))\n",
    "    \n",
    "    '''\n",
    "    rf_log = RandomForestClassifier(criterion='log_loss', random_state=i)\n",
    "    rf_log.fit(X_train, y_train)\n",
    "    pred = rf_log.predict(X_test)\n",
    "    acc_log.append(accuracy_score(pred, y_test))'''\n",
    "\n",
    "print(''.join(['> ' for i in range(40)]))\n",
    "print(f'\\n{\"\":<25}{\"GINI\":<18}{\"ENTROPY\":<18}{\"LOG_LOSS\":<18}\\n')\n",
    "print(''.join(['> ' for i in range(40)]))\n",
    "print(f'\\n{\"MEAN_ACCURACY\":<25}{np.mean(acc_gini):<18.4}{np.mean(acc_entropy):<18.4}{np.mean(acc_log):<18.4}\\n')"
   ]
  },
  {
   "cell_type": "code",
   "execution_count": null,
   "metadata": {
    "colab": {
     "base_uri": "https://localhost:8080/",
     "height": 626
    },
    "id": "zofP7h4xT3Ab",
    "outputId": "7b344dca-1e4d-462c-ac60-bd79e8b21f3a"
   },
   "outputs": [],
   "source": [
    "plt.plot([i for i in range(len(acc_gini[:50]))], acc_gini[:50], label=\"acc_gini\")\n",
    "plt.plot(acc_entropy[:50], label=\"acc_entropy\")\n",
    "plt.plot(acc_log[:50], label=\"acc_log\")\n",
    "\n",
    "plt.xticks(rotation = 60, ha=\"right\")\n",
    "plt.xlabel('RANDOM STATE', labelpad=20)\n",
    "plt.ylabel('ACCURACY', labelpad=20)\n",
    "plt.legend()"
   ]
  },
  {
   "cell_type": "code",
   "execution_count": null,
   "metadata": {
    "colab": {
     "base_uri": "https://localhost:8080/"
    },
    "id": "yWix1iaCHPYn",
    "outputId": "7a46a7ce-dad8-442f-9bc0-9fe2c2a2c406"
   },
   "outputs": [],
   "source": [
    "# Number of trees in random forest\n",
    "n_estimators = [i * 100 for i in range(1, 11)]\n",
    "# Number of features to consider at every split\n",
    "max_features = ['log2', 'sqrt']\n",
    "# Maximum number of levels in tree\n",
    "max_depth = [int(x) for x in np.linspace(10, 100, num = 11)]\n",
    "max_depth.append(None)\n",
    "# Minimum number of samples required to split a node\n",
    "min_samples_split = [2, 5, 10]\n",
    "# Minimum number of samples required at each leaf node\n",
    "min_samples_leaf = [1, 2, 4]\n",
    "# Method of selecting samples for training each tree\n",
    "bootstrap = [True, False]\n",
    "# Create the random grid\n",
    "random_grid = {'n_estimators': n_estimators,\n",
    "               'max_features': max_features,\n",
    "               'max_depth': max_depth,\n",
    "               'min_samples_split': min_samples_split,\n",
    "               'min_samples_leaf': min_samples_leaf,\n",
    "               'bootstrap': bootstrap}\n",
    "\n",
    "print(''.join(['> ' for i in range(40)]))\n",
    "print(f'\\n{\"HYPERPARAMETER\":<25}{\"RANGE_VALUES\":<18}\\n')\n",
    "print(''.join(['> ' for i in range(40)]))\n",
    "for k, v in random_grid.items():\n",
    "    print(f'\\n{k:<25}{str(v):<18}')"
   ]
  },
  {
   "cell_type": "code",
   "execution_count": null,
   "metadata": {
    "colab": {
     "base_uri": "https://localhost:8080/"
    },
    "id": "shWqYOOZJqxw",
    "outputId": "dbb313b6-d90f-40ee-c23e-320d23c7c196"
   },
   "outputs": [],
   "source": [
    "# Use the random grid to search for best hyperparameters\n",
    "# First create the base model to tune\n",
    "rf = RandomForestClassifier(random_state=3)\n",
    "# Random search of parameters, using 5 fold cross validation, \n",
    "# search across 100 different combinations, and use all available cores\n",
    "rf_random = RandomizedSearchCV(\n",
    "                estimator = rf,\n",
    "                param_distributions = random_grid,\n",
    "                n_iter = 100, cv = 5, verbose = 2, random_state = 3, n_jobs = -1)\n",
    "# Fit the random search model\n",
    "rf_random.fit(X_train, y_train)\n",
    "\n",
    "print(rf_random.best_params_)"
   ]
  },
  {
   "cell_type": "code",
   "execution_count": null,
   "metadata": {
    "colab": {
     "base_uri": "https://localhost:8080/"
    },
    "id": "XVxAkk_5g7Ip",
    "outputId": "068051ad-2cfb-455f-c04d-c1fb635cc24c"
   },
   "outputs": [],
   "source": [
    "base_model = RandomForestClassifier(random_state=3)\n",
    "base_model.fit(X_train, y_train)\n",
    "base_pred = base_model.predict(X_test)\n",
    "base_accuracy = accuracy_score(base_pred, y_test)\n",
    "\n",
    "best_model = rf_random.best_estimator_\n",
    "best_model.fit(X_train, y_train)\n",
    "best_pred = best_model.predict(X_test)\n",
    "best_accuracy = accuracy_score(best_pred, y_test)\n",
    "\n",
    "gain = ((best_accuracy - base_accuracy) * 100 / base_accuracy)\n",
    "\n",
    "print(''.join(['> ' for i in range(40)]))\n",
    "print(f'\\n{\"\":<25}{\"BASE_MODEL\":<18}{\"BEST_MODEL\":<18}{\"IMPROVEMENT\":<18}\\n')\n",
    "print(''.join(['> ' for i in range(40)]))\n",
    "print(f'\\n{\"ACCURACY\":<25}{base_accuracy:<18.4}{best_accuracy:<18.4}{gain:<18.2f}\\n')"
   ]
  },
  {
   "cell_type": "code",
   "execution_count": null,
   "metadata": {
    "colab": {
     "base_uri": "https://localhost:8080/"
    },
    "id": "OXF0ip5Uj87e",
    "outputId": "0081260b-48cb-4df5-813a-c973f27b4b41"
   },
   "outputs": [],
   "source": [
    "# Use the random grid to search for best hyperparameters\n",
    "# First create the base model to tune\n",
    "rf = RandomForestClassifier(random_state=3)\n",
    "# Random search of parameters, using 5 fold cross validation, \n",
    "# search across 100 different combinations, and use all available cores\n",
    "param_grid = {\n",
    "               'n_estimators': [100, 200, 300],\n",
    "               'max_features': ['log2'],\n",
    "               'criterion': ['entropy'],\n",
    "               'max_depth': [10, 19],\n",
    "               'min_samples_split': [2, 5],\n",
    "               'min_samples_leaf': [1, 2],\n",
    "               'bootstrap': [True, False]\n",
    "              }\n",
    "grid_search = GridSearchCV(estimator = rf, param_grid = param_grid, \n",
    "                          cv = 5, n_jobs = -1, verbose = 2)\n",
    "# Fit the random search model\n",
    "grid_search.fit(X_train, y_train)\n",
    "\n",
    "print(grid_search.best_params_)"
   ]
  },
  {
   "cell_type": "code",
   "execution_count": null,
   "metadata": {
    "colab": {
     "base_uri": "https://localhost:8080/"
    },
    "id": "iqedy3eQouRD",
    "outputId": "794ce820-14fb-473a-821c-355e29f1d4c6"
   },
   "outputs": [],
   "source": [
    "best_model_g = grid_search.best_estimator_\n",
    "best_model_g.fit(X_train, y_train)\n",
    "best_pred_g = best_model_g.predict(X_test)\n",
    "best_accuracy_g = accuracy_score(best_pred_g, y_test)\n",
    "\n",
    "gain = ((best_accuracy_g - base_accuracy) * 100 / base_accuracy)\n",
    "\n",
    "print(''.join(['> ' for i in range(40)]))\n",
    "print(f'\\n{\"\":<25}{\"BASE_MODEL\":<18}{\"BEST_MODEL\":<18}{\"IMPROVEMENT\":<18}\\n')\n",
    "print(''.join(['> ' for i in range(40)]))\n",
    "print(f'\\n{\"ACCURACY\":<25}{base_accuracy:<18.4}{best_accuracy_g:<18.4}{gain:<18.2f}\\n')"
   ]
  },
  {
   "cell_type": "code",
   "execution_count": null,
   "metadata": {
    "id": "D6WXRlvVvfxZ"
   },
   "outputs": [],
   "source": [
    "from sklearn.model_selection import cross_val_score\n",
    "\n",
    "best_param = {\n",
    "    'n_estimators': 200,\n",
    "    'criterion': 'entropy',\n",
    "    'max_depth': 10,\n",
    "    'min_samples_leaf': 1,\n",
    "    'min_samples_split': 2,\n",
    "    'max_features': 'log2',\n",
    "    'bootstrap': False,\n",
    "    'random_state': 3\n",
    "}\n",
    "\n",
    "rf_cv = RandomForestClassifier(best_param)\n",
    "rf_cv.fit(X_train, y_train)\n",
    "pred_cv = rf_cv.predict(X_test)\n",
    "\n",
    "scores = cross_val_score(rf_cv, X, y, cv=5)"
   ]
  }
 ],
 "metadata": {
  "colab": {
   "collapsed_sections": [
    "FQ6dOsrRyGHf",
    "9_IJyGOCyWMV",
    "bsNop2ZoydGH",
    "hNrnsFxo0zK0",
    "xDkSWFEqpPDg"
   ],
   "gpuType": "T4",
   "provenance": [],
   "toc_visible": true
  },
  "gpuClass": "standard",
  "kernelspec": {
   "display_name": "Python 3 (ipykernel)",
   "language": "python",
   "name": "python3"
  },
  "language_info": {
   "codemirror_mode": {
    "name": "ipython",
    "version": 3
   },
   "file_extension": ".py",
   "mimetype": "text/x-python",
   "name": "python",
   "nbconvert_exporter": "python",
   "pygments_lexer": "ipython3",
   "version": "3.9.7"
  }
 },
 "nbformat": 4,
 "nbformat_minor": 1
}
