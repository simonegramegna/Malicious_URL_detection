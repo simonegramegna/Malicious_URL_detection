{
 "cells": [
  {
   "cell_type": "markdown",
   "id": "77bd64ce",
   "metadata": {},
   "source": [
    "**1) PRE-PROCESSING**\n",
    "\n",
    "---\n"
   ]
  },
  {
   "cell_type": "code",
   "execution_count": 39,
   "id": "da6f3681",
   "metadata": {},
   "outputs": [],
   "source": [
    "import warnings\n",
    "warnings.filterwarnings('ignore')\n",
    "import pandas as pd\n",
    "import numpy as np\n",
    "import random\n",
    "\n",
    "# Graphics Libs\n",
    "import matplotlib.pyplot as plt\n",
    "%matplotlib inline\n",
    "plt.rcParams['figure.figsize'] = 14, 8\n",
    "\n",
    "# Feature extraction Libs\n",
    "import requests\n",
    "from urllib.parse import urlparse, urlsplit\n",
    "import tldextract"
   ]
  },
  {
   "cell_type": "code",
   "execution_count": 40,
   "id": "5de843bd",
   "metadata": {},
   "outputs": [
    {
     "data": {
      "text/html": [
       "<div>\n",
       "<style scoped>\n",
       "    .dataframe tbody tr th:only-of-type {\n",
       "        vertical-align: middle;\n",
       "    }\n",
       "\n",
       "    .dataframe tbody tr th {\n",
       "        vertical-align: top;\n",
       "    }\n",
       "\n",
       "    .dataframe thead th {\n",
       "        text-align: right;\n",
       "    }\n",
       "</style>\n",
       "<table border=\"1\" class=\"dataframe\">\n",
       "  <thead>\n",
       "    <tr style=\"text-align: right;\">\n",
       "      <th></th>\n",
       "      <th>url</th>\n",
       "      <th>type</th>\n",
       "    </tr>\n",
       "  </thead>\n",
       "  <tbody>\n",
       "    <tr>\n",
       "      <th>count</th>\n",
       "      <td>663191</td>\n",
       "      <td>663191</td>\n",
       "    </tr>\n",
       "    <tr>\n",
       "      <th>unique</th>\n",
       "      <td>653040</td>\n",
       "      <td>5</td>\n",
       "    </tr>\n",
       "    <tr>\n",
       "      <th>top</th>\n",
       "      <td>http://style.org.hc360.com/css/detail/mysite/s...</td>\n",
       "      <td>benign</td>\n",
       "    </tr>\n",
       "    <tr>\n",
       "      <th>freq</th>\n",
       "      <td>180</td>\n",
       "      <td>428103</td>\n",
       "    </tr>\n",
       "  </tbody>\n",
       "</table>\n",
       "</div>"
      ],
      "text/plain": [
       "                                                      url    type\n",
       "count                                              663191  663191\n",
       "unique                                             653040       5\n",
       "top     http://style.org.hc360.com/css/detail/mysite/s...  benign\n",
       "freq                                                  180  428103"
      ]
     },
     "execution_count": 40,
     "metadata": {},
     "output_type": "execute_result"
    }
   ],
   "source": [
    "data = pd.read_csv('datasets/malicious_urls.csv')\n",
    "data.describe()"
   ]
  },
  {
   "cell_type": "code",
   "execution_count": 41,
   "id": "0a6442e2",
   "metadata": {},
   "outputs": [
    {
     "data": {
      "text/html": [
       "<div>\n",
       "<style scoped>\n",
       "    .dataframe tbody tr th:only-of-type {\n",
       "        vertical-align: middle;\n",
       "    }\n",
       "\n",
       "    .dataframe tbody tr th {\n",
       "        vertical-align: top;\n",
       "    }\n",
       "\n",
       "    .dataframe thead th {\n",
       "        text-align: right;\n",
       "    }\n",
       "</style>\n",
       "<table border=\"1\" class=\"dataframe\">\n",
       "  <thead>\n",
       "    <tr style=\"text-align: right;\">\n",
       "      <th></th>\n",
       "      <th>url</th>\n",
       "      <th>type</th>\n",
       "    </tr>\n",
       "  </thead>\n",
       "  <tbody>\n",
       "    <tr>\n",
       "      <th>count</th>\n",
       "      <td>653040</td>\n",
       "      <td>653040</td>\n",
       "    </tr>\n",
       "    <tr>\n",
       "      <th>unique</th>\n",
       "      <td>653040</td>\n",
       "      <td>5</td>\n",
       "    </tr>\n",
       "    <tr>\n",
       "      <th>top</th>\n",
       "      <td>br-icloud.com.br</td>\n",
       "      <td>benign</td>\n",
       "    </tr>\n",
       "    <tr>\n",
       "      <th>freq</th>\n",
       "      <td>1</td>\n",
       "      <td>428080</td>\n",
       "    </tr>\n",
       "  </tbody>\n",
       "</table>\n",
       "</div>"
      ],
      "text/plain": [
       "                     url    type\n",
       "count             653040  653040\n",
       "unique            653040       5\n",
       "top     br-icloud.com.br  benign\n",
       "freq                   1  428080"
      ]
     },
     "execution_count": 41,
     "metadata": {},
     "output_type": "execute_result"
    }
   ],
   "source": [
    "# Removing duplicates\n",
    "data = data.drop_duplicates(subset='url')\n",
    "data.describe()"
   ]
  },
  {
   "cell_type": "code",
   "execution_count": 42,
   "id": "61b7f919",
   "metadata": {},
   "outputs": [
    {
     "data": {
      "text/html": [
       "<div>\n",
       "<style scoped>\n",
       "    .dataframe tbody tr th:only-of-type {\n",
       "        vertical-align: middle;\n",
       "    }\n",
       "\n",
       "    .dataframe tbody tr th {\n",
       "        vertical-align: top;\n",
       "    }\n",
       "\n",
       "    .dataframe thead th {\n",
       "        text-align: right;\n",
       "    }\n",
       "</style>\n",
       "<table border=\"1\" class=\"dataframe\">\n",
       "  <thead>\n",
       "    <tr style=\"text-align: right;\">\n",
       "      <th></th>\n",
       "      <th>url</th>\n",
       "      <th>type</th>\n",
       "    </tr>\n",
       "  </thead>\n",
       "  <tbody>\n",
       "    <tr>\n",
       "      <th>0</th>\n",
       "      <td>br-icloud.com.br</td>\n",
       "      <td>phishing</td>\n",
       "    </tr>\n",
       "    <tr>\n",
       "      <th>1</th>\n",
       "      <td>mp3raid.com/music/krizz_kaliko.html</td>\n",
       "      <td>benign</td>\n",
       "    </tr>\n",
       "    <tr>\n",
       "      <th>2</th>\n",
       "      <td>bopsecrets.org/rexroth/cr/1.htm</td>\n",
       "      <td>benign</td>\n",
       "    </tr>\n",
       "    <tr>\n",
       "      <th>3</th>\n",
       "      <td>http://www.garage-pirenne.be/index.php?option=...</td>\n",
       "      <td>defacement</td>\n",
       "    </tr>\n",
       "    <tr>\n",
       "      <th>4</th>\n",
       "      <td>http://adventure-nicaragua.net/index.php?optio...</td>\n",
       "      <td>defacement</td>\n",
       "    </tr>\n",
       "    <tr>\n",
       "      <th>...</th>\n",
       "      <td>...</td>\n",
       "      <td>...</td>\n",
       "    </tr>\n",
       "    <tr>\n",
       "      <th>663186</th>\n",
       "      <td>http://archive.salisburyjournal.co.uk/2001/3/7/</td>\n",
       "      <td>spam</td>\n",
       "    </tr>\n",
       "    <tr>\n",
       "      <th>663187</th>\n",
       "      <td>http://astore.amazon.co.uk/allezvinsfrenchr/de...</td>\n",
       "      <td>spam</td>\n",
       "    </tr>\n",
       "    <tr>\n",
       "      <th>663188</th>\n",
       "      <td>http://archive.thisischeshire.co.uk/2000/1/14/...</td>\n",
       "      <td>spam</td>\n",
       "    </tr>\n",
       "    <tr>\n",
       "      <th>663189</th>\n",
       "      <td>http://applerugs.co.uk/rugs/product_info.php?p...</td>\n",
       "      <td>spam</td>\n",
       "    </tr>\n",
       "    <tr>\n",
       "      <th>663190</th>\n",
       "      <td>http://allgirltogaparty.co.uk/gallery2/main.ph...</td>\n",
       "      <td>spam</td>\n",
       "    </tr>\n",
       "  </tbody>\n",
       "</table>\n",
       "<p>653040 rows × 2 columns</p>\n",
       "</div>"
      ],
      "text/plain": [
       "                                                      url        type\n",
       "0                                        br-icloud.com.br    phishing\n",
       "1                     mp3raid.com/music/krizz_kaliko.html      benign\n",
       "2                         bopsecrets.org/rexroth/cr/1.htm      benign\n",
       "3       http://www.garage-pirenne.be/index.php?option=...  defacement\n",
       "4       http://adventure-nicaragua.net/index.php?optio...  defacement\n",
       "...                                                   ...         ...\n",
       "663186    http://archive.salisburyjournal.co.uk/2001/3/7/        spam\n",
       "663187  http://astore.amazon.co.uk/allezvinsfrenchr/de...        spam\n",
       "663188  http://archive.thisischeshire.co.uk/2000/1/14/...        spam\n",
       "663189  http://applerugs.co.uk/rugs/product_info.php?p...        spam\n",
       "663190  http://allgirltogaparty.co.uk/gallery2/main.ph...        spam\n",
       "\n",
       "[653040 rows x 2 columns]"
      ]
     },
     "execution_count": 42,
     "metadata": {},
     "output_type": "execute_result"
    }
   ],
   "source": [
    "data"
   ]
  },
  {
   "cell_type": "code",
   "execution_count": 43,
   "id": "19877498",
   "metadata": {},
   "outputs": [
    {
     "data": {
      "image/png": "[encoded data removed]",
      "text/plain": [
       "<Figure size 1008x576 with 1 Axes>"
      ]
     },
     "metadata": {
      "needs_background": "light"
     },
     "output_type": "display_data"
    }
   ],
   "source": [
    "count = data.type.value_counts()\n",
    "bar_labels = [count.index[i].capitalize()+' (n. ' + str(count[i]) + ')' for i in range(len(count.index))]\n",
    "bars = plt.bar(count.index, height=count, label=bar_labels, color=['#8fce00', '#0092ff', '#ff8200', '#ff1100', '#ffcd34'])\n",
    "\n",
    "for rect in bars:\n",
    "    height = rect.get_height()\n",
    "    plt.text(rect.get_x() + rect.get_width() / 2.0, height, f'{height:.0f} ({height/len(data)*100:.2f}%)', ha='center', va='bottom')\n",
    "\n",
    "plt.xlabel('LABELS', labelpad=20)\n",
    "plt.ylabel('COUNT', labelpad=20)\n",
    "plt.title('EXPLORING DATASET')\n",
    "plt.legend()\n",
    "plt.show()"
   ]
  },
  {
   "cell_type": "code",
   "execution_count": 44,
   "id": "f5b846aa",
   "metadata": {},
   "outputs": [
    {
     "data": {
      "image/png": "[encoded data removed]",
      "text/plain": [
       "<Figure size 1008x576 with 1 Axes>"
      ]
     },
     "metadata": {
      "needs_background": "light"
     },
     "output_type": "display_data"
    }
   ],
   "source": [
    "benign = count[0]\n",
    "malicious = len(data) - benign\n",
    "bar_labels = ['Benign (n.'+str(benign)+')', 'Malicious (n.'+str(malicious)+')']\n",
    "bars = plt.bar(['benign', 'malicious'], height=[benign, malicious], label=bar_labels, color=['#8fce00', '#ff1100'])\n",
    "\n",
    "for rect in bars:\n",
    "    height = rect.get_height()\n",
    "    plt.text(rect.get_x() + rect.get_width() / 2.0, height, f'{height:.0f} ({height/len(data)*100:.2f}%)', ha='center', va='bottom')\n",
    "\n",
    "plt.xlabel('CLASSES', labelpad=20)\n",
    "plt.ylabel('COUNT', labelpad=20)\n",
    "plt.title('EXPLORING DATASET')\n",
    "plt.legend()\n",
    "plt.show()"
   ]
  },
  {
   "cell_type": "code",
   "execution_count": 45,
   "id": "ac057061",
   "metadata": {},
   "outputs": [],
   "source": [
    "benign_urls = data[data['type'] == 'benign']\n",
    "defacement_urls = data[data['type'] == 'defacement']\n",
    "phishing_urls = data[data['type'] == 'phishing']\n",
    "malware_urls = data[data['type'] == 'malware']\n",
    "spam_urls = data[data['type'] == 'spam']\n",
    "\n",
    "benign_urls_sample = random.sample(list(benign_urls.index), 10000)\n",
    "defacement_urls_sample = random.sample(list(defacement_urls.index), 2500)\n",
    "phishing_urls_sample = random.sample(list(phishing_urls.index), 2500)\n",
    "malware_urls_sample = random.sample(list(malware_urls.index), 2500)\n",
    "spam_urls_sample = random.sample(list(spam_urls.index), 2500)\n",
    "\n",
    "selected_indexes = benign_urls_sample + defacement_urls_sample + phishing_urls_sample + malware_urls_sample + spam_urls_sample\n",
    "random.shuffle(selected_indexes)\n",
    "data_sampled = data.loc[selected_indexes]\n",
    "data_sampled = data_sampled.reset_index(drop=True)"
   ]
  },
  {
   "cell_type": "code",
   "execution_count": 46,
   "id": "5b8e7cfa",
   "metadata": {},
   "outputs": [
    {
     "data": {
      "text/html": [
       "<div>\n",
       "<style scoped>\n",
       "    .dataframe tbody tr th:only-of-type {\n",
       "        vertical-align: middle;\n",
       "    }\n",
       "\n",
       "    .dataframe tbody tr th {\n",
       "        vertical-align: top;\n",
       "    }\n",
       "\n",
       "    .dataframe thead th {\n",
       "        text-align: right;\n",
       "    }\n",
       "</style>\n",
       "<table border=\"1\" class=\"dataframe\">\n",
       "  <thead>\n",
       "    <tr style=\"text-align: right;\">\n",
       "      <th></th>\n",
       "      <th>url</th>\n",
       "      <th>type</th>\n",
       "    </tr>\n",
       "  </thead>\n",
       "  <tbody>\n",
       "    <tr>\n",
       "      <th>count</th>\n",
       "      <td>20000</td>\n",
       "      <td>20000</td>\n",
       "    </tr>\n",
       "    <tr>\n",
       "      <th>unique</th>\n",
       "      <td>20000</td>\n",
       "      <td>5</td>\n",
       "    </tr>\n",
       "    <tr>\n",
       "      <th>top</th>\n",
       "      <td>https://mitsui-jyuku.mixh.jp/uploads/68413687e...</td>\n",
       "      <td>benign</td>\n",
       "    </tr>\n",
       "    <tr>\n",
       "      <th>freq</th>\n",
       "      <td>1</td>\n",
       "      <td>10000</td>\n",
       "    </tr>\n",
       "  </tbody>\n",
       "</table>\n",
       "</div>"
      ],
      "text/plain": [
       "                                                      url    type\n",
       "count                                               20000   20000\n",
       "unique                                              20000       5\n",
       "top     https://mitsui-jyuku.mixh.jp/uploads/68413687e...  benign\n",
       "freq                                                    1   10000"
      ]
     },
     "execution_count": 46,
     "metadata": {},
     "output_type": "execute_result"
    }
   ],
   "source": [
    "data_sampled.describe()"
   ]
  },
  {
   "cell_type": "code",
   "execution_count": 47,
   "id": "56ec1a69",
   "metadata": {},
   "outputs": [
    {
     "data": {
      "image/png": "[encoded data removed]",
      "text/plain": [
       "<Figure size 1008x576 with 1 Axes>"
      ]
     },
     "metadata": {
      "needs_background": "light"
     },
     "output_type": "display_data"
    }
   ],
   "source": [
    "count = data_sampled.type.value_counts()\n",
    "bar_labels = [count.index[i].capitalize()+' (n. ' + str(count[i]) + ')' for i in range(len(count.index))]\n",
    "bars = plt.bar(count.index, height=count, label=bar_labels, color=['#8fce00', '#0092ff', '#ff8200', '#ff1100', '#ffcd34'])\n",
    "\n",
    "for rect in bars:\n",
    "    height = rect.get_height()\n",
    "    plt.text(rect.get_x() + rect.get_width() / 2.0, height, f'{height:.0f} ({height/len(data_sampled)*100:.2f}%)', ha='center', va='bottom')\n",
    "\n",
    "plt.xlabel('LABELS', labelpad=20)\n",
    "plt.ylabel('COUNT', labelpad=20)\n",
    "plt.title('BALANCED AND SAMPLED DATASET')\n",
    "plt.legend()\n",
    "plt.show()"
   ]
  },
  {
   "cell_type": "code",
   "execution_count": 48,
   "id": "91b87241",
   "metadata": {},
   "outputs": [
    {
     "data": {
      "image/png": "[encoded data removed]",
      "text/plain": [
       "<Figure size 1008x576 with 1 Axes>"
      ]
     },
     "metadata": {
      "needs_background": "light"
     },
     "output_type": "display_data"
    }
   ],
   "source": [
    "benign = count[0]\n",
    "malicious = len(data_sampled) - benign\n",
    "bar_labels = ['Benign (n.'+str(benign)+')', 'Malicious (n.'+str(malicious)+')']\n",
    "bars = plt.bar(['benign', 'malicious'], height=[benign, malicious], label=bar_labels, color=['#8fce00', '#ff1100'])\n",
    "\n",
    "for rect in bars:\n",
    "    height = rect.get_height()\n",
    "    plt.text(rect.get_x() + rect.get_width() / 2.0, height, f'{height:.0f} ({height/len(data_sampled)*100:.2f}%)', ha='center', va='bottom')\n",
    "\n",
    "plt.xlabel('CLASSES', labelpad=20)\n",
    "plt.ylabel('COUNT', labelpad=20)\n",
    "plt.title('BALANCED AND SAMPLED DATASET')\n",
    "plt.show()"
   ]
  },
  {
   "cell_type": "code",
   "execution_count": 49,
   "id": "536e4bc3",
   "metadata": {},
   "outputs": [],
   "source": [
    "# file_path = 'datasets/urls_sampled.csv'\n",
    "# data_sampled.to_csv(file_path, index=False)\n",
    "# data = pd.read_csv(file_path)\n",
    "# data.describe()"
   ]
  },
  {
   "cell_type": "markdown",
   "id": "20322356",
   "metadata": {},
   "source": [
    "**2) FEATURES ENGINEERING**\n",
    "\n",
    "---\n"
   ]
  },
  {
   "cell_type": "code",
   "execution_count": 50,
   "id": "9cacad5e",
   "metadata": {},
   "outputs": [],
   "source": [
    "#\n",
    "# Number of character '.' in URL\n",
    "# Return: numeric\n",
    "#\n",
    "def count_dots(url: str):\n",
    "    return url.count('.')\n",
    "\n",
    "\n",
    "#\n",
    "# Number of subdomain levels\n",
    "# Return: numeric\n",
    "#\n",
    "def count_subdomains(url: str):\n",
    "    subdomain = tldextract.extract(url).subdomain\n",
    "    return len(subdomain.split('.')) if len(subdomain) != 0 else 0\n",
    "\n",
    "\n",
    "#\n",
    "# The depth of URL\n",
    "# Return: numeric\n",
    "#\n",
    "def get_path_level(url: str):\n",
    "    path = urlsplit(url).path\n",
    "    path = path[1:] if len(path) > 0 and path[0] == '/' else path\n",
    "    path = path[:-1] if len(path) > 0 and path[-1] == '/' else path\n",
    "    return len(path.split('/')) if len(path) > 0 else 0\n",
    "\n",
    "\n",
    "#\n",
    "# The length of URL\n",
    "# Return: numeric\n",
    "#\n",
    "def get_len(url: str):\n",
    "    return len(url)\n",
    "\n",
    "\n",
    "#\n",
    "# Number of the dash character '-' in URL\n",
    "# Return: numeric\n",
    "#\n",
    "def count_dash(url: str):\n",
    "    return url.count('-')\n",
    "\n",
    "\n",
    "#\n",
    "# There exists a character '@' in URL\n",
    "# Return: boolean\n",
    "#\n",
    "def check_at_symbol(url: str):\n",
    "    return '@' in url\n",
    "\n",
    "\n",
    "#\n",
    "# There exists a character '~' in URL\n",
    "# Return: boolean\n",
    "#\n",
    "def check_tilde_symbol(url: str):\n",
    "    return '~' in url\n",
    "\n",
    "\n",
    "#\n",
    "# Number of the underscore character '_' in URL\n",
    "# Return: numeric\n",
    "#\n",
    "def count_underscore(url: str):\n",
    "    return url.count('_')\n",
    "\n",
    "\n",
    "#\n",
    "# Number of the percent character '%' in URL\n",
    "# Return: numeric\n",
    "#\n",
    "def count_percent(url: str):\n",
    "    return url.count('%')\n",
    "\n",
    "\n",
    "#\n",
    "# Number of the query components\n",
    "# Return: numeric\n",
    "#\n",
    "def count_query_components(url: str):\n",
    "    query_components = urlparse(url).query.split(\"&\") if len(urlparse(url).query) > 0 else ''\n",
    "    return len(query_components)\n",
    "\n",
    "\n",
    "#\n",
    "# Number of the ampersand character '&' in URL\n",
    "# Return: numeric\n",
    "#\n",
    "def count_ampersand(url: str):\n",
    "    return url.count('&')\n",
    "\n",
    "\n",
    "#\n",
    "# Number of the hash character '#' in URL\n",
    "# Return: numeric\n",
    "#\n",
    "def count_hash(url: str):\n",
    "    return url.count('#')\n",
    "\n",
    "\n",
    "#\n",
    "# Number of the numeric character\n",
    "# Return: numeric\n",
    "#\n",
    "def count_digits(url: str):\n",
    "    return sum(c.isdigit() for c in url)\n",
    "\n",
    "\n",
    "#\n",
    "# Check if there exists a HTTPS in website URL\n",
    "# Return: boolean\n",
    "#\n",
    "def check_Https(url: str):\n",
    "    try:\n",
    "        req = requests.get(url, timeout=1).url\n",
    "        return req.startswith('https')\n",
    "    except Exception as e:\n",
    "        return False\n",
    "\n",
    "\n",
    "#\n",
    "# Check if the IP address is used in the hostname of the website URL\n",
    "# Return: boolean\n",
    "#\n",
    "def check_IP_address(url: str):\n",
    "    return not bool(sum(not c.isdigit() and c != '.' for c in tldextract.extract(url).domain))\n",
    "\n",
    "\n",
    "#\n",
    "# Check if TLD is used as a part of the subdomain in website URL\n",
    "# Return: boolean\n",
    "#\n",
    "def check_tld_in_subdomain(url: str):\n",
    "    res = tldextract.extract(url)\n",
    "    return res.domain in res.subdomain\n",
    "\n",
    "\n",
    "#\n",
    "# Check if TLD is used in the link of website URL\n",
    "# Return: boolean\n",
    "#\n",
    "def check_tld_in_path(url: str):\n",
    "    return tldextract.extract(url).domain in urlsplit(url).path\n",
    "\n",
    "\n",
    "#\n",
    "# Check if HTTPS is disordered in the hostname of website URL\n",
    "# Return: boolean\n",
    "#\n",
    "def check_https_in_hostname(url: str):\n",
    "    return 'https' in urlsplit(url).netloc\n",
    "\n",
    "\n",
    "#\n",
    "# Length of hostname\n",
    "# Return: numeric\n",
    "#\n",
    "def get_hostname_length(url: str):\n",
    "    return len(urlsplit(url).netloc)\n",
    "\n",
    "\n",
    "#\n",
    "# Length of the link path\n",
    "# Return: numeric\n",
    "#\n",
    "def get_path_length(url: str):\n",
    "    return len(urlparse(url).path)\n",
    "\n",
    "\n",
    "#\n",
    "# Length of the query string\n",
    "# Return: numeric\n",
    "#\n",
    "def get_query_length(url):\n",
    "    return len(urlparse(url).query)\n",
    "\n",
    "\n",
    "#\n",
    "# There exists a slash '//' in the link path\n",
    "# Return: boolean\n",
    "#\n",
    "def check_double_slash_in_path(url: str):\n",
    "    return '//' in urlparse(url).path\n",
    "\n",
    "\n",
    "#\n",
    "# Compute the lexical features by URL\n",
    "# Return: Pandas.Series\n",
    "#\n",
    "def get_lexical_features(url, label):\n",
    "    if not url.startswith(('http://', 'https://', 'ftp://')):\n",
    "        url = 'http://' + url\n",
    "    return [\n",
    "        url,\n",
    "        count_dots(url),\n",
    "        count_subdomains(url),\n",
    "        get_path_level(url),\n",
    "        get_len(url),\n",
    "        count_dash(url),\n",
    "        check_at_symbol(url),\n",
    "        check_tilde_symbol(url),\n",
    "        count_underscore(url),\n",
    "        count_percent(url),\n",
    "        count_query_components(url),\n",
    "        count_ampersand(url),\n",
    "        count_hash(url),\n",
    "        count_digits(url),\n",
    "        check_Https(url),\n",
    "        check_IP_address(url),\n",
    "        check_tld_in_subdomain(url),\n",
    "        check_tld_in_path(url),\n",
    "        check_https_in_hostname(url),\n",
    "        get_hostname_length(url),\n",
    "        get_path_length(url),\n",
    "        get_query_length(url),\n",
    "        check_double_slash_in_path(url),\n",
    "        label\n",
    "    ]"
   ]
  },
  {
   "cell_type": "code",
   "execution_count": 51,
   "id": "e0485701",
   "metadata": {},
   "outputs": [],
   "source": [
    "data_features = pd.DataFrame({\n",
    "    'url':[],\n",
    "    'numDots':[],\n",
    "    'subdomainLevel':[],\n",
    "    'pathLevel':[],\n",
    "    'urlLength':[],\n",
    "    'numDash':[], \n",
    "    'atSymbol':[],\n",
    "    'tildeSymbol':[],\n",
    "    'numUnderscore':[],\n",
    "    'numPercent':[],\n",
    "    'numQueryComponents':[],\n",
    "    'numApersand':[],          \n",
    "    'numHash':[],\n",
    "    'numDigits':[],\n",
    "    'https':[],\n",
    "    'ipAddress':[], \n",
    "    'domainInSubdomains':[],\n",
    "    'domainInPaths':[],\n",
    "    'httpsInHostname':[],\n",
    "    'hostnameLength':[],\n",
    "    'pathLength':[],\n",
    "    'queryLength':[],\n",
    "    'doubleSlash':[],\n",
    "    'type': []\n",
    "})"
   ]
  },
  {
   "cell_type": "code",
   "execution_count": 52,
   "id": "3879eebb",
   "metadata": {},
   "outputs": [],
   "source": [
    "# for i in range(len(data)):\n",
    "#     url = data.loc[i, 'url']\n",
    "#     label = data.loc[i, 'type']\n",
    "#     if (i % 500 == 0):\n",
    "#         print('Rows processed: ',i)\n",
    "#     try:\n",
    "#         data_features.loc[i] = get_lexical_features(url, label)\n",
    "#     except Exception as e:\n",
    "#         print('>>>>>>> EXCEPTION: ',e)\n",
    "#         print('>>>>>>> EXCEPTION URL: ',url)\n",
    "#         print('>>>>>>> EXCEPTION INDEX: ',i)\n",
    "#         continue\n",
    "# data_features.to_csv('/content/urls_with_features.csv', index = False)"
   ]
  },
  {
   "cell_type": "markdown",
   "id": "3cefc117",
   "metadata": {},
   "source": [
    "**2) EXPLORATIVE DATA ANALYSIS**\n",
    "\n",
    "---\n"
   ]
  },
  {
   "cell_type": "code",
   "execution_count": 53,
   "id": "cb82d87d",
   "metadata": {},
   "outputs": [
    {
     "data": {
      "text/html": [
       "<div>\n",
       "<style scoped>\n",
       "    .dataframe tbody tr th:only-of-type {\n",
       "        vertical-align: middle;\n",
       "    }\n",
       "\n",
       "    .dataframe tbody tr th {\n",
       "        vertical-align: top;\n",
       "    }\n",
       "\n",
       "    .dataframe thead th {\n",
       "        text-align: right;\n",
       "    }\n",
       "</style>\n",
       "<table border=\"1\" class=\"dataframe\">\n",
       "  <thead>\n",
       "    <tr style=\"text-align: right;\">\n",
       "      <th></th>\n",
       "      <th>numDots</th>\n",
       "      <th>subdomainLevel</th>\n",
       "      <th>pathLevel</th>\n",
       "      <th>urlLength</th>\n",
       "      <th>numDash</th>\n",
       "      <th>numUnderscore</th>\n",
       "      <th>numPercent</th>\n",
       "      <th>numQueryComponents</th>\n",
       "      <th>numApersand</th>\n",
       "      <th>numHash</th>\n",
       "      <th>numDigits</th>\n",
       "      <th>hostnameLength</th>\n",
       "      <th>pathLength</th>\n",
       "      <th>queryLength</th>\n",
       "    </tr>\n",
       "  </thead>\n",
       "  <tbody>\n",
       "    <tr>\n",
       "      <th>count</th>\n",
       "      <td>20000.000000</td>\n",
       "      <td>20000.000000</td>\n",
       "      <td>20000.000000</td>\n",
       "      <td>20000.000000</td>\n",
       "      <td>20000.000000</td>\n",
       "      <td>20000.00000</td>\n",
       "      <td>20000.000000</td>\n",
       "      <td>20000.000000</td>\n",
       "      <td>20000.00000</td>\n",
       "      <td>20000.000000</td>\n",
       "      <td>20000.000000</td>\n",
       "      <td>20000.000000</td>\n",
       "      <td>20000.000000</td>\n",
       "      <td>20000.000000</td>\n",
       "    </tr>\n",
       "    <tr>\n",
       "      <th>mean</th>\n",
       "      <td>2.482300</td>\n",
       "      <td>0.491650</td>\n",
       "      <td>2.169350</td>\n",
       "      <td>70.553750</td>\n",
       "      <td>1.289450</td>\n",
       "      <td>0.48425</td>\n",
       "      <td>0.365150</td>\n",
       "      <td>0.668000</td>\n",
       "      <td>0.45590</td>\n",
       "      <td>0.000650</td>\n",
       "      <td>7.918400</td>\n",
       "      <td>17.517150</td>\n",
       "      <td>27.930800</td>\n",
       "      <td>17.603400</td>\n",
       "    </tr>\n",
       "    <tr>\n",
       "      <th>std</th>\n",
       "      <td>1.498532</td>\n",
       "      <td>0.908775</td>\n",
       "      <td>1.548383</td>\n",
       "      <td>71.897412</td>\n",
       "      <td>2.689336</td>\n",
       "      <td>1.51399</td>\n",
       "      <td>3.837832</td>\n",
       "      <td>1.563745</td>\n",
       "      <td>1.32153</td>\n",
       "      <td>0.029148</td>\n",
       "      <td>15.195482</td>\n",
       "      <td>10.205705</td>\n",
       "      <td>26.701628</td>\n",
       "      <td>67.855277</td>\n",
       "    </tr>\n",
       "    <tr>\n",
       "      <th>min</th>\n",
       "      <td>0.000000</td>\n",
       "      <td>0.000000</td>\n",
       "      <td>0.000000</td>\n",
       "      <td>13.000000</td>\n",
       "      <td>0.000000</td>\n",
       "      <td>0.00000</td>\n",
       "      <td>0.000000</td>\n",
       "      <td>0.000000</td>\n",
       "      <td>0.00000</td>\n",
       "      <td>0.000000</td>\n",
       "      <td>0.000000</td>\n",
       "      <td>4.000000</td>\n",
       "      <td>0.000000</td>\n",
       "      <td>0.000000</td>\n",
       "    </tr>\n",
       "    <tr>\n",
       "      <th>25%</th>\n",
       "      <td>1.000000</td>\n",
       "      <td>0.000000</td>\n",
       "      <td>1.000000</td>\n",
       "      <td>38.000000</td>\n",
       "      <td>0.000000</td>\n",
       "      <td>0.00000</td>\n",
       "      <td>0.000000</td>\n",
       "      <td>0.000000</td>\n",
       "      <td>0.00000</td>\n",
       "      <td>0.000000</td>\n",
       "      <td>0.000000</td>\n",
       "      <td>12.000000</td>\n",
       "      <td>10.000000</td>\n",
       "      <td>0.000000</td>\n",
       "    </tr>\n",
       "    <tr>\n",
       "      <th>50%</th>\n",
       "      <td>2.000000</td>\n",
       "      <td>0.000000</td>\n",
       "      <td>2.000000</td>\n",
       "      <td>53.000000</td>\n",
       "      <td>0.000000</td>\n",
       "      <td>0.00000</td>\n",
       "      <td>0.000000</td>\n",
       "      <td>0.000000</td>\n",
       "      <td>0.00000</td>\n",
       "      <td>0.000000</td>\n",
       "      <td>4.000000</td>\n",
       "      <td>16.000000</td>\n",
       "      <td>21.000000</td>\n",
       "      <td>0.000000</td>\n",
       "    </tr>\n",
       "    <tr>\n",
       "      <th>75%</th>\n",
       "      <td>3.000000</td>\n",
       "      <td>1.000000</td>\n",
       "      <td>3.000000</td>\n",
       "      <td>83.000000</td>\n",
       "      <td>1.000000</td>\n",
       "      <td>0.00000</td>\n",
       "      <td>0.000000</td>\n",
       "      <td>0.000000</td>\n",
       "      <td>0.00000</td>\n",
       "      <td>0.000000</td>\n",
       "      <td>10.000000</td>\n",
       "      <td>20.000000</td>\n",
       "      <td>37.000000</td>\n",
       "      <td>0.000000</td>\n",
       "    </tr>\n",
       "    <tr>\n",
       "      <th>max</th>\n",
       "      <td>25.000000</td>\n",
       "      <td>18.000000</td>\n",
       "      <td>18.000000</td>\n",
       "      <td>1424.000000</td>\n",
       "      <td>39.000000</td>\n",
       "      <td>20.00000</td>\n",
       "      <td>147.000000</td>\n",
       "      <td>28.000000</td>\n",
       "      <td>27.00000</td>\n",
       "      <td>2.000000</td>\n",
       "      <td>332.000000</td>\n",
       "      <td>244.000000</td>\n",
       "      <td>755.000000</td>\n",
       "      <td>1388.000000</td>\n",
       "    </tr>\n",
       "  </tbody>\n",
       "</table>\n",
       "</div>"
      ],
      "text/plain": [
       "            numDots  subdomainLevel     pathLevel     urlLength       numDash  \\\n",
       "count  20000.000000    20000.000000  20000.000000  20000.000000  20000.000000   \n",
       "mean       2.482300        0.491650      2.169350     70.553750      1.289450   \n",
       "std        1.498532        0.908775      1.548383     71.897412      2.689336   \n",
       "min        0.000000        0.000000      0.000000     13.000000      0.000000   \n",
       "25%        1.000000        0.000000      1.000000     38.000000      0.000000   \n",
       "50%        2.000000        0.000000      2.000000     53.000000      0.000000   \n",
       "75%        3.000000        1.000000      3.000000     83.000000      1.000000   \n",
       "max       25.000000       18.000000     18.000000   1424.000000     39.000000   \n",
       "\n",
       "       numUnderscore    numPercent  numQueryComponents  numApersand  \\\n",
       "count    20000.00000  20000.000000        20000.000000  20000.00000   \n",
       "mean         0.48425      0.365150            0.668000      0.45590   \n",
       "std          1.51399      3.837832            1.563745      1.32153   \n",
       "min          0.00000      0.000000            0.000000      0.00000   \n",
       "25%          0.00000      0.000000            0.000000      0.00000   \n",
       "50%          0.00000      0.000000            0.000000      0.00000   \n",
       "75%          0.00000      0.000000            0.000000      0.00000   \n",
       "max         20.00000    147.000000           28.000000     27.00000   \n",
       "\n",
       "            numHash     numDigits  hostnameLength    pathLength   queryLength  \n",
       "count  20000.000000  20000.000000    20000.000000  20000.000000  20000.000000  \n",
       "mean       0.000650      7.918400       17.517150     27.930800     17.603400  \n",
       "std        0.029148     15.195482       10.205705     26.701628     67.855277  \n",
       "min        0.000000      0.000000        4.000000      0.000000      0.000000  \n",
       "25%        0.000000      0.000000       12.000000     10.000000      0.000000  \n",
       "50%        0.000000      4.000000       16.000000     21.000000      0.000000  \n",
       "75%        0.000000     10.000000       20.000000     37.000000      0.000000  \n",
       "max        2.000000    332.000000      244.000000    755.000000   1388.000000  "
      ]
     },
     "execution_count": 53,
     "metadata": {},
     "output_type": "execute_result"
    }
   ],
   "source": [
    "data = pd.read_csv('datasets/urls_with_features.csv')\n",
    "data.describe()"
   ]
  },
  {
   "cell_type": "code",
   "execution_count": 54,
   "id": "b73ea77f",
   "metadata": {},
   "outputs": [
    {
     "data": {
      "text/plain": [
       "url                   False\n",
       "numDots               False\n",
       "subdomainLevel        False\n",
       "pathLevel             False\n",
       "urlLength             False\n",
       "numDash               False\n",
       "atSymbol              False\n",
       "tildeSymbol           False\n",
       "numUnderscore         False\n",
       "numPercent            False\n",
       "numQueryComponents    False\n",
       "numApersand           False\n",
       "numHash               False\n",
       "numDigits             False\n",
       "https                 False\n",
       "ipAddress             False\n",
       "domainInSubdomains    False\n",
       "domainInPaths         False\n",
       "httpsInHostname       False\n",
       "hostnameLength        False\n",
       "pathLength            False\n",
       "queryLength           False\n",
       "doubleSlash           False\n",
       "type                  False\n",
       "dtype: bool"
      ]
     },
     "execution_count": 54,
     "metadata": {},
     "output_type": "execute_result"
    }
   ],
   "source": [
    "# Null values check\n",
    "data.isnull().any()"
   ]
  },
  {
   "cell_type": "code",
   "execution_count": 55,
   "id": "fef7cb89",
   "metadata": {
    "scrolled": true
   },
   "outputs": [
    {
     "data": {
      "image/png": "[encoded data removed]",
      "text/plain": [
       "<Figure size 1296x1512 with 3 Axes>"
      ]
     },
     "metadata": {
      "needs_background": "light"
     },
     "output_type": "display_data"
    }
   ],
   "source": [
    "safe = data[data['type'] == 'benign']\n",
    "unsafe = data[data['type'] != 'benign']\n",
    "\n",
    "# Numerical features\n",
    "labels_x1 = ['numDots', 'subdomainLevel', 'pathLevel', 'numDash', 'numUnderscore', 'numPercent', 'numQueryComponents', 'numApersand', 'numHash']\n",
    "labels_x2 = ['urlLength', 'numDigits', 'hostnameLength', 'pathLength', 'queryLength']\n",
    "# Boolean features\n",
    "labels_x3 = ['atSymbol', 'tildeSymbol', 'https', 'ipAddress', 'domainInSubdomains', 'domainInPaths', 'httpsInHostname', 'doubleSlash']\n",
    "\n",
    "features_to_plot1 = {'Safe': [], 'Unsafe': []}\n",
    "features_to_plot2 = {'Safe': [], 'Unsafe': []}\n",
    "features_to_plot3 = {'Safe': [], 'Unsafe': []}\n",
    "\n",
    "for i in labels_x1:\n",
    "    features_to_plot1['Safe'].append(safe.loc[:, i].mean())\n",
    "    features_to_plot1['Unsafe'].append(unsafe.loc[:, i].mean())\n",
    "\n",
    "for i in labels_x2:\n",
    "    features_to_plot2['Safe'].append(safe.loc[:, i].mean())\n",
    "    features_to_plot2['Unsafe'].append(unsafe.loc[:, i].mean())\n",
    "\n",
    "for i in labels_x3:\n",
    "    features_to_plot3['Safe'].append(safe.loc[:, i].sum())\n",
    "    features_to_plot3['Unsafe'].append(unsafe.loc[:, i].sum())\n",
    "\n",
    "x1 = np.arange(len(labels_x1))  # the label locations\n",
    "x2 = np.arange(len(labels_x2))  # the label locations\n",
    "x3 = np.arange(len(labels_x3))  # the label locations\n",
    "width = 0.25  # the width of the bars\n",
    "multiplier = 0\n",
    "\n",
    "fig, ((ax1), (ax2), (ax3)) = plt.subplots(3, 1, figsize=(18, 21))\n",
    "\n",
    "for attribute, measurement in features_to_plot1.items():\n",
    "    offset = width * multiplier\n",
    "    rects = ax1.bar(x1 + offset, [round(i,3) for i in measurement], width, label = attribute, color = ['#8fce00' if attribute == 'Safe' else '#ff1100'])\n",
    "    ax1.bar_label(rects, padding = 3)\n",
    "    multiplier += 1\n",
    "ax1.set_ylabel('Mean values')\n",
    "ax1.set_title('Numerical features')\n",
    "ax1.set_xticks(x1 + (width / 2), labels_x1)\n",
    "ax1.legend(loc = 'upper right')\n",
    "\n",
    "for attribute, measurement in features_to_plot2.items():\n",
    "    offset = width * multiplier\n",
    "    rects = ax2.bar(x2 + offset, [round(i,3) for i in measurement], width, label = attribute, color = ['#8fce00' if attribute == 'Safe' else '#ff1100'])\n",
    "    ax2.bar_label(rects, padding = 3)\n",
    "    multiplier += 1\n",
    "ax2.set_ylabel('Mean values')\n",
    "ax2.set_title('Numerical features')\n",
    "ax2.set_xticks(x2 + (width*2.5), labels_x2)\n",
    "ax2.legend(loc = 'upper right')\n",
    "\n",
    "for attribute, measurement in features_to_plot3.items():\n",
    "    offset = width * multiplier\n",
    "    rects = ax3.bar(x3 + offset, [round(i,3) for i in measurement], width, label = attribute, color = ['#8fce00' if attribute == 'Safe' else '#ff1100'])\n",
    "    ax3.bar_label(rects, padding = 3)\n",
    "    multiplier += 1\n",
    "ax3.set_ylabel('Number of True values')\n",
    "ax3.set_title('Boolean features')\n",
    "ax3.set_xticks(x3 + (width*4.5), labels_x3)\n",
    "ax3.legend(loc = 'upper right')\n",
    "\n",
    "plt.tight_layout()\n",
    "plt.show()"
   ]
  },
  {
   "cell_type": "markdown",
   "id": "3c68b778",
   "metadata": {},
   "source": [
    "**3)REMOVING USELESS FEATURES**\n",
    "\n",
    "---"
   ]
  },
  {
   "cell_type": "markdown",
   "id": "bf393c4d",
   "metadata": {},
   "source": [
    "We remove features that are present in a limited number of examples"
   ]
  },
  {
   "cell_type": "code",
   "execution_count": 56,
   "id": "e605983f",
   "metadata": {},
   "outputs": [],
   "source": [
    "data = data.drop(['numHash', 'atSymbol', 'tildeSymbol', 'domainInSubdomains', 'domainInPaths', 'httpsInHostname', 'doubleSlash'], axis=1)\n",
    "url_strings = data['url']\n",
    "url_types = data['type']"
   ]
  },
  {
   "cell_type": "markdown",
   "id": "4f341eb3",
   "metadata": {},
   "source": [
    "Separate url strings and types from features used for classification"
   ]
  },
  {
   "cell_type": "code",
   "execution_count": 57,
   "id": "92dbf61d",
   "metadata": {},
   "outputs": [],
   "source": [
    "data = data.drop(['url','type'], axis=1)"
   ]
  },
  {
   "cell_type": "markdown",
   "id": "10b7430c",
   "metadata": {},
   "source": [
    "Convert boolean features to numeric features"
   ]
  },
  {
   "cell_type": "code",
   "execution_count": 58,
   "id": "67fa632b",
   "metadata": {},
   "outputs": [],
   "source": [
    "data.https = data.https.replace({True: 1, False: 0})\n",
    "data.ipAddress = data.ipAddress.replace({True: 1, False: 0})"
   ]
  },
  {
   "cell_type": "markdown",
   "id": "fd3eb4aa",
   "metadata": {},
   "source": [
    "Scaling values of training features"
   ]
  },
  {
   "cell_type": "code",
   "execution_count": 59,
   "id": "ab46fe16",
   "metadata": {},
   "outputs": [],
   "source": [
    "from sklearn.preprocessing import StandardScaler\n",
    "\n",
    "x = data.values\n",
    "\n",
    "# Standardizing the features\n",
    "x = StandardScaler().fit_transform(x)"
   ]
  },
  {
   "cell_type": "code",
   "execution_count": 60,
   "id": "a1ca41d7",
   "metadata": {},
   "outputs": [
    {
     "data": {
      "text/plain": [
       "(20000, 15)"
      ]
     },
     "execution_count": 60,
     "metadata": {},
     "output_type": "execute_result"
    }
   ],
   "source": [
    "x.shape"
   ]
  },
  {
   "cell_type": "markdown",
   "id": "892bc591",
   "metadata": {},
   "source": [
    "**4)PRINCIPAL COMPONENT ANALYSIS**\n",
    "\n",
    "---"
   ]
  },
  {
   "cell_type": "code",
   "execution_count": 61,
   "id": "19bdde3f",
   "metadata": {},
   "outputs": [],
   "source": [
    "from sklearn.decomposition import PCA"
   ]
  },
  {
   "cell_type": "code",
   "execution_count": 62,
   "id": "25cf59c5",
   "metadata": {},
   "outputs": [
    {
     "data": {
      "image/png": "[encoded data removed]",
      "text/plain": [
       "<Figure size 1008x576 with 1 Axes>"
      ]
     },
     "metadata": {
      "needs_background": "light"
     },
     "output_type": "display_data"
    }
   ],
   "source": [
    "# Create a PCA object and fit the data\n",
    "pca = PCA()\n",
    "pca.fit(x)\n",
    "\n",
    "# Plot the explained variance ratio for each component\n",
    "plt.plot(pca.explained_variance_ratio_)\n",
    "plt.xlabel('Number of components')\n",
    "plt.ylabel('Explained variance ratio')\n",
    "plt.show()"
   ]
  },
  {
   "cell_type": "code",
   "execution_count": 63,
   "id": "7f04cdfb",
   "metadata": {},
   "outputs": [],
   "source": [
    "pca = PCA(n_components = 14)\n",
    "features_x_pca = pca.fit_transform(x)"
   ]
  },
  {
   "cell_type": "code",
   "execution_count": 64,
   "id": "0cfd799a",
   "metadata": {},
   "outputs": [
    {
     "data": {
      "text/plain": [
       "(20000, 14)"
      ]
     },
     "execution_count": 64,
     "metadata": {},
     "output_type": "execute_result"
    }
   ],
   "source": [
    "features_x_pca.shape"
   ]
  },
  {
   "cell_type": "markdown",
   "id": "68673d34",
   "metadata": {},
   "source": [
    "**5)AUTOENCODER**\n",
    "\n",
    "---"
   ]
  },
  {
   "cell_type": "code",
   "execution_count": 65,
   "id": "67ee8388",
   "metadata": {},
   "outputs": [],
   "source": [
    "from keras.models import Model\n",
    "from keras.layers import Input, Dense\n"
   ]
  },
  {
   "cell_type": "code",
   "execution_count": 66,
   "id": "be149fbf",
   "metadata": {},
   "outputs": [
    {
     "name": "stdout",
     "output_type": "stream",
     "text": [
      "Model: \"model_1\"\n",
      "_________________________________________________________________\n",
      " Layer (type)                Output Shape              Param #   \n",
      "=================================================================\n",
      " input_7 (InputLayer)        [(None, 15)]              0         \n",
      "                                                                 \n",
      " dense_4 (Dense)             (None, 8)                 128       \n",
      "                                                                 \n",
      " dense_5 (Dense)             (None, 4)                 36        \n",
      "                                                                 \n",
      "=================================================================\n",
      "Total params: 164\n",
      "Trainable params: 164\n",
      "Non-trainable params: 0\n",
      "_________________________________________________________________\n"
     ]
    }
   ],
   "source": [
    "# definire il numero di colonne nel tuo dataset\n",
    "num_colonne = 15\n",
    "\n",
    "# definire l'input layer\n",
    "input_layer = Input(shape=(num_colonne,))\n",
    "\n",
    "# definire l'encoder layer\n",
    "encoder_layer = Dense(8, activation='relu')(input_layer)\n",
    "\n",
    "# definire l'output layer dell'encoder\n",
    "encoder_output = Dense(4, activation='relu')(encoder_layer)\n",
    "\n",
    "# definire il modello dell'encoder\n",
    "encoder = Model(inputs=input_layer, outputs=encoder_output)\n",
    "\n",
    "# compilare il modello dell'encoder\n",
    "encoder.compile(optimizer='adam', loss='mse')\n",
    "\n",
    "# visualizzare la struttura dell'encoder\n",
    "encoder.summary()"
   ]
  },
  {
   "cell_type": "code",
   "execution_count": 67,
   "id": "dbf6512a",
   "metadata": {},
   "outputs": [],
   "source": [
    "features_x_autoencoder = encoder.predict(x)"
   ]
  },
  {
   "cell_type": "code",
   "execution_count": 68,
   "id": "4cffc2ca",
   "metadata": {},
   "outputs": [
    {
     "data": {
      "text/plain": [
       "(20000, 4)"
      ]
     },
     "execution_count": 68,
     "metadata": {},
     "output_type": "execute_result"
    }
   ],
   "source": [
    "features_x_autoencoder.shape"
   ]
  },
  {
   "cell_type": "code",
   "execution_count": null,
   "id": "0e4089f0",
   "metadata": {},
   "outputs": [],
   "source": []
  }
 ],
 "metadata": {
  "kernelspec": {
   "display_name": "Python 3 (ipykernel)",
   "language": "python",
   "name": "python3"
  },
  "language_info": {
   "codemirror_mode": {
    "name": "ipython",
    "version": 3
   },
   "file_extension": ".py",
   "mimetype": "text/x-python",
   "name": "python",
   "nbconvert_exporter": "python",
   "pygments_lexer": "ipython3",
   "version": "3.10.4"
  }
 },
 "nbformat": 4,
 "nbformat_minor": 5
}
