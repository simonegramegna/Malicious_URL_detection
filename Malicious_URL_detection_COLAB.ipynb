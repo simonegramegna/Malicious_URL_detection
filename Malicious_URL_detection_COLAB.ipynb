{
 "cells": [
  {
   "cell_type": "markdown",
   "metadata": {
    "id": "FQ6dOsrRyGHf"
   },
   "source": [
    "#**1) PRE-PROCESSING**\n",
    "\n",
    "---\n",
    "\n"
   ]
  },
  {
   "cell_type": "code",
   "execution_count": 47,
   "metadata": {
    "colab": {
     "base_uri": "https://localhost:8080/"
    },
    "id": "j0THoGrCjX9O",
    "outputId": "e0a37e93-b404-4f7f-8266-f6a6beeb40a7"
   },
   "outputs": [
    {
     "name": "stdout",
     "output_type": "stream",
     "text": [
      "Requirement already satisfied: tldextract in c:\\users\\lenovo\\appdata\\local\\programs\\python\\python310\\lib\\site-packages (3.2.1)\n",
      "Requirement already satisfied: idna in c:\\users\\lenovo\\appdata\\local\\programs\\python\\python310\\lib\\site-packages (from tldextract) (3.3)\n",
      "Requirement already satisfied: requests>=2.1.0 in c:\\users\\lenovo\\appdata\\local\\programs\\python\\python310\\lib\\site-packages (from tldextract) (2.27.1)\n",
      "Requirement already satisfied: requests-file>=1.4 in c:\\users\\lenovo\\appdata\\local\\programs\\python\\python310\\lib\\site-packages (from tldextract) (1.5.1)\n",
      "Requirement already satisfied: filelock>=3.0.8 in c:\\users\\lenovo\\appdata\\local\\programs\\python\\python310\\lib\\site-packages (from tldextract) (3.6.0)\n",
      "Requirement already satisfied: urllib3<1.27,>=1.21.1 in c:\\users\\lenovo\\appdata\\local\\programs\\python\\python310\\lib\\site-packages (from requests>=2.1.0->tldextract) (1.26.9)\n",
      "Requirement already satisfied: certifi>=2017.4.17 in c:\\users\\lenovo\\appdata\\local\\programs\\python\\python310\\lib\\site-packages (from requests>=2.1.0->tldextract) (2021.10.8)\n",
      "Requirement already satisfied: charset-normalizer~=2.0.0 in c:\\users\\lenovo\\appdata\\local\\programs\\python\\python310\\lib\\site-packages (from requests>=2.1.0->tldextract) (2.0.12)\n",
      "Requirement already satisfied: six in c:\\users\\lenovo\\appdata\\local\\programs\\python\\python310\\lib\\site-packages (from requests-file>=1.4->tldextract) (1.16.0)\n"
     ]
    }
   ],
   "source": [
    "!pip install tldextract"
   ]
  },
  {
   "cell_type": "code",
   "execution_count": 75,
   "metadata": {
    "id": "hMK3m2yNwxbV"
   },
   "outputs": [],
   "source": [
    "import warnings\n",
    "warnings.filterwarnings('ignore')\n",
    "import pandas as pd\n",
    "import numpy as np\n",
    "import random\n",
    "\n",
    "# Graphics Libs\n",
    "import matplotlib.pyplot as plt\n",
    "%matplotlib inline\n",
    "plt.rcParams['figure.figsize'] = 18, 8\n",
    "import seaborn as sns\n",
    "\n",
    "# Feature extraction Libs\n",
    "import requests\n",
    "from urllib.parse import urlparse, urlsplit\n",
    "import tldextract\n",
    "from sklearn.preprocessing import MinMaxScaler\n",
    "from sklearn.decomposition import PCA\n",
    "\n",
    "# Models and utils\n",
    "from sklearn.model_selection import train_test_split\n",
    "from sklearn.ensemble import AdaBoostClassifier, RandomForestClassifier\n",
    "from sklearn.svm import SVC\n",
    "from sklearn.metrics import accuracy_score, classification_report, confusion_matrix\n",
    "from sklearn.model_selection import RandomizedSearchCV\n",
    "from sklearn.model_selection import GridSearchCV\n",
    "\n",
    "# Keras library for autoencoder\n",
    "from tensorflow.keras.models import Model\n",
    "from tensorflow.keras.layers import Input, Dense, LeakyReLU, BatchNormalization\n",
    "from tensorflow.keras.utils import plot_model\n",
    "\n",
    "# Pytorch library for neural network\n",
    "import torch\n",
    "from torch import nn, optim\n",
    "import torch.nn.functional as F\n",
    "device = \"cuda\" if torch.cuda.is_available() else \"cpu\""
   ]
  },
  {
   "cell_type": "code",
   "execution_count": 76,
   "metadata": {
    "colab": {
     "base_uri": "https://localhost:8080/",
     "height": 175
    },
    "id": "8_Qf72WjyVUa",
    "outputId": "41634563-cc82-465c-ff19-8ce216e71b47"
   },
   "outputs": [
    {
     "data": {
      "text/html": [
       "<div>\n",
       "<style scoped>\n",
       "    .dataframe tbody tr th:only-of-type {\n",
       "        vertical-align: middle;\n",
       "    }\n",
       "\n",
       "    .dataframe tbody tr th {\n",
       "        vertical-align: top;\n",
       "    }\n",
       "\n",
       "    .dataframe thead th {\n",
       "        text-align: right;\n",
       "    }\n",
       "</style>\n",
       "<table border=\"1\" class=\"dataframe\">\n",
       "  <thead>\n",
       "    <tr style=\"text-align: right;\">\n",
       "      <th></th>\n",
       "      <th>url</th>\n",
       "      <th>type</th>\n",
       "    </tr>\n",
       "  </thead>\n",
       "  <tbody>\n",
       "    <tr>\n",
       "      <th>count</th>\n",
       "      <td>663191</td>\n",
       "      <td>663191</td>\n",
       "    </tr>\n",
       "    <tr>\n",
       "      <th>unique</th>\n",
       "      <td>653040</td>\n",
       "      <td>5</td>\n",
       "    </tr>\n",
       "    <tr>\n",
       "      <th>top</th>\n",
       "      <td>http://style.org.hc360.com/css/detail/mysite/s...</td>\n",
       "      <td>benign</td>\n",
       "    </tr>\n",
       "    <tr>\n",
       "      <th>freq</th>\n",
       "      <td>180</td>\n",
       "      <td>428103</td>\n",
       "    </tr>\n",
       "  </tbody>\n",
       "</table>\n",
       "</div>"
      ],
      "text/plain": [
       "                                                      url    type\n",
       "count                                              663191  663191\n",
       "unique                                             653040       5\n",
       "top     http://style.org.hc360.com/css/detail/mysite/s...  benign\n",
       "freq                                                  180  428103"
      ]
     },
     "execution_count": 76,
     "metadata": {},
     "output_type": "execute_result"
    }
   ],
   "source": [
    "DATA_PATH = 'datasets/malicious_urls.csv'\n",
    "data = pd.read_csv(DATA_PATH)\n",
    "data.describe()"
   ]
  },
  {
   "cell_type": "code",
   "execution_count": 77,
   "metadata": {
    "colab": {
     "base_uri": "https://localhost:8080/",
     "height": 175
    },
    "id": "zg3xznubK_Ag",
    "outputId": "ca6ed818-14f1-4768-c095-353e02162903"
   },
   "outputs": [
    {
     "data": {
      "text/html": [
       "<div>\n",
       "<style scoped>\n",
       "    .dataframe tbody tr th:only-of-type {\n",
       "        vertical-align: middle;\n",
       "    }\n",
       "\n",
       "    .dataframe tbody tr th {\n",
       "        vertical-align: top;\n",
       "    }\n",
       "\n",
       "    .dataframe thead th {\n",
       "        text-align: right;\n",
       "    }\n",
       "</style>\n",
       "<table border=\"1\" class=\"dataframe\">\n",
       "  <thead>\n",
       "    <tr style=\"text-align: right;\">\n",
       "      <th></th>\n",
       "      <th>url</th>\n",
       "      <th>type</th>\n",
       "    </tr>\n",
       "  </thead>\n",
       "  <tbody>\n",
       "    <tr>\n",
       "      <th>count</th>\n",
       "      <td>653040</td>\n",
       "      <td>653040</td>\n",
       "    </tr>\n",
       "    <tr>\n",
       "      <th>unique</th>\n",
       "      <td>653040</td>\n",
       "      <td>5</td>\n",
       "    </tr>\n",
       "    <tr>\n",
       "      <th>top</th>\n",
       "      <td>br-icloud.com.br</td>\n",
       "      <td>benign</td>\n",
       "    </tr>\n",
       "    <tr>\n",
       "      <th>freq</th>\n",
       "      <td>1</td>\n",
       "      <td>428080</td>\n",
       "    </tr>\n",
       "  </tbody>\n",
       "</table>\n",
       "</div>"
      ],
      "text/plain": [
       "                     url    type\n",
       "count             653040  653040\n",
       "unique            653040       5\n",
       "top     br-icloud.com.br  benign\n",
       "freq                   1  428080"
      ]
     },
     "execution_count": 77,
     "metadata": {},
     "output_type": "execute_result"
    }
   ],
   "source": [
    "# Removing duplicates\n",
    "data = data.drop_duplicates(subset='url')\n",
    "data.describe()"
   ]
  },
  {
   "cell_type": "code",
   "execution_count": 78,
   "metadata": {
    "colab": {
     "base_uri": "https://localhost:8080/",
     "height": 424
    },
    "id": "dyb-StbL0PmM",
    "outputId": "fae91bc7-87d3-4bde-8947-7790ed44fd2a"
   },
   "outputs": [
    {
     "data": {
      "text/html": [
       "<div>\n",
       "<style scoped>\n",
       "    .dataframe tbody tr th:only-of-type {\n",
       "        vertical-align: middle;\n",
       "    }\n",
       "\n",
       "    .dataframe tbody tr th {\n",
       "        vertical-align: top;\n",
       "    }\n",
       "\n",
       "    .dataframe thead th {\n",
       "        text-align: right;\n",
       "    }\n",
       "</style>\n",
       "<table border=\"1\" class=\"dataframe\">\n",
       "  <thead>\n",
       "    <tr style=\"text-align: right;\">\n",
       "      <th></th>\n",
       "      <th>url</th>\n",
       "      <th>type</th>\n",
       "    </tr>\n",
       "  </thead>\n",
       "  <tbody>\n",
       "    <tr>\n",
       "      <th>0</th>\n",
       "      <td>br-icloud.com.br</td>\n",
       "      <td>phishing</td>\n",
       "    </tr>\n",
       "    <tr>\n",
       "      <th>1</th>\n",
       "      <td>mp3raid.com/music/krizz_kaliko.html</td>\n",
       "      <td>benign</td>\n",
       "    </tr>\n",
       "    <tr>\n",
       "      <th>2</th>\n",
       "      <td>bopsecrets.org/rexroth/cr/1.htm</td>\n",
       "      <td>benign</td>\n",
       "    </tr>\n",
       "    <tr>\n",
       "      <th>3</th>\n",
       "      <td>http://www.garage-pirenne.be/index.php?option=...</td>\n",
       "      <td>defacement</td>\n",
       "    </tr>\n",
       "    <tr>\n",
       "      <th>4</th>\n",
       "      <td>http://adventure-nicaragua.net/index.php?optio...</td>\n",
       "      <td>defacement</td>\n",
       "    </tr>\n",
       "    <tr>\n",
       "      <th>...</th>\n",
       "      <td>...</td>\n",
       "      <td>...</td>\n",
       "    </tr>\n",
       "    <tr>\n",
       "      <th>663186</th>\n",
       "      <td>http://archive.salisburyjournal.co.uk/2001/3/7/</td>\n",
       "      <td>spam</td>\n",
       "    </tr>\n",
       "    <tr>\n",
       "      <th>663187</th>\n",
       "      <td>http://astore.amazon.co.uk/allezvinsfrenchr/de...</td>\n",
       "      <td>spam</td>\n",
       "    </tr>\n",
       "    <tr>\n",
       "      <th>663188</th>\n",
       "      <td>http://archive.thisischeshire.co.uk/2000/1/14/...</td>\n",
       "      <td>spam</td>\n",
       "    </tr>\n",
       "    <tr>\n",
       "      <th>663189</th>\n",
       "      <td>http://applerugs.co.uk/rugs/product_info.php?p...</td>\n",
       "      <td>spam</td>\n",
       "    </tr>\n",
       "    <tr>\n",
       "      <th>663190</th>\n",
       "      <td>http://allgirltogaparty.co.uk/gallery2/main.ph...</td>\n",
       "      <td>spam</td>\n",
       "    </tr>\n",
       "  </tbody>\n",
       "</table>\n",
       "<p>653040 rows × 2 columns</p>\n",
       "</div>"
      ],
      "text/plain": [
       "                                                      url        type\n",
       "0                                        br-icloud.com.br    phishing\n",
       "1                     mp3raid.com/music/krizz_kaliko.html      benign\n",
       "2                         bopsecrets.org/rexroth/cr/1.htm      benign\n",
       "3       http://www.garage-pirenne.be/index.php?option=...  defacement\n",
       "4       http://adventure-nicaragua.net/index.php?optio...  defacement\n",
       "...                                                   ...         ...\n",
       "663186    http://archive.salisburyjournal.co.uk/2001/3/7/        spam\n",
       "663187  http://astore.amazon.co.uk/allezvinsfrenchr/de...        spam\n",
       "663188  http://archive.thisischeshire.co.uk/2000/1/14/...        spam\n",
       "663189  http://applerugs.co.uk/rugs/product_info.php?p...        spam\n",
       "663190  http://allgirltogaparty.co.uk/gallery2/main.ph...        spam\n",
       "\n",
       "[653040 rows x 2 columns]"
      ]
     },
     "execution_count": 78,
     "metadata": {},
     "output_type": "execute_result"
    }
   ],
   "source": [
    "data"
   ]
  },
  {
   "cell_type": "code",
   "execution_count": 79,
   "metadata": {
    "colab": {
     "base_uri": "https://localhost:8080/",
     "height": 615
    },
    "id": "SOV-NQ-X7GHv",
    "outputId": "0c2a50f6-0f6f-49ef-a1f9-56d4864a2da0"
   },
   "outputs": [
    {
     "data": {
      "image/png": "[encoded data removed]",
      "text/plain": [
       "<Figure size 1296x576 with 1 Axes>"
      ]
     },
     "metadata": {
      "needs_background": "light"
     },
     "output_type": "display_data"
    }
   ],
   "source": [
    "count = data.type.value_counts()\n",
    "bar_labels = [count.index[i].capitalize()+' (n. ' + str(count[i]) + ')' for i in range(len(count.index))]\n",
    "bars = plt.bar(count.index, height=count, label=bar_labels, color=['#8fce00', '#0092ff', '#ff8200', '#ff1100', '#ffcd34'])\n",
    "\n",
    "for rect in bars:\n",
    "    height = rect.get_height()\n",
    "    plt.text(rect.get_x() + rect.get_width() / 2.0, height, f'{height:.0f} ({height/len(data)*100:.2f}%)', ha='center', va='bottom')\n",
    "\n",
    "plt.xlabel('LABELS', labelpad=20)\n",
    "plt.ylabel('COUNT', labelpad=20)\n",
    "plt.title('EXPLORING DATASET')\n",
    "plt.legend()\n",
    "plt.show()"
   ]
  },
  {
   "cell_type": "code",
   "execution_count": 80,
   "metadata": {
    "colab": {
     "base_uri": "https://localhost:8080/",
     "height": 615
    },
    "id": "AahlIETemeYj",
    "outputId": "4d4c3b49-0a79-4842-ec66-7b0ba011edeb"
   },
   "outputs": [
    {
     "data": {
      "image/png": "[encoded data removed]",
      "text/plain": [
       "<Figure size 1296x576 with 1 Axes>"
      ]
     },
     "metadata": {
      "needs_background": "light"
     },
     "output_type": "display_data"
    }
   ],
   "source": [
    "benign = count[0]\n",
    "malicious = len(data) - benign\n",
    "bar_labels = ['Benign (n.'+str(benign)+')', 'Malicious (n.'+str(malicious)+')']\n",
    "bars = plt.bar(['benign', 'malicious'], height=[benign, malicious], label=bar_labels, color=['#8fce00', '#ff1100'])\n",
    "\n",
    "for rect in bars:\n",
    "    height = rect.get_height()\n",
    "    plt.text(rect.get_x() + rect.get_width() / 2.0, height, f'{height:.0f} ({height/len(data)*100:.2f}%)', ha='center', va='bottom')\n",
    "\n",
    "plt.xlabel('CLASSES', labelpad=20)\n",
    "plt.ylabel('COUNT', labelpad=20)\n",
    "plt.title('EXPLORING DATASET')\n",
    "plt.legend()\n",
    "plt.show()"
   ]
  },
  {
   "cell_type": "code",
   "execution_count": 54,
   "metadata": {
    "id": "fl_80_0WSv4m"
   },
   "outputs": [],
   "source": [
    "benign_urls = data[data['type'] == 'benign']\n",
    "defacement_urls = data[data['type'] == 'defacement']\n",
    "phishing_urls = data[data['type'] == 'phishing']\n",
    "malware_urls = data[data['type'] == 'malware']\n",
    "spam_urls = data[data['type'] == 'spam']\n",
    "\n",
    "benign_urls_sample = random.sample(list(benign_urls.index), 10000)\n",
    "defacement_urls_sample = random.sample(list(defacement_urls.index), 2500)\n",
    "phishing_urls_sample = random.sample(list(phishing_urls.index), 2500)\n",
    "malware_urls_sample = random.sample(list(malware_urls.index), 2500)\n",
    "spam_urls_sample = random.sample(list(spam_urls.index), 2500)\n",
    "\n",
    "selected_indexes = benign_urls_sample + defacement_urls_sample + phishing_urls_sample + malware_urls_sample + spam_urls_sample\n",
    "random.shuffle(selected_indexes)\n",
    "data_sampled = data.loc[selected_indexes]\n",
    "data_sampled = data_sampled.reset_index(drop=True)"
   ]
  },
  {
   "cell_type": "code",
   "execution_count": 55,
   "metadata": {
    "colab": {
     "base_uri": "https://localhost:8080/",
     "height": 175
    },
    "id": "XNkRP4x9RR_r",
    "outputId": "ef0c21e9-b451-4a66-c2b6-efee5b2c8531"
   },
   "outputs": [
    {
     "data": {
      "text/html": [
       "<div>\n",
       "<style scoped>\n",
       "    .dataframe tbody tr th:only-of-type {\n",
       "        vertical-align: middle;\n",
       "    }\n",
       "\n",
       "    .dataframe tbody tr th {\n",
       "        vertical-align: top;\n",
       "    }\n",
       "\n",
       "    .dataframe thead th {\n",
       "        text-align: right;\n",
       "    }\n",
       "</style>\n",
       "<table border=\"1\" class=\"dataframe\">\n",
       "  <thead>\n",
       "    <tr style=\"text-align: right;\">\n",
       "      <th></th>\n",
       "      <th>url</th>\n",
       "      <th>type</th>\n",
       "    </tr>\n",
       "  </thead>\n",
       "  <tbody>\n",
       "    <tr>\n",
       "      <th>count</th>\n",
       "      <td>20000</td>\n",
       "      <td>20000</td>\n",
       "    </tr>\n",
       "    <tr>\n",
       "      <th>unique</th>\n",
       "      <td>20000</td>\n",
       "      <td>5</td>\n",
       "    </tr>\n",
       "    <tr>\n",
       "      <th>top</th>\n",
       "      <td>www.w3.org/TR/css3-roadmap/</td>\n",
       "      <td>benign</td>\n",
       "    </tr>\n",
       "    <tr>\n",
       "      <th>freq</th>\n",
       "      <td>1</td>\n",
       "      <td>10000</td>\n",
       "    </tr>\n",
       "  </tbody>\n",
       "</table>\n",
       "</div>"
      ],
      "text/plain": [
       "                                url    type\n",
       "count                         20000   20000\n",
       "unique                        20000       5\n",
       "top     www.w3.org/TR/css3-roadmap/  benign\n",
       "freq                              1   10000"
      ]
     },
     "execution_count": 55,
     "metadata": {},
     "output_type": "execute_result"
    }
   ],
   "source": [
    "data_sampled.describe()"
   ]
  },
  {
   "cell_type": "code",
   "execution_count": 56,
   "metadata": {
    "colab": {
     "base_uri": "https://localhost:8080/",
     "height": 619
    },
    "id": "K1uV6jZMRzvb",
    "outputId": "a9ecc938-aae8-441d-a1eb-491c8cf52cae"
   },
   "outputs": [
    {
     "data": {
      "image/png": "[encoded data removed]",
      "text/plain": [
       "<Figure size 1296x576 with 1 Axes>"
      ]
     },
     "metadata": {
      "needs_background": "light"
     },
     "output_type": "display_data"
    }
   ],
   "source": [
    "count = data_sampled.type.value_counts()\n",
    "bar_labels = [count.index[i].capitalize()+' (n. ' + str(count[i]) + ')' for i in range(len(count.index))]\n",
    "bars = plt.bar(count.index, height=count, label=bar_labels, color=['#8fce00', '#0092ff', '#ff8200', '#ff1100', '#ffcd34'])\n",
    "\n",
    "for rect in bars:\n",
    "    height = rect.get_height()\n",
    "    plt.text(rect.get_x() + rect.get_width() / 2.0, height, f'{height:.0f} ({height/len(data_sampled)*100:.2f}%)', ha='center', va='bottom')\n",
    "\n",
    "plt.xlabel('LABELS', labelpad=20)\n",
    "plt.ylabel('COUNT', labelpad=20)\n",
    "plt.title('EXPLORING BALANCED DATASET')\n",
    "plt.legend()\n",
    "plt.show()"
   ]
  },
  {
   "cell_type": "code",
   "execution_count": 57,
   "metadata": {
    "colab": {
     "base_uri": "https://localhost:8080/",
     "height": 619
    },
    "id": "31titqmmR_on",
    "outputId": "76dde962-ddb5-4a58-d73a-e1bc60d4e755"
   },
   "outputs": [
    {
     "data": {
      "image/png": "[encoded data removed]",
      "text/plain": [
       "<Figure size 1296x576 with 1 Axes>"
      ]
     },
     "metadata": {
      "needs_background": "light"
     },
     "output_type": "display_data"
    }
   ],
   "source": [
    "benign = count[0]\n",
    "malicious = len(data_sampled) - benign\n",
    "bar_labels = ['Benign (n.'+str(benign)+')', 'Malicious (n.'+str(malicious)+')']\n",
    "bars = plt.bar(['benign', 'malicious'], height=[benign, malicious], label=bar_labels, color=['#8fce00', '#ff1100'])\n",
    "\n",
    "for rect in bars:\n",
    "    height = rect.get_height()\n",
    "    plt.text(rect.get_x() + rect.get_width() / 2.0, height, f'{height:.0f} ({height/len(data_sampled)*100:.2f}%)', ha='center', va='bottom')\n",
    "\n",
    "plt.xlabel('CLASSES', labelpad=20)\n",
    "plt.ylabel('COUNT', labelpad=20)\n",
    "plt.title('EXPLORING DATASET')\n",
    "plt.show()"
   ]
  },
  {
   "cell_type": "code",
   "execution_count": 58,
   "metadata": {
    "colab": {
     "base_uri": "https://localhost:8080/",
     "height": 175
    },
    "id": "MMsgSS9ySY-I",
    "outputId": "27e8b1f0-d16b-45de-e4a4-478624044959"
   },
   "outputs": [
    {
     "data": {
      "text/html": [
       "<div>\n",
       "<style scoped>\n",
       "    .dataframe tbody tr th:only-of-type {\n",
       "        vertical-align: middle;\n",
       "    }\n",
       "\n",
       "    .dataframe tbody tr th {\n",
       "        vertical-align: top;\n",
       "    }\n",
       "\n",
       "    .dataframe thead th {\n",
       "        text-align: right;\n",
       "    }\n",
       "</style>\n",
       "<table border=\"1\" class=\"dataframe\">\n",
       "  <thead>\n",
       "    <tr style=\"text-align: right;\">\n",
       "      <th></th>\n",
       "      <th>url</th>\n",
       "      <th>type</th>\n",
       "    </tr>\n",
       "  </thead>\n",
       "  <tbody>\n",
       "    <tr>\n",
       "      <th>count</th>\n",
       "      <td>20000</td>\n",
       "      <td>20000</td>\n",
       "    </tr>\n",
       "    <tr>\n",
       "      <th>unique</th>\n",
       "      <td>20000</td>\n",
       "      <td>5</td>\n",
       "    </tr>\n",
       "    <tr>\n",
       "      <th>top</th>\n",
       "      <td>http://173.15.162.156:4755/Mozi.m</td>\n",
       "      <td>benign</td>\n",
       "    </tr>\n",
       "    <tr>\n",
       "      <th>freq</th>\n",
       "      <td>1</td>\n",
       "      <td>10000</td>\n",
       "    </tr>\n",
       "  </tbody>\n",
       "</table>\n",
       "</div>"
      ],
      "text/plain": [
       "                                      url    type\n",
       "count                               20000   20000\n",
       "unique                              20000       5\n",
       "top     http://173.15.162.156:4755/Mozi.m  benign\n",
       "freq                                    1   10000"
      ]
     },
     "execution_count": 58,
     "metadata": {},
     "output_type": "execute_result"
    }
   ],
   "source": [
    "#file_path = '/content/urls_sampled.csv'\n",
    "#data_sampled.to_csv(file_path, index=False)\n",
    "data = pd.read_csv('datasets/urls_sampled.csv')\n",
    "data.describe()"
   ]
  },
  {
   "cell_type": "markdown",
   "metadata": {
    "id": "9_IJyGOCyWMV"
   },
   "source": [
    "#**2) FEATURES ENGINEERING**\n",
    "\n",
    "---\n",
    "\n"
   ]
  },
  {
   "cell_type": "code",
   "execution_count": 59,
   "metadata": {
    "id": "nTe2PME4ycoF"
   },
   "outputs": [],
   "source": [
    "#\n",
    "# Number of character '.' in URL\n",
    "# Return: numeric\n",
    "#\n",
    "def count_dots(url: str):\n",
    "    return url.count('.')\n",
    "\n",
    "\n",
    "#\n",
    "# Number of subdomain levels\n",
    "# Return: numeric\n",
    "#\n",
    "def count_subdomains(url: str):\n",
    "    subdomain = tldextract.extract(url).subdomain\n",
    "    return len(subdomain.split('.')) if len(subdomain) != 0 else 0\n",
    "\n",
    "\n",
    "#\n",
    "# The depth of URL\n",
    "# Return: numeric\n",
    "#\n",
    "def get_path_level(url: str):\n",
    "    path = urlsplit(url).path\n",
    "    path = path[1:] if len(path) > 0 and path[0] == '/' else path\n",
    "    path = path[:-1] if len(path) > 0 and path[-1] == '/' else path\n",
    "    return len(path.split('/')) if len(path) > 0 else 0\n",
    "\n",
    "\n",
    "#\n",
    "# The length of URL\n",
    "# Return: numeric\n",
    "#\n",
    "def get_len(url: str):\n",
    "    return len(url)\n",
    "\n",
    "\n",
    "#\n",
    "# Number of the dash character '-' in URL\n",
    "# Return: numeric\n",
    "#\n",
    "def count_dash(url: str):\n",
    "    return url.count('-')\n",
    "\n",
    "\n",
    "#\n",
    "# There exists a character '@' in URL\n",
    "# Return: boolean\n",
    "#\n",
    "def check_at_symbol(url: str):\n",
    "    return '@' in url\n",
    "\n",
    "\n",
    "#\n",
    "# There exists a character '~' in URL\n",
    "# Return: boolean\n",
    "#\n",
    "def check_tilde_symbol(url: str):\n",
    "    return '~' in url\n",
    "\n",
    "\n",
    "#\n",
    "# Number of the underscore character '_' in URL\n",
    "# Return: numeric\n",
    "#\n",
    "def count_underscore(url: str):\n",
    "    return url.count('_')\n",
    "\n",
    "\n",
    "#\n",
    "# Number of the percent character '%' in URL\n",
    "# Return: numeric\n",
    "#\n",
    "def count_percent(url: str):\n",
    "    return url.count('%')\n",
    "\n",
    "\n",
    "#\n",
    "# Number of the query components\n",
    "# Return: numeric\n",
    "#\n",
    "def count_query_components(url: str):\n",
    "    query_components = urlparse(url).query.split(\"&\") if len(urlparse(url).query) > 0 else ''\n",
    "    return len(query_components)\n",
    "\n",
    "\n",
    "#\n",
    "# Number of the ampersand character '&' in URL\n",
    "# Return: numeric\n",
    "#\n",
    "def count_ampersand(url: str):\n",
    "    return url.count('&')\n",
    "\n",
    "\n",
    "#\n",
    "# Number of the hash character '#' in URL\n",
    "# Return: numeric\n",
    "#\n",
    "def count_hash(url: str):\n",
    "    return url.count('#')\n",
    "\n",
    "\n",
    "#\n",
    "# Number of the numeric character\n",
    "# Return: numeric\n",
    "#\n",
    "def count_digits(url: str):\n",
    "    return sum(c.isdigit() for c in url)\n",
    "\n",
    "\n",
    "#\n",
    "# Check if there exists a HTTPS in website URL\n",
    "# Return: boolean\n",
    "#\n",
    "def check_Https(url: str):\n",
    "    try:\n",
    "        req = requests.get(url, timeout=1).url\n",
    "        return req.startswith('https')\n",
    "    except Exception as e:\n",
    "        return False\n",
    "\n",
    "\n",
    "#\n",
    "# Check if the IP address is used in the hostname of the website URL\n",
    "# Return: boolean\n",
    "#\n",
    "def check_IP_address(url: str):\n",
    "    return not bool(sum(not c.isdigit() and c != '.' for c in tldextract.extract(url).domain))\n",
    "\n",
    "\n",
    "#\n",
    "# Check if TLD is used as a part of the subdomain in website URL\n",
    "# Return: boolean\n",
    "#\n",
    "def check_tld_in_subdomain(url: str):\n",
    "    res = tldextract.extract(url)\n",
    "    return res.domain in res.subdomain\n",
    "\n",
    "\n",
    "#\n",
    "# Check if TLD is used in the link of website URL\n",
    "# Return: boolean\n",
    "#\n",
    "def check_tld_in_path(url: str):\n",
    "    return tldextract.extract(url).domain in urlsplit(url).path\n",
    "\n",
    "\n",
    "#\n",
    "# Check if HTTPS is disordered in the hostname of website URL\n",
    "# Return: boolean\n",
    "#\n",
    "def check_https_in_hostname(url: str):\n",
    "    return 'https' in urlsplit(url).netloc\n",
    "\n",
    "\n",
    "#\n",
    "# Length of hostname\n",
    "# Return: numeric\n",
    "#\n",
    "def get_hostname_length(url: str):\n",
    "    return len(urlsplit(url).netloc)\n",
    "\n",
    "\n",
    "#\n",
    "# Length of the link path\n",
    "# Return: numeric\n",
    "#\n",
    "def get_path_length(url: str):\n",
    "    return len(urlparse(url).path)\n",
    "\n",
    "\n",
    "#\n",
    "# Length of the query string\n",
    "# Return: numeric\n",
    "#\n",
    "def get_query_length(url):\n",
    "    return len(urlparse(url).query)\n",
    "\n",
    "\n",
    "#\n",
    "# There exists a slash '//' in the link path\n",
    "# Return: boolean\n",
    "#\n",
    "def check_double_slash_in_path(url: str):\n",
    "    return '//' in urlparse(url).path\n",
    "\n",
    "\n",
    "#\n",
    "# Compute the lexical features by URL\n",
    "# Return: Pandas.Series\n",
    "#\n",
    "def get_lexical_features(url, label):\n",
    "    if not url.startswith(('http://', 'https://', 'ftp://')):\n",
    "        url = 'http://' + url\n",
    "    return [\n",
    "        url,\n",
    "        count_dots(url),\n",
    "        count_subdomains(url),\n",
    "        get_path_level(url),\n",
    "        get_len(url),\n",
    "        count_dash(url),\n",
    "        check_at_symbol(url),\n",
    "        check_tilde_symbol(url),\n",
    "        count_underscore(url),\n",
    "        count_percent(url),\n",
    "        count_query_components(url),\n",
    "        count_ampersand(url),\n",
    "        count_hash(url),\n",
    "        count_digits(url),\n",
    "        check_Https(url),\n",
    "        check_IP_address(url),\n",
    "        check_tld_in_subdomain(url),\n",
    "        check_tld_in_path(url),\n",
    "        check_https_in_hostname(url),\n",
    "        get_hostname_length(url),\n",
    "        get_path_length(url),\n",
    "        get_query_length(url),\n",
    "        check_double_slash_in_path(url),\n",
    "        label\n",
    "    ]"
   ]
  },
  {
   "cell_type": "code",
   "execution_count": 60,
   "metadata": {
    "id": "PNBiTDPpdYe9"
   },
   "outputs": [],
   "source": [
    "data_features = pd.DataFrame({\n",
    "    'url':[],\n",
    "    'numDots':[],\n",
    "    'subdomainLevel':[],\n",
    "    'pathLevel':[],\n",
    "    'urlLength':[],\n",
    "    'numDash':[], \n",
    "    'atSymbol':[],\n",
    "    'tildeSymbol':[],\n",
    "    'numUnderscore':[],\n",
    "    'numPercent':[],\n",
    "    'numQueryComponents':[],\n",
    "    'numApersand':[],          \n",
    "    'numHash':[],\n",
    "    'numDigits':[],\n",
    "    'https':[],\n",
    "    'ipAddress':[], \n",
    "    'domainInSubdomains':[],\n",
    "    'domainInPaths':[],\n",
    "    'httpsInHostname':[],\n",
    "    'hostnameLength':[],\n",
    "    'pathLength':[],\n",
    "    'queryLength':[],\n",
    "    'doubleSlash':[],\n",
    "    'type': []\n",
    "})"
   ]
  },
  {
   "cell_type": "code",
   "execution_count": 61,
   "metadata": {
    "id": "T2dB_V8QkVot"
   },
   "outputs": [],
   "source": [
    "# for i in range(len(data)):\n",
    "#     url = data.loc[i, 'url']\n",
    "#     label = data.loc[i, 'type']\n",
    "#     if (i % 1000 == 0):\n",
    "#         print('Rows processed: ',i)\n",
    "#     try:\n",
    "#         data_features.loc[i] = get_lexical_features(url, label)\n",
    "#     except Exception as e:\n",
    "#         print('\\n')\n",
    "#         print(e)\n",
    "#         print('url: ',url)\n",
    "#         print('index: ',i)\n",
    "#         continue\n",
    "# data_features.to_csv('/content/urls_with_features.csv', index = False)"
   ]
  },
  {
   "cell_type": "markdown",
   "metadata": {
    "id": "bsNop2ZoydGH"
   },
   "source": [
    "#**3) EXPLORATIVE DATA ANALYSIS**\n",
    "\n",
    "---\n",
    "\n"
   ]
  },
  {
   "cell_type": "code",
   "execution_count": 62,
   "metadata": {
    "colab": {
     "base_uri": "https://localhost:8080/",
     "height": 364
    },
    "id": "fSLAyKr2k9kp",
    "outputId": "d5ae4cb1-7f70-4675-b9c7-dc320f67a6f3"
   },
   "outputs": [
    {
     "data": {
      "text/html": [
       "<div>\n",
       "<style scoped>\n",
       "    .dataframe tbody tr th:only-of-type {\n",
       "        vertical-align: middle;\n",
       "    }\n",
       "\n",
       "    .dataframe tbody tr th {\n",
       "        vertical-align: top;\n",
       "    }\n",
       "\n",
       "    .dataframe thead th {\n",
       "        text-align: right;\n",
       "    }\n",
       "</style>\n",
       "<table border=\"1\" class=\"dataframe\">\n",
       "  <thead>\n",
       "    <tr style=\"text-align: right;\">\n",
       "      <th></th>\n",
       "      <th>numDots</th>\n",
       "      <th>subdomainLevel</th>\n",
       "      <th>pathLevel</th>\n",
       "      <th>urlLength</th>\n",
       "      <th>numDash</th>\n",
       "      <th>numUnderscore</th>\n",
       "      <th>numPercent</th>\n",
       "      <th>numQueryComponents</th>\n",
       "      <th>numApersand</th>\n",
       "      <th>numHash</th>\n",
       "      <th>numDigits</th>\n",
       "      <th>hostnameLength</th>\n",
       "      <th>pathLength</th>\n",
       "      <th>queryLength</th>\n",
       "    </tr>\n",
       "  </thead>\n",
       "  <tbody>\n",
       "    <tr>\n",
       "      <th>count</th>\n",
       "      <td>20000.000000</td>\n",
       "      <td>20000.000000</td>\n",
       "      <td>20000.000000</td>\n",
       "      <td>20000.000000</td>\n",
       "      <td>20000.000000</td>\n",
       "      <td>20000.00000</td>\n",
       "      <td>20000.000000</td>\n",
       "      <td>20000.000000</td>\n",
       "      <td>20000.00000</td>\n",
       "      <td>20000.000000</td>\n",
       "      <td>20000.000000</td>\n",
       "      <td>20000.000000</td>\n",
       "      <td>20000.000000</td>\n",
       "      <td>20000.000000</td>\n",
       "    </tr>\n",
       "    <tr>\n",
       "      <th>mean</th>\n",
       "      <td>2.482300</td>\n",
       "      <td>0.491650</td>\n",
       "      <td>2.169350</td>\n",
       "      <td>70.553750</td>\n",
       "      <td>1.289450</td>\n",
       "      <td>0.48425</td>\n",
       "      <td>0.365150</td>\n",
       "      <td>0.668000</td>\n",
       "      <td>0.45590</td>\n",
       "      <td>0.000650</td>\n",
       "      <td>7.918400</td>\n",
       "      <td>17.517150</td>\n",
       "      <td>27.930800</td>\n",
       "      <td>17.603400</td>\n",
       "    </tr>\n",
       "    <tr>\n",
       "      <th>std</th>\n",
       "      <td>1.498532</td>\n",
       "      <td>0.908775</td>\n",
       "      <td>1.548383</td>\n",
       "      <td>71.897412</td>\n",
       "      <td>2.689336</td>\n",
       "      <td>1.51399</td>\n",
       "      <td>3.837832</td>\n",
       "      <td>1.563745</td>\n",
       "      <td>1.32153</td>\n",
       "      <td>0.029148</td>\n",
       "      <td>15.195482</td>\n",
       "      <td>10.205705</td>\n",
       "      <td>26.701628</td>\n",
       "      <td>67.855277</td>\n",
       "    </tr>\n",
       "    <tr>\n",
       "      <th>min</th>\n",
       "      <td>0.000000</td>\n",
       "      <td>0.000000</td>\n",
       "      <td>0.000000</td>\n",
       "      <td>13.000000</td>\n",
       "      <td>0.000000</td>\n",
       "      <td>0.00000</td>\n",
       "      <td>0.000000</td>\n",
       "      <td>0.000000</td>\n",
       "      <td>0.00000</td>\n",
       "      <td>0.000000</td>\n",
       "      <td>0.000000</td>\n",
       "      <td>4.000000</td>\n",
       "      <td>0.000000</td>\n",
       "      <td>0.000000</td>\n",
       "    </tr>\n",
       "    <tr>\n",
       "      <th>25%</th>\n",
       "      <td>1.000000</td>\n",
       "      <td>0.000000</td>\n",
       "      <td>1.000000</td>\n",
       "      <td>38.000000</td>\n",
       "      <td>0.000000</td>\n",
       "      <td>0.00000</td>\n",
       "      <td>0.000000</td>\n",
       "      <td>0.000000</td>\n",
       "      <td>0.00000</td>\n",
       "      <td>0.000000</td>\n",
       "      <td>0.000000</td>\n",
       "      <td>12.000000</td>\n",
       "      <td>10.000000</td>\n",
       "      <td>0.000000</td>\n",
       "    </tr>\n",
       "    <tr>\n",
       "      <th>50%</th>\n",
       "      <td>2.000000</td>\n",
       "      <td>0.000000</td>\n",
       "      <td>2.000000</td>\n",
       "      <td>53.000000</td>\n",
       "      <td>0.000000</td>\n",
       "      <td>0.00000</td>\n",
       "      <td>0.000000</td>\n",
       "      <td>0.000000</td>\n",
       "      <td>0.00000</td>\n",
       "      <td>0.000000</td>\n",
       "      <td>4.000000</td>\n",
       "      <td>16.000000</td>\n",
       "      <td>21.000000</td>\n",
       "      <td>0.000000</td>\n",
       "    </tr>\n",
       "    <tr>\n",
       "      <th>75%</th>\n",
       "      <td>3.000000</td>\n",
       "      <td>1.000000</td>\n",
       "      <td>3.000000</td>\n",
       "      <td>83.000000</td>\n",
       "      <td>1.000000</td>\n",
       "      <td>0.00000</td>\n",
       "      <td>0.000000</td>\n",
       "      <td>0.000000</td>\n",
       "      <td>0.00000</td>\n",
       "      <td>0.000000</td>\n",
       "      <td>10.000000</td>\n",
       "      <td>20.000000</td>\n",
       "      <td>37.000000</td>\n",
       "      <td>0.000000</td>\n",
       "    </tr>\n",
       "    <tr>\n",
       "      <th>max</th>\n",
       "      <td>25.000000</td>\n",
       "      <td>18.000000</td>\n",
       "      <td>18.000000</td>\n",
       "      <td>1424.000000</td>\n",
       "      <td>39.000000</td>\n",
       "      <td>20.00000</td>\n",
       "      <td>147.000000</td>\n",
       "      <td>28.000000</td>\n",
       "      <td>27.00000</td>\n",
       "      <td>2.000000</td>\n",
       "      <td>332.000000</td>\n",
       "      <td>244.000000</td>\n",
       "      <td>755.000000</td>\n",
       "      <td>1388.000000</td>\n",
       "    </tr>\n",
       "  </tbody>\n",
       "</table>\n",
       "</div>"
      ],
      "text/plain": [
       "            numDots  subdomainLevel     pathLevel     urlLength       numDash  \\\n",
       "count  20000.000000    20000.000000  20000.000000  20000.000000  20000.000000   \n",
       "mean       2.482300        0.491650      2.169350     70.553750      1.289450   \n",
       "std        1.498532        0.908775      1.548383     71.897412      2.689336   \n",
       "min        0.000000        0.000000      0.000000     13.000000      0.000000   \n",
       "25%        1.000000        0.000000      1.000000     38.000000      0.000000   \n",
       "50%        2.000000        0.000000      2.000000     53.000000      0.000000   \n",
       "75%        3.000000        1.000000      3.000000     83.000000      1.000000   \n",
       "max       25.000000       18.000000     18.000000   1424.000000     39.000000   \n",
       "\n",
       "       numUnderscore    numPercent  numQueryComponents  numApersand  \\\n",
       "count    20000.00000  20000.000000        20000.000000  20000.00000   \n",
       "mean         0.48425      0.365150            0.668000      0.45590   \n",
       "std          1.51399      3.837832            1.563745      1.32153   \n",
       "min          0.00000      0.000000            0.000000      0.00000   \n",
       "25%          0.00000      0.000000            0.000000      0.00000   \n",
       "50%          0.00000      0.000000            0.000000      0.00000   \n",
       "75%          0.00000      0.000000            0.000000      0.00000   \n",
       "max         20.00000    147.000000           28.000000     27.00000   \n",
       "\n",
       "            numHash     numDigits  hostnameLength    pathLength   queryLength  \n",
       "count  20000.000000  20000.000000    20000.000000  20000.000000  20000.000000  \n",
       "mean       0.000650      7.918400       17.517150     27.930800     17.603400  \n",
       "std        0.029148     15.195482       10.205705     26.701628     67.855277  \n",
       "min        0.000000      0.000000        4.000000      0.000000      0.000000  \n",
       "25%        0.000000      0.000000       12.000000     10.000000      0.000000  \n",
       "50%        0.000000      4.000000       16.000000     21.000000      0.000000  \n",
       "75%        0.000000     10.000000       20.000000     37.000000      0.000000  \n",
       "max        2.000000    332.000000      244.000000    755.000000   1388.000000  "
      ]
     },
     "execution_count": 62,
     "metadata": {},
     "output_type": "execute_result"
    }
   ],
   "source": [
    "DATA_PATH = 'datasets/urls_with_features.csv'\n",
    "data = pd.read_csv(DATA_PATH)\n",
    "data.describe()"
   ]
  },
  {
   "cell_type": "code",
   "execution_count": 63,
   "metadata": {
    "colab": {
     "base_uri": "https://localhost:8080/"
    },
    "id": "OgJFYS8Wyw3l",
    "outputId": "b25798ea-b472-467c-df4c-3bc2dcbdc562"
   },
   "outputs": [
    {
     "data": {
      "text/plain": [
       "url                   False\n",
       "numDots               False\n",
       "subdomainLevel        False\n",
       "pathLevel             False\n",
       "urlLength             False\n",
       "numDash               False\n",
       "atSymbol              False\n",
       "tildeSymbol           False\n",
       "numUnderscore         False\n",
       "numPercent            False\n",
       "numQueryComponents    False\n",
       "numApersand           False\n",
       "numHash               False\n",
       "numDigits             False\n",
       "https                 False\n",
       "ipAddress             False\n",
       "domainInSubdomains    False\n",
       "domainInPaths         False\n",
       "httpsInHostname       False\n",
       "hostnameLength        False\n",
       "pathLength            False\n",
       "queryLength           False\n",
       "doubleSlash           False\n",
       "type                  False\n",
       "dtype: bool"
      ]
     },
     "execution_count": 63,
     "metadata": {},
     "output_type": "execute_result"
    }
   ],
   "source": [
    "# Null values check\n",
    "data.isnull().any()"
   ]
  },
  {
   "cell_type": "code",
   "execution_count": 64,
   "metadata": {
    "colab": {
     "base_uri": "https://localhost:8080/",
     "height": 1000
    },
    "id": "bwZRU2xvkM2g",
    "outputId": "a7da6730-f9b3-4d9e-ea26-2882229ed578"
   },
   "outputs": [
    {
     "data": {
      "image/png": "[encoded data removed]",
      "text/plain": [
       "<Figure size 1296x1512 with 3 Axes>"
      ]
     },
     "metadata": {
      "needs_background": "light"
     },
     "output_type": "display_data"
    }
   ],
   "source": [
    "safe = data[data['type'] == 'benign']\n",
    "unsafe = data[data['type'] != 'benign']\n",
    "\n",
    "# Numerical features\n",
    "labels_x1 = ['numDots', 'subdomainLevel', 'pathLevel', 'numDash', 'numUnderscore', 'numPercent', 'numQueryComponents', 'numApersand', 'numHash']\n",
    "labels_x2 = ['urlLength', 'numDigits', 'hostnameLength', 'pathLength', 'queryLength']\n",
    "# Boolean features\n",
    "labels_x3 = ['atSymbol', 'tildeSymbol', 'https', 'ipAddress', 'domainInSubdomains', 'domainInPaths', 'httpsInHostname', 'doubleSlash']\n",
    "\n",
    "features_to_plot1 = {'Safe': [], 'Unsafe': []}\n",
    "features_to_plot2 = {'Safe': [], 'Unsafe': []}\n",
    "features_to_plot3 = {'Safe': [], 'Unsafe': []}\n",
    "\n",
    "for i in labels_x1:\n",
    "    features_to_plot1['Safe'].append(safe.loc[:, i].mean())\n",
    "    features_to_plot1['Unsafe'].append(unsafe.loc[:, i].mean())\n",
    "\n",
    "for i in labels_x2:\n",
    "    features_to_plot2['Safe'].append(safe.loc[:, i].mean())\n",
    "    features_to_plot2['Unsafe'].append(unsafe.loc[:, i].mean())\n",
    "\n",
    "for i in labels_x3:\n",
    "    features_to_plot3['Safe'].append(safe.loc[:, i].sum())\n",
    "    features_to_plot3['Unsafe'].append(unsafe.loc[:, i].sum())\n",
    "\n",
    "x1 = np.arange(len(labels_x1))  # the label locations\n",
    "x2 = np.arange(len(labels_x2))  # the label locations\n",
    "x3 = np.arange(len(labels_x3))  # the label locations\n",
    "width = 0.25  # the width of the bars\n",
    "multiplier = 0\n",
    "\n",
    "fig, ((ax1), (ax2), (ax3)) = plt.subplots(3, 1, figsize=(18, 21))\n",
    "\n",
    "for attribute, measurement in features_to_plot1.items():\n",
    "    offset = width * multiplier\n",
    "    rects = ax1.bar(x1 + offset, [round(i,3) for i in measurement], width, label = attribute, color = ['#8fce00' if attribute == 'Safe' else '#ff1100'])\n",
    "    ax1.bar_label(rects, padding = 3)\n",
    "    multiplier += 1\n",
    "ax1.set_ylabel('Mean values')\n",
    "ax1.set_title('Numerical features')\n",
    "ax1.set_xticks(x1 + (width/2), labels_x1)\n",
    "ax1.legend(loc = 'upper right', ncol = 2)\n",
    "\n",
    "for attribute, measurement in features_to_plot2.items():\n",
    "    offset = width * multiplier\n",
    "    rects = ax2.bar(x2 + offset, [round(i,3) for i in measurement], width, label = attribute, color = ['#8fce00' if attribute == 'Safe' else '#ff1100'])\n",
    "    ax2.bar_label(rects, padding = 3)\n",
    "    multiplier += 1\n",
    "ax2.set_ylabel('Mean values')\n",
    "ax2.set_title('Numerical features')\n",
    "ax2.set_xticks(x2 + (width*2.5), labels_x2)\n",
    "ax2.legend(loc = 'upper right', ncol = 2)\n",
    "\n",
    "for attribute, measurement in features_to_plot3.items():\n",
    "    offset = width * multiplier\n",
    "    rects = ax3.bar(x3 + offset, [round(i,3) for i in measurement], width, label = attribute, color = ['#8fce00' if attribute == 'Safe' else '#ff1100'])\n",
    "    ax3.bar_label(rects, padding = 3)\n",
    "    multiplier += 1\n",
    "ax3.set_ylabel('Number of True values')\n",
    "ax3.set_title('Boolean features')\n",
    "ax3.set_xticks(x3 + (width*4.5), labels_x3)\n",
    "ax3.legend(loc = 'upper right', ncol = 2)\n",
    "\n",
    "plt.tight_layout()\n",
    "plt.show()"
   ]
  },
  {
   "cell_type": "code",
   "execution_count": 65,
   "metadata": {
    "colab": {
     "base_uri": "https://localhost:8080/",
     "height": 738
    },
    "id": "Yiq8afENy0qi",
    "outputId": "2fe1bbc4-6e18-4b83-979c-175babea26ff"
   },
   "outputs": [
    {
     "data": {
      "image/png": "[encoded data removed]",
      "text/plain": [
       "<Figure size 1296x576 with 2 Axes>"
      ]
     },
     "metadata": {
      "needs_background": "light"
     },
     "output_type": "display_data"
    }
   ],
   "source": [
    "plt.figure()\n",
    "sns.heatmap(data.corr(), linewidths=.5)\n",
    "plt.show()"
   ]
  },
  {
   "cell_type": "markdown",
   "metadata": {},
   "source": [
    "### Function to split dataset ###"
   ]
  },
  {
   "cell_type": "code",
   "execution_count": 66,
   "metadata": {},
   "outputs": [],
   "source": [
    "def get_data_split(X, y, isScaled=False, isTensor=False, fSelection=[]):\n",
    "\n",
    "    if len(fSelection) > 0:\n",
    "        X = X[fSelection]\n",
    "    \n",
    "    if isScaled:\n",
    "        scaler = MinMaxScaler()\n",
    "        X_scal = X\n",
    "        for c in X_scal:\n",
    "            if c != 'ipAddress' or c != 'https':\n",
    "                X_scal[[c]] = scaler.fit_transform(X_scal[[c]])\n",
    "        X = X_scal\n",
    "\n",
    "    X_train, X_test, y_train, y_test = train_test_split(\n",
    "                                            X.values.astype('float64'),\n",
    "                                            y.values.astype('float64'),\n",
    "                                            train_size = .8,\n",
    "                                            test_size = .2,\n",
    "                                            random_state = 2,\n",
    "                                            shuffle = True,\n",
    "                                            stratify = y)\n",
    "\n",
    "    if isTensor:\n",
    "        X_train = torch.tensor(data = X_train, dtype=torch.float32)\n",
    "        X_test = torch.tensor(data = X_test, dtype=torch.float32)\n",
    "        y_train = torch.tensor(data = y_train.squeeze(), dtype=torch.float32)\n",
    "        y_test = torch.tensor(data = y_test.squeeze(), dtype=torch.float32)\n",
    "        if torch.cuda.is_available():\n",
    "            X_train = X_train.cuda()\n",
    "            X_test = X_test.cuda()\n",
    "            y_train = y_train.cuda()\n",
    "            y_test = y_test.cuda()\n",
    "\n",
    "    return X_train, X_test, y_train, y_test"
   ]
  },
  {
   "cell_type": "markdown",
   "metadata": {
    "id": "H5lOkjI6gz1I"
   },
   "source": [
    "#**4) FEATURES SELECTION**\n",
    "\n",
    "---\n",
    "\n"
   ]
  },
  {
   "cell_type": "code",
   "execution_count": 67,
   "metadata": {
    "id": "IFOpx5cjg3ri"
   },
   "outputs": [],
   "source": [
    "selected_features = ['numDots', 'subdomainLevel', 'pathLevel', 'urlLength', 'numDash',\n",
    "       'numUnderscore', 'numPercent', 'numQueryComponents', 'numApersand', 'numDigits', 'https',\n",
    "       'ipAddress', 'hostnameLength', 'pathLength', 'queryLength']\n",
    "\n",
    "X = data[selected_features]\n",
    "X.https = X.https.replace({True: 1, False: 0})\n",
    "X.ipAddress = X.ipAddress.replace({True: 1, False: 0})\n",
    "\n",
    "y = data[['type']]\n",
    "y.loc[y['type'] != 'benign', 'type'] = 1\n",
    "y.loc[y['type'] == 'benign', 'type'] = 0"
   ]
  },
  {
   "cell_type": "markdown",
   "metadata": {},
   "source": [
    "#**4.1) PRINCIPAL COMPONENT ANALYSIS (PCA)**\n",
    "\n",
    "---"
   ]
  },
  {
   "cell_type": "code",
   "execution_count": 68,
   "metadata": {},
   "outputs": [
    {
     "data": {
      "image/png": "[encoded data removed]",
      "text/plain": [
       "<Figure size 1296x576 with 1 Axes>"
      ]
     },
     "metadata": {
      "needs_background": "light"
     },
     "output_type": "display_data"
    }
   ],
   "source": [
    "# Create a PCA object and fit the data\n",
    "pca = PCA()\n",
    "pca.fit(X)\n",
    "\n",
    "# Plot the explained variance ratio for each component\n",
    "plt.plot(pca.explained_variance_ratio_)\n",
    "plt.xlabel('Number of components')\n",
    "plt.ylabel('Explained variance ratio')\n",
    "plt.show()"
   ]
  },
  {
   "cell_type": "code",
   "execution_count": 69,
   "metadata": {},
   "outputs": [],
   "source": [
    "def get_pca_features(components: int):\n",
    "    pca = PCA(n_components = components)\n",
    "    return pca.fit_transform(X.values)"
   ]
  },
  {
   "cell_type": "markdown",
   "metadata": {},
   "source": [
    "#**4.2) AUTOENCODER**\n",
    "\n",
    "---"
   ]
  },
  {
   "cell_type": "code",
   "execution_count": 73,
   "metadata": {},
   "outputs": [
    {
     "data": {
      "text/plain": [
       "15"
      ]
     },
     "execution_count": 73,
     "metadata": {},
     "output_type": "execute_result"
    }
   ],
   "source": [
    "n_inputs = X.values.shape[1]\n",
    "n_inputs"
   ]
  },
  {
   "cell_type": "code",
   "execution_count": 83,
   "metadata": {},
   "outputs": [],
   "source": [
    "X_train, X_test, y_train, y_test = get_data_split(X, y)\n",
    "\n",
    "# Scaling data\n",
    "scaler = MinMaxScaler()\n",
    "scaler.fit(X_train)\n",
    "X_train = scaler.transform(X_train)\n",
    "X_test = scaler.transform(X_test)"
   ]
  },
  {
   "cell_type": "code",
   "execution_count": 84,
   "metadata": {},
   "outputs": [],
   "source": [
    "# Define autoencoder\n",
    "visible = Input(shape = (n_inputs,))\n",
    "\n",
    "#Define Encoder\n",
    "#level 1\n",
    "e = Dense(n_inputs*2)(visible) # e = encoder\n",
    "e = BatchNormalization()(e)\n",
    "e = LeakyReLU()(e)\n",
    "\n",
    "# level 2 \n",
    "e = Dense(n_inputs)(e)\n",
    "e = BatchNormalization()(e)\n",
    "e = LeakyReLU()(e)\n",
    "\n",
    "#Bottleneck \n",
    "n_bottleneck = round(float(n_inputs)/2.0)\n",
    "bottleneck = Dense(n_bottleneck)(e)\n",
    "\n",
    "# Define Decoder\n",
    "#level 1\n",
    "d = Dense(n_inputs)(bottleneck) # d = dencoder\n",
    "d = BatchNormalization()(d)\n",
    "d = LeakyReLU()(d)\n",
    "\n",
    "#level 2\n",
    "d = Dense(n_inputs*2)(d) # d = dencoder\n",
    "d = BatchNormalization()(d)\n",
    "d = LeakyReLU()(d)\n",
    "\n",
    "#Output layer\n",
    "output = Dense(n_inputs, activation = 'linear')(d)\n",
    "\n",
    "#Define autoencoder model\n",
    "model = Model(inputs = visible, outputs = output)\n",
    "\n",
    "#compile autoencoder\n",
    "model.compile(optimizer = 'adam', loss = 'mse')"
   ]
  },
  {
   "cell_type": "code",
   "execution_count": 88,
   "metadata": {},
   "outputs": [
    {
     "name": "stdout",
     "output_type": "stream",
     "text": [
      "Epoch 1/20\n",
      "1000/1000 - 5s - loss: 4.9949e-04 - val_loss: 2.6794e-04 - 5s/epoch - 5ms/step\n",
      "Epoch 2/20\n",
      "1000/1000 - 5s - loss: 5.0727e-04 - val_loss: 3.4464e-04 - 5s/epoch - 5ms/step\n",
      "Epoch 3/20\n",
      "1000/1000 - 5s - loss: 4.9538e-04 - val_loss: 3.7115e-04 - 5s/epoch - 5ms/step\n",
      "Epoch 4/20\n",
      "1000/1000 - 4s - loss: 4.8197e-04 - val_loss: 4.4398e-04 - 4s/epoch - 4ms/step\n",
      "Epoch 5/20\n",
      "1000/1000 - 6s - loss: 4.8542e-04 - val_loss: 3.3853e-04 - 6s/epoch - 6ms/step\n",
      "Epoch 6/20\n",
      "1000/1000 - 6s - loss: 5.3749e-04 - val_loss: 3.3512e-04 - 6s/epoch - 6ms/step\n",
      "Epoch 7/20\n",
      "1000/1000 - 5s - loss: 4.8396e-04 - val_loss: 3.4165e-04 - 5s/epoch - 5ms/step\n",
      "Epoch 8/20\n",
      "1000/1000 - 6s - loss: 4.7024e-04 - val_loss: 2.9646e-04 - 6s/epoch - 6ms/step\n",
      "Epoch 9/20\n",
      "1000/1000 - 5s - loss: 5.3663e-04 - val_loss: 3.3231e-04 - 5s/epoch - 5ms/step\n",
      "Epoch 10/20\n",
      "1000/1000 - 6s - loss: 5.6125e-04 - val_loss: 3.0934e-04 - 6s/epoch - 6ms/step\n",
      "Epoch 11/20\n",
      "1000/1000 - 6s - loss: 4.8783e-04 - val_loss: 2.6978e-04 - 6s/epoch - 6ms/step\n",
      "Epoch 12/20\n",
      "1000/1000 - 5s - loss: 4.8161e-04 - val_loss: 2.8530e-04 - 5s/epoch - 5ms/step\n",
      "Epoch 13/20\n",
      "1000/1000 - 6s - loss: 4.9009e-04 - val_loss: 2.7395e-04 - 6s/epoch - 6ms/step\n",
      "Epoch 14/20\n",
      "1000/1000 - 6s - loss: 4.7092e-04 - val_loss: 3.2754e-04 - 6s/epoch - 6ms/step\n",
      "Epoch 15/20\n",
      "1000/1000 - 6s - loss: 4.8479e-04 - val_loss: 6.6545e-04 - 6s/epoch - 6ms/step\n",
      "Epoch 16/20\n",
      "1000/1000 - 6s - loss: 4.6712e-04 - val_loss: 2.9163e-04 - 6s/epoch - 6ms/step\n",
      "Epoch 17/20\n",
      "1000/1000 - 6s - loss: 4.6678e-04 - val_loss: 3.7037e-04 - 6s/epoch - 6ms/step\n",
      "Epoch 18/20\n",
      "1000/1000 - 6s - loss: 4.6976e-04 - val_loss: 3.1421e-04 - 6s/epoch - 6ms/step\n",
      "Epoch 19/20\n",
      "1000/1000 - 5s - loss: 5.0975e-04 - val_loss: 3.5270e-04 - 5s/epoch - 5ms/step\n",
      "Epoch 20/20\n",
      "1000/1000 - 6s - loss: 4.6348e-04 - val_loss: 3.6559e-04 - 6s/epoch - 6ms/step\n"
     ]
    }
   ],
   "source": [
    "# Fit the autoencoder model to reconstruct input\n",
    "history = model.fit(X_train, X_train, epochs = 20, batch_size = 16, verbose = 2, validation_data = (X_test,X_test))"
   ]
  },
  {
   "cell_type": "code",
   "execution_count": 87,
   "metadata": {},
   "outputs": [
    {
     "data": {
      "image/png": "[encoded data removed]",
      "text/plain": [
       "<Figure size 720x360 with 1 Axes>"
      ]
     },
     "metadata": {
      "needs_background": "light"
     },
     "output_type": "display_data"
    }
   ],
   "source": [
    "#Plot Loss\n",
    "fig, ax = plt.subplots(figsize=(10,5)) \n",
    "plt.plot(history.history['loss'], label = 'train')\n",
    "plt.plot(history.history['val_loss'], label = 'test')\n",
    "plt.title('Autoencoder loss')\n",
    "plt.xlabel('Epochs')\n",
    "plt.ylabel('Loss')\n",
    "plt.legend()\n",
    "plt.savefig('Autoencoderloss.png')"
   ]
  },
  {
   "cell_type": "code",
   "execution_count": 90,
   "metadata": {},
   "outputs": [],
   "source": [
    "#Define an encoder model without the decoder\n",
    "encoder = Model(inputs =visible, outputs = bottleneck)\n",
    "\n",
    "# encode the  data\n",
    "X_train_encode = encoder.predict(X_train)\n",
    "X_test_encode = encoder.predict(X_test)"
   ]
  },
  {
   "cell_type": "code",
   "execution_count": 91,
   "metadata": {},
   "outputs": [
    {
     "data": {
      "text/plain": [
       "(16000, 8)"
      ]
     },
     "execution_count": 91,
     "metadata": {},
     "output_type": "execute_result"
    }
   ],
   "source": [
    "X_train_encode.shape"
   ]
  },
  {
   "cell_type": "markdown",
   "metadata": {
    "id": "8d_EaYrnyxKh"
   },
   "source": [
    "#**5) MODELS DEFINITION**\n",
    "\n",
    "---\n",
    "\n"
   ]
  },
  {
   "cell_type": "markdown",
   "metadata": {
    "id": "iAoQpoqm0jew"
   },
   "source": [
    "## **Modello 1 | Support Vector Machine**"
   ]
  },
  {
   "cell_type": "code",
   "execution_count": null,
   "metadata": {
    "id": "TLxN_C3X0qw7"
   },
   "outputs": [],
   "source": [
    "X_train, X_test, y_train, y_test = get_data_split(X, y)\n",
    "svc = SVC(kernel='rbf')\n",
    "svc.fit(X_train, y_train)\n",
    "pred = svc.predict(X_test)\n",
    "acc = accuracy_score(pred, y_test)"
   ]
  },
  {
   "cell_type": "code",
   "execution_count": null,
   "metadata": {},
   "outputs": [],
   "source": [
    "print(f'Test Accuracy :\\033[32m \\033[01m {acc*100:.2f}% \\033[30m \\033[0m \\n')\n",
    "print(classification_report(y_test, pred, target_names=['safe_URL', 'unsafe_URL']))"
   ]
  },
  {
   "cell_type": "markdown",
   "metadata": {
    "id": "e4umtvME0rEq"
   },
   "source": [
    "## **Modello 2 | AdaBoost**"
   ]
  },
  {
   "cell_type": "code",
   "execution_count": null,
   "metadata": {
    "id": "jd9ATCgw0xHi"
   },
   "outputs": [],
   "source": [
    "X_train, X_test, y_train, y_test = get_data_split(X, y)\n",
    "adaboost = AdaBoostClassifier()\n",
    "adaboost.fit(X_train, y_train)\n",
    "pred = adaboost.predict(X_test)\n",
    "acc = accuracy_score(pred, y_test)"
   ]
  },
  {
   "cell_type": "code",
   "execution_count": null,
   "metadata": {},
   "outputs": [],
   "source": [
    "print(f'Test Accuracy :\\033[32m \\033[01m {acc*100:.2f}% \\033[30m \\033[0m \\n')\n",
    "print(classification_report(y_test, pred, target_names=['safe_URL', 'unsafe_URL']))"
   ]
  },
  {
   "cell_type": "code",
   "execution_count": null,
   "metadata": {},
   "outputs": [],
   "source": [
    "feat_importances = pd.Series(adaboost.feature_importances_, index=X.columns)\n",
    "feat_importances.sort_values().plot(kind='barh')\n",
    "plt.show()"
   ]
  },
  {
   "cell_type": "code",
   "execution_count": null,
   "metadata": {},
   "outputs": [],
   "source": [
    "fSelection_adaboost = ['pathLength', 'hostnameLength', 'numDigits', 'urlLength', 'numDots']\n",
    "X_train_short, X_test_short, _, _ = get_data_split(X, y, fSelection=fSelection_adaboost)\n",
    "\n",
    "adaboost = AdaBoostClassifier()\n",
    "adaboost.fit(X_train_short, y_train)\n",
    "pred = adaboost.predict(X_test_short)\n",
    "acc = accuracy_score(pred, y_test)\n",
    "\n",
    "print(f'Test Accuracy :\\033[32m \\033[01m {acc*100:.2f}% \\033[30m \\033[0m \\n')\n",
    "print(classification_report(y_test, pred, target_names=['safe_URL', 'unsafe_URL']))"
   ]
  },
  {
   "cell_type": "markdown",
   "metadata": {
    "id": "hNrnsFxo0zK0"
   },
   "source": [
    "## **Modello 3 | Random Forest**"
   ]
  },
  {
   "cell_type": "code",
   "execution_count": null,
   "metadata": {
    "id": "pxd2aPmGnJbb"
   },
   "outputs": [],
   "source": [
    "X_train, X_test, y_train, y_test = get_data_split(X, y)\n",
    "rf = RandomForestClassifier(random_state=3)\n",
    "rf.fit(X_train, y_train)\n",
    "pred = rf.predict(X_test)\n",
    "acc = accuracy_score(pred, y_test)"
   ]
  },
  {
   "cell_type": "code",
   "execution_count": null,
   "metadata": {
    "colab": {
     "base_uri": "https://localhost:8080/"
    },
    "id": "DYdbDGsoqC__",
    "outputId": "c94d8e58-fc3e-417c-ba5e-f497ba138b77"
   },
   "outputs": [],
   "source": [
    "print(f'Test Accuracy :\\033[32m \\033[01m {acc*100:.2f}% \\033[30m \\033[0m \\n')\n",
    "print(classification_report(y_test, pred, target_names=['safe_URL', 'unsafe_URL']))\n",
    "\n",
    "# cf_matrix = confusion_matrix(y_test, pred)\n",
    "# plot = sns.heatmap(cf_matrix/np.sum(cf_matrix), annot=True, fmt= '0.2%')\n",
    "# plt.show()"
   ]
  },
  {
   "cell_type": "code",
   "execution_count": null,
   "metadata": {
    "colab": {
     "base_uri": "https://localhost:8080/"
    },
    "id": "TQc-nO3QyXHr",
    "outputId": "624aa7eb-3ace-49f9-9abb-0f44a539f8b6"
   },
   "outputs": [],
   "source": [
    "feat_importances = pd.Series(rf.feature_importances_, index=X.columns)\n",
    "feat_importances.sort_values().plot(kind='barh')\n",
    "plt.show()"
   ]
  },
  {
   "cell_type": "code",
   "execution_count": null,
   "metadata": {
    "colab": {
     "base_uri": "https://localhost:8080/"
    },
    "id": "z2cYKfwgFDQk",
    "outputId": "e44f0bea-dd85-4329-8740-f7f469393e45"
   },
   "outputs": [],
   "source": [
    "fSelection = ['numDots', 'pathLength', 'urlLength', 'hostnameLength']\n",
    "X_train_short, X_test_short, _, _ = get_data_split(X, y, fSelection=fSelection)\n",
    "\n",
    "rf = RandomForestClassifier(random_state=3)\n",
    "rf.fit(X_train_short, y_train)\n",
    "pred_short = rf.predict(X_test_short)\n",
    "acc_short = accuracy_score(pred_short, y_test)\n",
    "\n",
    "print(f'Test Accuracy :\\033[32m \\033[01m {acc_short*100:.2f}% \\033[30m \\033[0m \\n')\n",
    "print(classification_report(y_test, pred_short, target_names=['safe_URL', 'unsafe_URL']))"
   ]
  },
  {
   "cell_type": "markdown",
   "metadata": {
    "id": "xDkSWFEqpPDg"
   },
   "source": [
    "## **Modello 4 | Neural Network**"
   ]
  },
  {
   "cell_type": "code",
   "execution_count": null,
   "metadata": {
    "id": "-JDMoKiNpUQ5"
   },
   "outputs": [],
   "source": [
    "class SimpleNetwork(nn.Module):\n",
    "\n",
    "    def __init__(self):\n",
    "        super().__init__()\n",
    "        self.layer_1 = nn.Linear(in_features=15, out_features=100)\n",
    "        self.layer_2 = nn.Linear(in_features=100, out_features=1)\n",
    "        self.layer_3 = nn.Tanh()\n",
    "\n",
    "    def forward(self, x):\n",
    "        return self.layer_3(self.layer_2(self.layer_1(x)))\n",
    "\n",
    "# Calculate accuracy (a classification metric)\n",
    "def accuracy_fn(y_true, y_pred):\n",
    "    correct = torch.eq(y_true, y_pred).sum().item() # torch.eq() calculates where two tensors are equal\n",
    "    acc = (correct / len(y_pred)) * 100 \n",
    "    return acc\n",
    "\n",
    "class WideNetwork(nn.Module):\n",
    "    def __init__(self):\n",
    "        super().__init__()\n",
    "        self.layer1 = nn.Linear(15, 60)\n",
    "        self.act1 = nn.ReLU()\n",
    "        self.layer2 = nn.Linear(60, 60)\n",
    "        self.act2 = nn.ReLU()\n",
    "        self.layer3 = nn.Linear(60, 60)\n",
    "        self.act3 = nn.ReLU()\n",
    "        self.output = nn.Linear(60, 1)\n",
    "        self.tanh = nn.Tanh()\n",
    " \n",
    "    def forward(self, x):\n",
    "        x = self.act1(self.layer1(x))\n",
    "        x = self.act2(self.layer2(x))\n",
    "        x = self.act3(self.layer3(x))\n",
    "        x = self.tanh(self.output(x))\n",
    "        return x"
   ]
  },
  {
   "cell_type": "code",
   "execution_count": null,
   "metadata": {
    "id": "VXw99WeGZ6Ad"
   },
   "outputs": [],
   "source": [
    "def train_NN(net, X_train_net, X_test_net, y_train_net, y_test_net, n_epochs, verbose=True):\n",
    "\n",
    "    torch.manual_seed(42)\n",
    "    loss_fn = nn.BCEWithLogitsLoss()\n",
    "    optimizer = torch.optim.SGD(params=net.parameters(), lr=0.1)\n",
    "\n",
    "    # Build training and evaluation loop\n",
    "    for epoch in range(n_epochs):\n",
    "        ### Training\n",
    "        net.train()\n",
    "\n",
    "        # 1. Forward pass (model outputs raw logits)\n",
    "        y_logits = net(X_train_net).squeeze() # squeeze to remove extra `1` dimensions, this won't work unless model and data are on same device \n",
    "        y_pred = torch.round(torch.sigmoid(y_logits)) # turn logits -> pred probs -> pred labls\n",
    "    \n",
    "        # 2. Calculate loss/accuracy\n",
    "        # loss = loss_fn(torch.sigmoid(y_logits), # Using nn.BCELoss you need torch.sigmoid()\n",
    "        #                y_train) \n",
    "\n",
    "        loss = loss_fn(y_logits, y_train_net) # Using nn.BCEWithLogitsLoss works with raw logits\n",
    "        acc = accuracy_fn(y_true=y_train_net, y_pred=y_pred) \n",
    "\n",
    "        # 3. Optimizer zero grad\n",
    "        optimizer.zero_grad()\n",
    "\n",
    "        # 4. Loss backwards\n",
    "        loss.backward()\n",
    "\n",
    "        # 5. Optimizer step\n",
    "        optimizer.step()\n",
    "\n",
    "        ### Testing\n",
    "        net.eval()\n",
    "        with torch.inference_mode():\n",
    "            # 1. Forward pass\n",
    "            test_logits = net(X_test_net).squeeze() \n",
    "            test_pred = torch.round(torch.sigmoid(test_logits))\n",
    "            # 2. Caculate loss/accuracy\n",
    "            test_loss = loss_fn(test_logits, y_test_net)\n",
    "            test_acc = accuracy_fn(y_true=y_test_net, y_pred=test_pred)\n",
    "\n",
    "        # Print out what's happening every 10 epochs\n",
    "        if epoch % 100 == 0 and verbose == True:\n",
    "            print(f\"Epoch: {epoch} | Loss: {loss:.5f}, Accuracy: {acc:.2f}% | Test loss: {test_loss:.5f}, Test acc: {test_acc:.2f}%\")"
   ]
  },
  {
   "cell_type": "code",
   "execution_count": null,
   "metadata": {
    "colab": {
     "base_uri": "https://localhost:8080/"
    },
    "id": "fWDz1hvphJZr",
    "outputId": "a0294d46-2570-48a4-c790-510555f0eabe"
   },
   "outputs": [],
   "source": [
    "X_train_net, X_test_net, y_train_net, y_test_net = get_data_split(X, y, isTensor=True)\n",
    "X_train_scal, X_test_scal, _, _ = get_data_split(X, y, isScaled=True, isTensor=True)\n",
    "\n",
    "net1 = SimpleNetwork().to(device)\n",
    "print(''.join(['> ' for i in range(40)]))\n",
    "print(f'\\n{\"SIMPLE NETWORK ON ORIGINAL DATA\":<25}\\n')\n",
    "print(''.join(['> ' for i in range(40)]))\n",
    "train_NN(net1, X_train_net, X_test_net, y_train_net, y_test_net, n_epochs=1000, verbose=True)\n",
    "\n",
    "net2 = SimpleNetwork().to(device)\n",
    "print(''.join(['> ' for i in range(40)]))\n",
    "print(f'\\n{\"SIMPLE NETWORK ON SCALED DATA\":<25}\\n')\n",
    "print(''.join(['> ' for i in range(40)]))\n",
    "train_NN(net2, X_train_net, X_test_net, y_train_net, y_test_net, n_epochs=1000, verbose=True)"
   ]
  },
  {
   "cell_type": "code",
   "execution_count": null,
   "metadata": {
    "colab": {
     "base_uri": "https://localhost:8080/"
    },
    "id": "uUq9idHNvElc",
    "outputId": "038ab47a-ef5c-42f1-b059-ea24164fe0f2"
   },
   "outputs": [],
   "source": [
    "net3 = WideNetwork().to(device)\n",
    "print(''.join(['> ' for i in range(40)]))\n",
    "print(f'\\n{\"WIDE NETWORK ON ORIGINAL DATA\":<25}\\n')\n",
    "print(''.join(['> ' for i in range(40)]))\n",
    "train_NN(net3, X_train_net, X_test_net, y_train_net, y_test_net, n_epochs=1000, verbose=True)\n",
    "\n",
    "net4 = WideNetwork().to(device)\n",
    "print(''.join(['> ' for i in range(40)]))\n",
    "print(f'\\n{\"WIDE NETWORK ON SCALED DATA\":<25}\\n')\n",
    "print(''.join(['> ' for i in range(40)]))\n",
    "train_NN(net4, X_train_net, X_test_net, y_train_net, y_test_net, n_epochs=1000, verbose=True)"
   ]
  },
  {
   "cell_type": "markdown",
   "metadata": {
    "id": "tyI2qhQIy0_U"
   },
   "source": [
    "#**6) EXPERIMENTAL PLAYGROUND**\n",
    "\n",
    "---\n",
    "\n"
   ]
  },
  {
   "cell_type": "markdown",
   "metadata": {},
   "source": [
    "## **SVM | PCA Features**"
   ]
  },
  {
   "cell_type": "code",
   "execution_count": null,
   "metadata": {},
   "outputs": [],
   "source": [
    "features_PCA = {}\n",
    "\n",
    "for i in range(2,10,2):\n",
    "    X_pca_i = get_pca_features(i)\n",
    "    \n",
    "    # Split dataset\n",
    "    X_train_pca, X_test_pca, y_train, y_test = train_test_split(\n",
    "        X_pca_i.astype('float64'), \n",
    "        y.values.astype('float64'),\n",
    "        train_size = .8,\n",
    "        test_size = .2,\n",
    "        random_state = 2,\n",
    "        shuffle = True,\n",
    "        stratify = y)\n",
    "    \n",
    "    key_i = str(i)\n",
    "    features_PCA[key_i] = {}\n",
    "    features_PCA[key_i]['X_train'] = X_train_pca\n",
    "    features_PCA[key_i]['X_test'] = X_test_pca\n",
    "    features_PCA[key_i]['y_train'] = y_train\n",
    "    features_PCA[key_i]['y_test'] = y_test"
   ]
  },
  {
   "cell_type": "code",
   "execution_count": null,
   "metadata": {},
   "outputs": [],
   "source": [
    "# Training and evaluate SVM on different number of components\n",
    "for k in features_PCA.keys():\n",
    "    X_train = features_PCA[k]['X_train']\n",
    "    X_test = features_PCA[k]['X_test']\n",
    "    y_train = features_PCA[k]['y_train']\n",
    "    y_test = features_PCA[k]['y_test']\n",
    "    \n",
    "     \n",
    "    # Model training\n",
    "    svc_i = SVC(kernel='rbf')\n",
    "    svc_i.fit(X_train, y_train)\n",
    "    pred_i = svc_i.predict(X_test)\n",
    "    acc_i = accuracy_score(pred_i, y_test)\n",
    "    \n",
    "    print(\"Number of components: \\033[34m %s \\033[0m\"%k)\n",
    "    print(f'Test Accuracy :\\033[32m \\033[01m {acc_i*100:.2f}% \\033[30m \\033[0m \\n')\n",
    "    print(classification_report(y_test, pred_i, target_names=['safe_URL', 'unsafe_URL']))"
   ]
  },
  {
   "cell_type": "markdown",
   "metadata": {},
   "source": [
    "## **SVM | Autoencoder Features**"
   ]
  },
  {
   "cell_type": "code",
   "execution_count": null,
   "metadata": {},
   "outputs": [],
   "source": []
  },
  {
   "cell_type": "markdown",
   "metadata": {},
   "source": [
    "## **SVM | Different kernels**"
   ]
  },
  {
   "cell_type": "code",
   "execution_count": null,
   "metadata": {},
   "outputs": [],
   "source": [
    "kernels = ['linear', 'poly', 'rbf', 'sigmoid']\n",
    "\n",
    "for k in kernels:\n",
    "    X_train, X_test, y_train, y_test = get_data_split(X, y)\n",
    "    svc = SVC(kernel=k)\n",
    "    svc.fit(X_train, y_train)\n",
    "    pred = svc.predict(X_test)\n",
    "    acc = accuracy_score(pred, y_test)\n",
    "    \n",
    "    print(\"Kernel: \\033[34m%s \\033[0m\"%k)\n",
    "    print(f'Test Accuracy :\\033[32m \\033[01m {acc*100:.2f}% \\033[30m \\033[0m \\n')\n",
    "    print(classification_report(y_test, pred, target_names=['safe_URL', 'unsafe_URL']))"
   ]
  },
  {
   "cell_type": "markdown",
   "metadata": {},
   "source": [
    "## **ADABoost | PCA Features**"
   ]
  },
  {
   "cell_type": "code",
   "execution_count": null,
   "metadata": {},
   "outputs": [],
   "source": [
    "# Training and evaluate ADABoost on different number of components\n",
    "for k in features_PCA.keys():\n",
    "    X_train = features_PCA[k]['X_train']\n",
    "    X_test = features_PCA[k]['X_test']\n",
    "    y_train = features_PCA[k]['y_train']\n",
    "    y_test = features_PCA[k]['y_test']\n",
    "    \n",
    "    adaboost = AdaBoostClassifier()\n",
    "    adaboost.fit(X_train, y_train)\n",
    "    pred = adaboost.predict(X_test)\n",
    "    acc = accuracy_score(pred, y_test)\n",
    "    \n",
    "    print(\"Number of components: \\033[34m %s \\033[0m\"%k)\n",
    "    print(f'Test Accuracy :\\033[32m \\033[01m {acc*100:.2f}% \\033[30m \\033[0m \\n')\n",
    "    print(classification_report(y_test, pred, target_names=['safe_URL', 'unsafe_URL']))"
   ]
  },
  {
   "cell_type": "markdown",
   "metadata": {},
   "source": [
    "## **ADABoost | Autoencoder Features**"
   ]
  },
  {
   "cell_type": "code",
   "execution_count": null,
   "metadata": {},
   "outputs": [],
   "source": []
  },
  {
   "cell_type": "markdown",
   "metadata": {
    "id": "Hbmtb8OQHCem"
   },
   "source": [
    "## **Random Forest | Hyperpar. Tuning**"
   ]
  },
  {
   "cell_type": "code",
   "execution_count": null,
   "metadata": {
    "colab": {
     "base_uri": "https://localhost:8080/",
     "height": 381
    },
    "id": "Ht-95SAH7FFg",
    "outputId": "066fff9b-2f7b-4e61-a732-90f0cf355f82"
   },
   "outputs": [],
   "source": [
    "acc_gini = []\n",
    "acc_entropy = []\n",
    "acc_log = []\n",
    "max_iter = 100\n",
    "\n",
    "for i in range(max_iter):\n",
    "    rf_gini = RandomForestClassifier(criterion='gini', random_state=i)\n",
    "    rf_gini.fit(X_train, y_train)\n",
    "    pred = rf_gini.predict(X_test)\n",
    "    acc_gini.append(accuracy_score(pred, y_test))\n",
    "\n",
    "    rf_entropy = RandomForestClassifier(criterion='entropy', random_state=i)\n",
    "    rf_entropy.fit(X_train, y_train)\n",
    "    pred = rf_entropy.predict(X_test)\n",
    "    acc_entropy.append(accuracy_score(pred, y_test))\n",
    "    \n",
    "    '''\n",
    "    rf_log = RandomForestClassifier(criterion='log_loss', random_state=i)\n",
    "    rf_log.fit(X_train, y_train)\n",
    "    pred = rf_log.predict(X_test)\n",
    "    acc_log.append(accuracy_score(pred, y_test))'''\n",
    "\n",
    "print(''.join(['> ' for i in range(40)]))\n",
    "print(f'\\n{\"\":<25}{\"GINI\":<18}{\"ENTROPY\":<18}{\"LOG_LOSS\":<18}\\n')\n",
    "print(''.join(['> ' for i in range(40)]))\n",
    "print(f'\\n{\"MEAN_ACCURACY\":<25}{np.mean(acc_gini):<18.4}{np.mean(acc_entropy):<18.4}{np.mean(acc_log):<18.4}\\n')"
   ]
  },
  {
   "cell_type": "code",
   "execution_count": null,
   "metadata": {
    "colab": {
     "base_uri": "https://localhost:8080/",
     "height": 626
    },
    "id": "zofP7h4xT3Ab",
    "outputId": "7b344dca-1e4d-462c-ac60-bd79e8b21f3a"
   },
   "outputs": [],
   "source": [
    "plt.plot([i for i in range(len(acc_gini[:50]))], acc_gini[:50], label=\"acc_gini\")\n",
    "plt.plot(acc_entropy[:50], label=\"acc_entropy\")\n",
    "plt.plot(acc_log[:50], label=\"acc_log\")\n",
    "\n",
    "plt.xticks(rotation = 60, ha=\"right\")\n",
    "plt.xlabel('RANDOM STATE', labelpad=20)\n",
    "plt.ylabel('ACCURACY', labelpad=20)\n",
    "plt.legend()"
   ]
  },
  {
   "cell_type": "code",
   "execution_count": null,
   "metadata": {
    "colab": {
     "base_uri": "https://localhost:8080/"
    },
    "id": "yWix1iaCHPYn",
    "outputId": "7a46a7ce-dad8-442f-9bc0-9fe2c2a2c406"
   },
   "outputs": [],
   "source": [
    "# Number of trees in random forest\n",
    "n_estimators = [i * 100 for i in range(1, 11)]\n",
    "# Number of features to consider at every split\n",
    "max_features = ['log2', 'sqrt']\n",
    "# Maximum number of levels in tree\n",
    "max_depth = [int(x) for x in np.linspace(10, 100, num = 11)]\n",
    "max_depth.append(None)\n",
    "# Minimum number of samples required to split a node\n",
    "min_samples_split = [2, 5, 10]\n",
    "# Minimum number of samples required at each leaf node\n",
    "min_samples_leaf = [1, 2, 4]\n",
    "# Method of selecting samples for training each tree\n",
    "bootstrap = [True, False]\n",
    "# Create the random grid\n",
    "random_grid = {'n_estimators': n_estimators,\n",
    "               'max_features': max_features,\n",
    "               'max_depth': max_depth,\n",
    "               'min_samples_split': min_samples_split,\n",
    "               'min_samples_leaf': min_samples_leaf,\n",
    "               'bootstrap': bootstrap}\n",
    "\n",
    "print(''.join(['> ' for i in range(40)]))\n",
    "print(f'\\n{\"HYPERPARAMETER\":<25}{\"RANGE_VALUES\":<18}\\n')\n",
    "print(''.join(['> ' for i in range(40)]))\n",
    "for k, v in random_grid.items():\n",
    "    print(f'\\n{k:<25}{str(v):<18}')"
   ]
  },
  {
   "cell_type": "code",
   "execution_count": null,
   "metadata": {
    "colab": {
     "base_uri": "https://localhost:8080/"
    },
    "id": "shWqYOOZJqxw",
    "outputId": "dbb313b6-d90f-40ee-c23e-320d23c7c196"
   },
   "outputs": [],
   "source": [
    "# Use the random grid to search for best hyperparameters\n",
    "# First create the base model to tune\n",
    "rf = RandomForestClassifier(random_state=3)\n",
    "# Random search of parameters, using 5 fold cross validation, \n",
    "# search across 100 different combinations, and use all available cores\n",
    "rf_random = RandomizedSearchCV(\n",
    "                estimator = rf,\n",
    "                param_distributions = random_grid,\n",
    "                n_iter = 100, cv = 5, verbose = 2, random_state = 3, n_jobs = -1)\n",
    "# Fit the random search model\n",
    "rf_random.fit(X_train, y_train)\n",
    "\n",
    "print(rf_random.best_params_)"
   ]
  },
  {
   "cell_type": "code",
   "execution_count": null,
   "metadata": {
    "colab": {
     "base_uri": "https://localhost:8080/"
    },
    "id": "XVxAkk_5g7Ip",
    "outputId": "068051ad-2cfb-455f-c04d-c1fb635cc24c"
   },
   "outputs": [],
   "source": [
    "base_model = RandomForestClassifier(random_state=3)\n",
    "base_model.fit(X_train, y_train)\n",
    "base_pred = base_model.predict(X_test)\n",
    "base_accuracy = accuracy_score(base_pred, y_test)\n",
    "\n",
    "best_model = rf_random.best_estimator_\n",
    "best_model.fit(X_train, y_train)\n",
    "best_pred = best_model.predict(X_test)\n",
    "best_accuracy = accuracy_score(best_pred, y_test)\n",
    "\n",
    "gain = ((best_accuracy - base_accuracy) * 100 / base_accuracy)\n",
    "\n",
    "print(''.join(['> ' for i in range(40)]))\n",
    "print(f'\\n{\"\":<25}{\"BASE_MODEL\":<18}{\"BEST_MODEL\":<18}{\"IMPROVEMENT\":<18}\\n')\n",
    "print(''.join(['> ' for i in range(40)]))\n",
    "print(f'\\n{\"ACCURACY\":<25}{base_accuracy:<18.4}{best_accuracy:<18.4}{gain:<18.2f}\\n')"
   ]
  },
  {
   "cell_type": "code",
   "execution_count": null,
   "metadata": {
    "colab": {
     "base_uri": "https://localhost:8080/"
    },
    "id": "OXF0ip5Uj87e",
    "outputId": "0081260b-48cb-4df5-813a-c973f27b4b41"
   },
   "outputs": [],
   "source": [
    "# Use the random grid to search for best hyperparameters\n",
    "# First create the base model to tune\n",
    "rf = RandomForestClassifier(random_state=3)\n",
    "# Random search of parameters, using 5 fold cross validation, \n",
    "# search across 100 different combinations, and use all available cores\n",
    "param_grid = {\n",
    "               'n_estimators': [100, 200, 300],\n",
    "               'max_features': ['log2'],\n",
    "               'criterion': ['entropy'],\n",
    "               'max_depth': [10, 19],\n",
    "               'min_samples_split': [2, 5],\n",
    "               'min_samples_leaf': [1, 2],\n",
    "               'bootstrap': [True, False]\n",
    "              }\n",
    "grid_search = GridSearchCV(estimator = rf, param_grid = param_grid, \n",
    "                          cv = 5, n_jobs = -1, verbose = 2)\n",
    "# Fit the random search model\n",
    "grid_search.fit(X_train, y_train)\n",
    "\n",
    "print(grid_search.best_params_)"
   ]
  },
  {
   "cell_type": "code",
   "execution_count": null,
   "metadata": {
    "colab": {
     "base_uri": "https://localhost:8080/"
    },
    "id": "iqedy3eQouRD",
    "outputId": "794ce820-14fb-473a-821c-355e29f1d4c6"
   },
   "outputs": [],
   "source": [
    "best_model_g = grid_search.best_estimator_\n",
    "best_model_g.fit(X_train, y_train)\n",
    "best_pred_g = best_model_g.predict(X_test)\n",
    "best_accuracy_g = accuracy_score(best_pred_g, y_test)\n",
    "\n",
    "gain = ((best_accuracy_g - base_accuracy) * 100 / base_accuracy)\n",
    "\n",
    "print(''.join(['> ' for i in range(40)]))\n",
    "print(f'\\n{\"\":<25}{\"BASE_MODEL\":<18}{\"BEST_MODEL\":<18}{\"IMPROVEMENT\":<18}\\n')\n",
    "print(''.join(['> ' for i in range(40)]))\n",
    "print(f'\\n{\"ACCURACY\":<25}{base_accuracy:<18.4}{best_accuracy_g:<18.4}{gain:<18.2f}\\n')"
   ]
  },
  {
   "cell_type": "code",
   "execution_count": null,
   "metadata": {
    "id": "D6WXRlvVvfxZ"
   },
   "outputs": [],
   "source": [
    "from sklearn.model_selection import cross_val_score\n",
    "\n",
    "best_param = {\n",
    "    'n_estimators': 200,\n",
    "    'criterion': 'entropy',\n",
    "    'max_depth': 10,\n",
    "    'min_samples_leaf': 1,\n",
    "    'min_samples_split': 2,\n",
    "    'max_features': 'log2',\n",
    "    'bootstrap': False,\n",
    "    'random_state': 3\n",
    "}\n",
    "\n",
    "rf_cv = RandomForestClassifier(best_param)\n",
    "rf_cv.fit(X_train, y_train)\n",
    "pred_cv = rf_cv.predict(X_test)\n",
    "\n",
    "scores = cross_val_score(rf_cv, X, y, cv=5)"
   ]
  }
 ],
 "metadata": {
  "colab": {
   "collapsed_sections": [
    "FQ6dOsrRyGHf",
    "9_IJyGOCyWMV",
    "bsNop2ZoydGH",
    "hNrnsFxo0zK0",
    "xDkSWFEqpPDg"
   ],
   "gpuType": "T4",
   "provenance": [],
   "toc_visible": true
  },
  "gpuClass": "standard",
  "kernelspec": {
   "display_name": "Python 3 (ipykernel)",
   "language": "python",
   "name": "python3"
  },
  "language_info": {
   "codemirror_mode": {
    "name": "ipython",
    "version": 3
   },
   "file_extension": ".py",
   "mimetype": "text/x-python",
   "name": "python",
   "nbconvert_exporter": "python",
   "pygments_lexer": "ipython3",
   "version": "3.10.4"
  }
 },
 "nbformat": 4,
 "nbformat_minor": 1
}
